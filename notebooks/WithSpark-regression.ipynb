{
 "cells": [
  {
   "cell_type": "code",
   "execution_count": 19,
   "metadata": {},
   "outputs": [
    {
     "name": "stdout",
     "output_type": "stream",
     "text": [
      "The autoreload extension is already loaded. To reload it, use:\n",
      "  %reload_ext autoreload\n"
     ]
    }
   ],
   "source": [
    "%load_ext autoreload\n",
    "%autoreload 2"
   ]
  },
  {
   "cell_type": "code",
   "execution_count": 20,
   "metadata": {},
   "outputs": [],
   "source": [
    "%matplotlib inline \n",
    "import matplotlib\n",
    "import matplotlib.pyplot as plt"
   ]
  },
  {
   "cell_type": "markdown",
   "metadata": {},
   "source": [
    "### Import package"
   ]
  },
  {
   "cell_type": "code",
   "execution_count": 21,
   "metadata": {},
   "outputs": [],
   "source": [
    "import sys\n",
    "import os\n",
    "sys.path.append('../')\n",
    "import findspark\n",
    "findspark.init()\n",
    "import pyspark\n",
    "from pyspark.sql import SparkSession\n",
    "spark = SparkSession.builder.master(\"local[*]\").appName(\"Data cleaning\").getOrCreate()\n",
    "from pyspark.ml.evaluation import MulticlassClassificationEvaluator\n",
    "from yaml import load as yaml_load"
   ]
  },
  {
   "cell_type": "markdown",
   "metadata": {},
   "source": [
    "### Import classes from src"
   ]
  },
  {
   "cell_type": "code",
   "execution_count": 22,
   "metadata": {},
   "outputs": [],
   "source": [
    "from src.data.make_dataset import LoadDataframe\n",
    "from src.features.build_features import extract_features_regression\n",
    "from src.models.train_model import model_regression"
   ]
  },
  {
   "cell_type": "markdown",
   "metadata": {},
   "source": [
    "### Functions to load yaml file configuration"
   ]
  },
  {
   "cell_type": "code",
   "execution_count": 23,
   "metadata": {},
   "outputs": [],
   "source": [
    "def _load_config_file(config_file):\n",
    "    \"\"\"\n",
    "    Load configuration file\n",
    "    :param config_file: is the configuration file\n",
    "    :return: configuration\n",
    "    :rtype: dict\n",
    "    \"\"\"\n",
    "    with open(config_file) as yml_config:\n",
    "        return yaml_load(yml_config)\n",
    "\n",
    "def _build_configuration(config_file):\n",
    "    \"\"\"\n",
    "    Build the operation configuration dict\n",
    "    :param config_file: is the path to the yaml config_file\n",
    "    :type: string\n",
    "    :return: config: global configuration\n",
    "    :rtype dict\n",
    "    \"\"\"\n",
    "    # yaml config\n",
    "    config = _load_config_file(config_file)\n",
    "    return config\n"
   ]
  },
  {
   "cell_type": "code",
   "execution_count": 24,
   "metadata": {},
   "outputs": [],
   "source": [
    "def visualisation_prediction(y_test, y_pred):\n",
    "    import matplotlib.pyplot as plt\n",
    "    import matplotlib\n",
    "    matplotlib.rc('xtick', labelsize=30) \n",
    "    matplotlib.rc('ytick', labelsize=30) \n",
    "    fig, ax = plt.subplots(figsize=(50, 40))\n",
    "    plt.style.use('ggplot')\n",
    "    plt.plot(y_pred, y_test, 'ro')\n",
    "    plt.xlabel('Predicted Crime', fontsize = 30)\n",
    "    plt.ylabel('Actual Crime', fontsize = 30)\n",
    "    plt.title('Predicted Y (Crimes) to the Actual Y (Crimes)', fontsize = 30)\n",
    "    ax.plot([y_test.min(), y_test.max()], [y_test.min(), y_test.max()], 'k--', lw=4)"
   ]
  },
  {
   "cell_type": "markdown",
   "metadata": {},
   "source": [
    "### Loads yaml file configuration"
   ]
  },
  {
   "cell_type": "code",
   "execution_count": 25,
   "metadata": {},
   "outputs": [],
   "source": [
    "config_file = \"/home/ml/Documents/Crime_Chigaco_Spark/config/config.yml\"\n",
    "config = _build_configuration(config_file)"
   ]
  },
  {
   "cell_type": "code",
   "execution_count": 26,
   "metadata": {},
   "outputs": [
    {
     "data": {
      "text/plain": [
       "{'train': True, 'start_date': 2012, 'end_date': 2013}"
      ]
     },
     "execution_count": 26,
     "metadata": {},
     "output_type": "execute_result"
    }
   ],
   "source": [
    "config['model_ML_regression']['train_mode']"
   ]
  },
  {
   "cell_type": "markdown",
   "metadata": {},
   "source": [
    "### Loads  LoadDataframe class, for more informations you can use help(LoadDataframe)"
   ]
  },
  {
   "cell_type": "code",
   "execution_count": 27,
   "metadata": {},
   "outputs": [
    {
     "name": "stdout",
     "output_type": "stream",
     "text": [
      "CPU times: user 247 µs, sys: 50 µs, total: 297 µs\n",
      "Wall time: 303 µs\n"
     ]
    }
   ],
   "source": [
    "%%time\n",
    "obj_df_loaded = LoadDataframe(config, '2012', '2013')"
   ]
  },
  {
   "cell_type": "code",
   "execution_count": null,
   "metadata": {},
   "outputs": [],
   "source": [
    "df_nb_crimes = obj_df_loaded.df_nb_crimes()"
   ]
  },
  {
   "cell_type": "code",
   "execution_count": null,
   "metadata": {
    "scrolled": true
   },
   "outputs": [],
   "source": [
    "df_nb_crimes.limit(5).toPandas().T"
   ]
  },
  {
   "cell_type": "code",
   "execution_count": 12,
   "metadata": {},
   "outputs": [],
   "source": [
    "obj_extract_features_regression =  extract_features_regression(config, df_nb_crimes)"
   ]
  },
  {
   "cell_type": "code",
   "execution_count": 13,
   "metadata": {},
   "outputs": [],
   "source": [
    "df_ml = obj_extract_features_regression.extract_feature()"
   ]
  },
  {
   "cell_type": "code",
   "execution_count": 16,
   "metadata": {},
   "outputs": [
    {
     "name": "stderr",
     "output_type": "stream",
     "text": [
      "/usr/lib/spark/spark-2.4.0-bin-hadoop2.7/python/pyspark/sql/dataframe.py:1793: UserWarning: to_replace is a dict and value is not None. value will be ignored.\n",
      "  warnings.warn(\"to_replace is a dict and value is not None. value will be ignored.\")\n"
     ]
    }
   ],
   "source": [
    "df_crime = obj_df_loaded.df_crime()"
   ]
  },
  {
   "cell_type": "code",
   "execution_count": null,
   "metadata": {
    "scrolled": false
   },
   "outputs": [],
   "source": []
  },
  {
   "cell_type": "code",
   "execution_count": 14,
   "metadata": {
    "scrolled": false
   },
   "outputs": [
    {
     "name": "stdout",
     "output_type": "stream",
     "text": [
      "root\n",
      " |-- label: long (nullable = false)\n",
      " |-- pct_housing_crowded: double (nullable = false)\n",
      " |-- pct_households_below_poverty: double (nullable = false)\n",
      " |-- pct_age16_unemployed: double (nullable = false)\n",
      " |-- pct_age25_no_highschool: double (nullable = false)\n",
      " |-- pct_not_working_age: double (nullable = false)\n",
      " |-- per_capita_income: double (nullable = false)\n",
      " |-- hardship_index: double (nullable = false)\n",
      " |-- primary_type_ARSON: long (nullable = true)\n",
      " |-- primary_type_CRIM SEXUAL ASSAULT: long (nullable = true)\n",
      " |-- primary_type_CRIMINAL DAMAGE: long (nullable = true)\n",
      " |-- primary_type_CRIMINAL TRESPASS: long (nullable = true)\n",
      " |-- primary_type_DECEPTIVE PRACTICE: long (nullable = true)\n",
      " |-- primary_type_GAMBLING: long (nullable = true)\n",
      " |-- primary_type_HOMICIDE: long (nullable = true)\n",
      " |-- primary_type_INTERFERENCE WITH PUBLIC OFFICER: long (nullable = true)\n",
      " |-- primary_type_INTIMIDATION: long (nullable = true)\n",
      " |-- primary_type_KIDNAPPING: long (nullable = true)\n",
      " |-- primary_type_LIQUOR LAW VIOLATION: long (nullable = true)\n",
      " |-- primary_type_MOTOR VEHICLE THEFT: long (nullable = true)\n",
      " |-- primary_type_NARCOTICS: long (nullable = true)\n",
      " |-- primary_type_NON-CRIMINAL: long (nullable = true)\n",
      " |-- primary_type_OBSCENITY: long (nullable = true)\n",
      " |-- primary_type_OFFENSE INVOLVING CHILDREN: long (nullable = true)\n",
      " |-- primary_type_OTHER NARCOTIC VIOLATION: long (nullable = true)\n",
      " |-- primary_type_OTHER OFFENSE: long (nullable = true)\n",
      " |-- primary_type_PROSTITUTION: long (nullable = true)\n",
      " |-- primary_type_PUBLIC INDECENCY: long (nullable = true)\n",
      " |-- primary_type_PUBLIC PEACE VIOLATION: long (nullable = true)\n",
      " |-- primary_type_SEX OFFENSE: long (nullable = true)\n",
      " |-- primary_type_STALKING: long (nullable = true)\n",
      " |-- primary_type_WEAPONS VIOLATION: long (nullable = true)\n",
      " |-- community_area_name_Albany Park: long (nullable = true)\n",
      " |-- community_area_name_Archer Heights: long (nullable = true)\n",
      " |-- community_area_name_Armour Square: long (nullable = true)\n",
      " |-- community_area_name_Ashburn: long (nullable = true)\n",
      " |-- community_area_name_Auburn Gresham: long (nullable = true)\n",
      " |-- community_area_name_Austin: long (nullable = true)\n",
      " |-- community_area_name_Avalon Park: long (nullable = true)\n",
      " |-- community_area_name_Avondale: long (nullable = true)\n",
      " |-- community_area_name_Belmont Cragin: long (nullable = true)\n",
      " |-- community_area_name_Beverly: long (nullable = true)\n",
      " |-- community_area_name_Bridgeport: long (nullable = true)\n",
      " |-- community_area_name_Brighton Park: long (nullable = true)\n",
      " |-- community_area_name_Burnside: long (nullable = true)\n",
      " |-- community_area_name_Calumet Heights: long (nullable = true)\n",
      " |-- community_area_name_Chatham: long (nullable = true)\n",
      " |-- community_area_name_Chicago Lawn: long (nullable = true)\n",
      " |-- community_area_name_Clearing: long (nullable = true)\n",
      " |-- community_area_name_Douglas: long (nullable = true)\n",
      " |-- community_area_name_Dunning: long (nullable = true)\n",
      " |-- community_area_name_East Garfield Park: long (nullable = true)\n",
      " |-- community_area_name_East Side: long (nullable = true)\n",
      " |-- community_area_name_Edgewater: long (nullable = true)\n",
      " |-- community_area_name_Edison Park: long (nullable = true)\n",
      " |-- community_area_name_Englewood: long (nullable = true)\n",
      " |-- community_area_name_Forest Glen: long (nullable = true)\n",
      " |-- community_area_name_Fuller Park: long (nullable = true)\n",
      " |-- community_area_name_Gage Park: long (nullable = true)\n",
      " |-- community_area_name_Garfield Ridge: long (nullable = true)\n",
      " |-- community_area_name_Grand Boulevard: long (nullable = true)\n",
      " |-- community_area_name_Greater Grand Crossing: long (nullable = true)\n",
      " |-- community_area_name_Hegewisch: long (nullable = true)\n",
      " |-- community_area_name_Hermosa: long (nullable = true)\n",
      " |-- community_area_name_Humboldt park: long (nullable = true)\n",
      " |-- community_area_name_Hyde Park: long (nullable = true)\n",
      " |-- community_area_name_Irving Park: long (nullable = true)\n",
      " |-- community_area_name_Jefferson Park: long (nullable = true)\n",
      " |-- community_area_name_Kenwood: long (nullable = true)\n",
      " |-- community_area_name_Lake View: long (nullable = true)\n",
      " |-- community_area_name_Lincoln Park: long (nullable = true)\n",
      " |-- community_area_name_Lincoln Square: long (nullable = true)\n",
      " |-- community_area_name_Logan Square: long (nullable = true)\n",
      " |-- community_area_name_Loop: long (nullable = true)\n",
      " |-- community_area_name_Lower West Side: long (nullable = true)\n",
      " |-- community_area_name_McKinley Park: long (nullable = true)\n",
      " |-- community_area_name_Montclaire: long (nullable = true)\n",
      " |-- community_area_name_Morgan Park: long (nullable = true)\n",
      " |-- community_area_name_Mount Greenwood: long (nullable = true)\n",
      " |-- community_area_name_Near North Side: long (nullable = true)\n",
      " |-- community_area_name_Near South Side: long (nullable = true)\n",
      " |-- community_area_name_Near West Side: long (nullable = true)\n",
      " |-- community_area_name_New City: long (nullable = true)\n",
      " |-- community_area_name_North Center: long (nullable = true)\n",
      " |-- community_area_name_North Lawndale: long (nullable = true)\n",
      " |-- community_area_name_North Park: long (nullable = true)\n",
      " |-- community_area_name_Norwood Park: long (nullable = true)\n",
      " |-- community_area_name_O'Hare: long (nullable = true)\n",
      " |-- community_area_name_Oakland: long (nullable = true)\n",
      " |-- community_area_name_Portage Park: long (nullable = true)\n",
      " |-- community_area_name_Pullman: long (nullable = true)\n",
      " |-- community_area_name_Riverdale: long (nullable = true)\n",
      " |-- community_area_name_Rogers Park: long (nullable = true)\n",
      " |-- community_area_name_Roseland: long (nullable = true)\n",
      " |-- community_area_name_South Chicago: long (nullable = true)\n",
      " |-- community_area_name_South Deering: long (nullable = true)\n",
      " |-- community_area_name_South Lawndale: long (nullable = true)\n",
      " |-- community_area_name_South Shore: long (nullable = true)\n",
      " |-- community_area_name_Uptown: long (nullable = true)\n",
      " |-- community_area_name_Washington Height: long (nullable = true)\n",
      " |-- community_area_name_Washington Park: long (nullable = true)\n",
      " |-- community_area_name_West Elsdon: long (nullable = true)\n",
      " |-- community_area_name_West Englewood: long (nullable = true)\n",
      " |-- community_area_name_West Garfield Park: long (nullable = true)\n",
      " |-- community_area_name_West Lawn: long (nullable = true)\n",
      " |-- community_area_name_West Pullman: long (nullable = true)\n",
      " |-- community_area_name_West Ridge: long (nullable = true)\n",
      " |-- community_area_name_West Town: long (nullable = true)\n",
      " |-- community_area_name_Woodlawn: long (nullable = true)\n",
      " |-- month_1: long (nullable = true)\n",
      " |-- month_2: long (nullable = true)\n",
      " |-- month_3: long (nullable = true)\n",
      " |-- month_4: long (nullable = true)\n",
      " |-- month_5: long (nullable = true)\n",
      " |-- month_6: long (nullable = true)\n",
      " |-- month_7: long (nullable = true)\n",
      " |-- month_8: long (nullable = true)\n",
      " |-- month_9: long (nullable = true)\n",
      " |-- month_10: long (nullable = true)\n",
      " |-- month_11: long (nullable = true)\n",
      " |-- month_12: long (nullable = true)\n",
      "\n"
     ]
    }
   ],
   "source": [
    "df_ml.printSchema()"
   ]
  },
  {
   "cell_type": "code",
   "execution_count": null,
   "metadata": {},
   "outputs": [],
   "source": [
    "obj_model_regression = model_regression(config, df_ml)"
   ]
  },
  {
   "cell_type": "code",
   "execution_count": null,
   "metadata": {},
   "outputs": [],
   "source": [
    "model = obj_model_regression.train_model()"
   ]
  },
  {
   "cell_type": "markdown",
   "metadata": {},
   "source": [
    "### the model will be tested on 2014 data"
   ]
  },
  {
   "cell_type": "code",
   "execution_count": null,
   "metadata": {},
   "outputs": [],
   "source": [
    "%%time\n",
    "obj_df_loaded_2014 = LoadDataframe(config, '2014', '2015')"
   ]
  },
  {
   "cell_type": "markdown",
   "metadata": {},
   "source": [
    "### Loads data for testing"
   ]
  },
  {
   "cell_type": "code",
   "execution_count": null,
   "metadata": {},
   "outputs": [],
   "source": [
    "df_nb_crimes_2014 = obj_df_loaded.df_nb_crimes()"
   ]
  },
  {
   "cell_type": "markdown",
   "metadata": {},
   "source": [
    "### Extract features for 2014 data"
   ]
  },
  {
   "cell_type": "code",
   "execution_count": null,
   "metadata": {},
   "outputs": [],
   "source": [
    "obj_extract_features_regression_2014 =  extract_features_regression(config, df_nb_crimes_2014)\n",
    "df_ml_2014 = obj_extract_features_regression_2014.extract_feature()"
   ]
  },
  {
   "cell_type": "markdown",
   "metadata": {},
   "source": [
    "### Prediction"
   ]
  },
  {
   "cell_type": "code",
   "execution_count": null,
   "metadata": {},
   "outputs": [],
   "source": [
    "predictions = model.transform(df_ml_2014)"
   ]
  },
  {
   "cell_type": "markdown",
   "metadata": {},
   "source": [
    "### Show some results"
   ]
  },
  {
   "cell_type": "code",
   "execution_count": null,
   "metadata": {
    "scrolled": false
   },
   "outputs": [],
   "source": [
    "prediction_df = predictions.select('label','prediction').toPandas()"
   ]
  },
  {
   "cell_type": "markdown",
   "metadata": {},
   "source": [
    "## Score "
   ]
  },
  {
   "cell_type": "code",
   "execution_count": null,
   "metadata": {
    "scrolled": true
   },
   "outputs": [],
   "source": [
    "predictions.printSchema()"
   ]
  },
  {
   "cell_type": "code",
   "execution_count": null,
   "metadata": {},
   "outputs": [],
   "source": [
    "visualisation_prediction(prediction_df['label'], prediction_df['prediction'])"
   ]
  },
  {
   "cell_type": "code",
   "execution_count": null,
   "metadata": {},
   "outputs": [],
   "source": [
    "from sklearn.metrics import mean_squared_error\n",
    "from sklearn.metrics import r2_score\n",
    "from sklearn.metrics import explained_variance_score\n",
    "from sklearn.metrics import mean_absolute_error"
   ]
  },
  {
   "cell_type": "code",
   "execution_count": null,
   "metadata": {},
   "outputs": [],
   "source": [
    "r2_score(prediction_df['label'], prediction_df['prediction'])"
   ]
  },
  {
   "cell_type": "code",
   "execution_count": null,
   "metadata": {},
   "outputs": [],
   "source": [
    "def plot_result(type_crime, area_name):\n",
    "    coulumns_to_filter = [type_crime, area_name, 'month_1', 'month_2', 'month_3', 'month_4', 'month_5', 'month_6',\\\n",
    "              'month_7', 'month_8', 'month_9', 'month_10', 'month_11', 'month_12', 'label', 'prediction']\n",
    "    df = predictions.select(*coulumns_to_filter).toPandas()\n",
    "    ax = df.plot.bar(rot=0, figsize=(15,10), fontsize=10, title= type_crime.replace('primary_type_', \"\") + \" in \" + \\\n",
    "                     name_area.replace('community_area_name_', '') + \" \"  + title)\n",
    "\n",
    "    \n",
    " "
   ]
  },
  {
   "cell_type": "code",
   "execution_count": null,
   "metadata": {
    "scrolled": true
   },
   "outputs": [],
   "source": [
    "plot_result('primary_type_ASSAULT', 'community_area_name_Austin')"
   ]
  },
  {
   "cell_type": "code",
   "execution_count": null,
   "metadata": {},
   "outputs": [],
   "source": []
  }
 ],
 "metadata": {
  "kernelspec": {
   "display_name": "Python 3",
   "language": "python",
   "name": "python3"
  },
  "language_info": {
   "codemirror_mode": {
    "name": "ipython",
    "version": 3
   },
   "file_extension": ".py",
   "mimetype": "text/x-python",
   "name": "python",
   "nbconvert_exporter": "python",
   "pygments_lexer": "ipython3",
   "version": "3.7.0"
  }
 },
 "nbformat": 4,
 "nbformat_minor": 2
}
