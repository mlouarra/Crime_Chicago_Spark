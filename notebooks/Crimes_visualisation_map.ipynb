{
 "cells": [
  {
   "cell_type": "markdown",
   "metadata": {},
   "source": [
    "### Objectifs de ce notebook :\n",
    ">Utilisation des données du site https://data.cityofchicago.org/ sur la criminalité ainsi que des données  socio-économiques du ministère de la Santé de Chicago https://data.cityofchicago.org/Health-Human-Services/Census-Data-Selected-socioeconomic-indicators-in-C/kn9c-c2s2.\n",
    "- Explication des variables (nom des colonnes)\n",
    "- Visualisation des différentes données \n",
    "- Détection des différentes corrélations entre les variables\n",
    "- Agrégation du nombre de crime par mois, par région et par type\n",
    "- Visualisation"
   ]
  },
  {
   "cell_type": "code",
   "execution_count": 1,
   "metadata": {},
   "outputs": [],
   "source": [
    "import ipywidgets as widgets\n",
    "from ipywidgets import interact, interactive, fixed, interact_manual\n",
    "import ipywidgets as widgets\n",
    "from IPython.display import IFrame\n",
    "import datetime\n",
    "import warnings; warnings.simplefilter('ignore')"
   ]
  },
  {
   "cell_type": "code",
   "execution_count": 2,
   "metadata": {},
   "outputs": [],
   "source": [
    "# traitement des données\n",
    "import pandas as pd\n",
    "import numpy as np\n",
    "# Visualisation\n",
    "import seaborn as sns\n",
    "import matplotlib\n",
    "import matplotlib.pyplot as plt\n",
    "from folium import plugins\n",
    "from folium.plugins import MarkerCluster, FastMarkerCluster, HeatMapWithTime\n",
    "import folium"
   ]
  },
  {
   "cell_type": "code",
   "execution_count": 3,
   "metadata": {},
   "outputs": [],
   "source": [
    "chicago = location=[41.85, -87.68]"
   ]
  },
  {
   "cell_type": "code",
   "execution_count": 4,
   "metadata": {},
   "outputs": [],
   "source": [
    "Path_figures = \"../reports/figures/\""
   ]
  },
  {
   "cell_type": "code",
   "execution_count": 5,
   "metadata": {},
   "outputs": [],
   "source": [
    "Path_Socio = \"../data/raw/Census_Data_-_Selected_socioeconomic_indicators_in_Chicago__2008___2012.csv\"\n",
    "Path_Crime = \"../data/raw/Crimes_-_2001_to_present.csv\"\n",
    "Path_geo_json = \"../data/raw/chicago_police_districts.geojson\"\n",
    "df_Socio = pd.read_csv(Path_Socio)\n",
    "df_Crime = pd.read_csv(Path_Crime, sep=';')"
   ]
  },
  {
   "cell_type": "code",
   "execution_count": 6,
   "metadata": {},
   "outputs": [],
   "source": [
    "def rename_columns_socio():\n",
    "    \"\"\"\n",
    "    \n",
    "    \"\"\"\n",
    "    return {\n",
    "'Community Area Number':'community_area_number',\n",
    "'COMMUNITY AREA NAME':'community_area_name', \n",
    "'PERCENT OF HOUSING CROWDED':'pct_housing_crowded', \n",
    "'PERCENT HOUSEHOLDS BELOW POVERTY':'pct_households_below_poverty', \n",
    "'PERCENT AGED 16+ UNEMPLOYED':'pct_age16_unemployed',\n",
    "'PERCENT AGED 25+ WITHOUT HIGH SCHOOL DIPLOMA':'pct_age25_no_highschool',\n",
    "'PERCENT AGED UNDER 18 OR OVER 64': 'pct_not_working_age',\n",
    "'per_capita_income':'per_capita_income',\n",
    "'HARDSHIP INDEX' : 'hardship_index'}\n",
    "\n",
    "def rename_columns_crimes():\n",
    "    \"\"\"\n",
    "    \n",
    "    \"\"\"\n",
    "    return {\n",
    "        'ID': 'id',\n",
    "        'Case Number': 'cas_number', \n",
    "        'Date':'date',\n",
    "        'Block':'block', \n",
    "        'IUCR':'iucr', \n",
    "        'Primary Type':'primary_type',\n",
    "        'Description':'description', \n",
    "        'Location Description':'location_description', \n",
    "        'Arrest':'arrest', \n",
    "        'Domestic':'domestic', \n",
    "        'Beat':'beat',\n",
    "        'District':'district', \n",
    "        'Ward':'ward', \n",
    "        'Community Area': 'community_area_number', \n",
    "        'FBI Code':'fbi_code', \n",
    "        'X Coordinate':'x_coordinate',\n",
    "        'Y Coordinate':'y_coordinate', \n",
    "        'Year':'year', \n",
    "        'Updated On':'updated_on', \n",
    "        'Latitude':'latitude', \n",
    "        'Longitude':'longitude',\n",
    "        'Location':'location'   \n",
    "    }\n",
    "\n",
    "df_Socio.rename(columns=rename_columns_socio(), inplace = True)\n",
    "df_Crime.rename(columns= rename_columns_crimes(), inplace= True)\n",
    "df_Crime['date'] = df_Crime['date'].apply(lambda x: datetime.datetime.strptime(x,\"%m/%d/%Y %I:%M:%S %p\"))"
   ]
  },
  {
   "cell_type": "code",
   "execution_count": 7,
   "metadata": {},
   "outputs": [],
   "source": [
    "list_crimes = list(df_Crime.primary_type.unique())"
   ]
  },
  {
   "cell_type": "code",
   "execution_count": 8,
   "metadata": {},
   "outputs": [],
   "source": [
    "def toString(x):\n",
    "    return str(int(x))"
   ]
  },
  {
   "cell_type": "code",
   "execution_count": 9,
   "metadata": {},
   "outputs": [],
   "source": [
    "def plot_bar(type_crime):\n",
    "    plt.figure(figsize=(12,6))\n",
    "    df = df_Crime[df_Crime['primary_type']==type_crime]\n",
    "    sns.barplot(x='year', y=type_crime,\\\n",
    "                data=df.groupby(['year'])['primary_type'].value_counts().\\\n",
    "                unstack().reset_index(),color='red').set_title(\"CHICAGO MURDER RATES: 2001 - 2018\")"
   ]
  },
  {
   "cell_type": "code",
   "execution_count": 10,
   "metadata": {
    "scrolled": true
   },
   "outputs": [],
   "source": [
    "def plot_crimes(type_crime, year):\n",
    "    df = df_Crime[df_Crime['primary_type']==type_crime]\n",
    "    df= df[df['year']==year]\n",
    "    df = df.loc[(df['x_coordinate']!=0)]\n",
    "    sns.lmplot('x_coordinate',\n",
    "           'y_coordinate',\n",
    "           data=df[:],\n",
    "           fit_reg=False, \n",
    "           hue=\"district\", \n",
    "           palette='Dark2',\n",
    "           height=15,\n",
    "           ci=2,\n",
    "           scatter_kws={\"marker\": \"D\", \"s\": 10}) \n",
    "    ax = plt.gca()\n",
    "    ax.set_title(\"All \" + type_crime + \" \" + str(year) +  \" per District\")\n",
    "    \n",
    "def plot_crime_heatmap(type_crime):\n",
    "    df = df_Crime[df_Crime.primary_type==type_crime]\n",
    "    lats = list(df.latitude)\n",
    "    longs = list(df.longitude)\n",
    "    locations = [lats,longs]\n",
    "    m = folium.Map(chicago, zoom_start=9.5,control_scale = False)\n",
    "    plugins.Fullscreen(\n",
    "    position='topright',\n",
    "    title='Expand me',\n",
    "    title_cancel='Exit me',\n",
    "    force_separate_button=True).add_to(m)\n",
    "    m.choropleth(\n",
    "    geo_data=Path_geo_json,\n",
    "    name='choropleth',\n",
    "    data=df,\n",
    "    columns=['district', 'arrest'],\n",
    "    key_on='feature.properties.dist_num',\n",
    "    fill_color='YlOrRd', \n",
    "    fill_opacity=0.2, \n",
    "    line_opacity=0.2,\n",
    "    legend_name='Homicides : 2001-2017',\n",
    "    highlight=True)\n",
    "    heat_df = df[df['year']>=2001].reset_index()\n",
    "    heat_df = heat_df[['latitude', 'longitude','year']]\n",
    "    heat_df['Weight'] = heat_df['year'].astype(float)\n",
    "    heat_df = heat_df.dropna(axis=0, subset=['latitude','longitude', 'Weight'])\n",
    "    heat_data = [[[row['latitude'],row['longitude']] for index, row in\\\n",
    "            heat_df[heat_df.Weight == i].iterrows()] for i in range(2001,2018)]\n",
    "    m.add_child(plugins.HeatMapWithTime(data=heat_data,\n",
    "                                   auto_play=True,\n",
    "                                   max_opacity=0.8,\n",
    "                                   display_index=True,\n",
    "                                   radius=9,\n",
    "                                   name='HeatMapWithTime'))\n",
    "    folium.TileLayer('cartodbpositron').add_to(m)\n",
    "    folium.LayerControl().add_to(m)\n",
    "    m.save(\"map4.html\") \n",
    "    display(IFrame('map4.html', width=990, height=700))\n",
    "# geo locations of homicides -- January, February 2018\n",
    "\n",
    "def plot_crime_map(type_crime, year):\n",
    "    df = df_Crime[df_Crime.primary_type==type_crime]\n",
    "    df= df[df['year']==year].dropna()\n",
    "    lats = list(df.latitude)\n",
    "    longs = list(df.longitude)\n",
    "    locations = [lats,longs]\n",
    "\n",
    "    m = folium.Map(\n",
    "    location=[np.mean(lats), np.mean(longs)],\n",
    "    zoom_start=10.3)\n",
    "    plugins.Fullscreen(\n",
    "        position='topright',\n",
    "        title='Expand me',\n",
    "        title_cancel='Exit me',\n",
    "        force_separate_button=True).add_to(m)\n",
    "\n",
    "    FastMarkerCluster(data=list(zip(lats, longs))).add_to(m)\n",
    "\n",
    "    m.choropleth(\n",
    "        geo_data=Path_geo_json,\n",
    "        name='choropleth',\n",
    "        data=df,\n",
    "        columns=['district', 'arrest'],\n",
    "        key_on='feature.properties.dist_num',\n",
    "        fill_color='YlOrRd', \n",
    "        fill_opacity=0.4, \n",
    "        line_opacity=0.2,\n",
    "        legend_name='Homicides : January, February 2018',\n",
    "        highlight=False)\n",
    "\n",
    "    folium.TileLayer('cartodbpositron').add_to(m)\n",
    "    folium.LayerControl().add_to(m)\n",
    "    m.save(Path_figures + type_crime + \"_\"+ str(year) + \".html\") \n",
    "    display(IFrame(Path_figures + type_crime + \"_\"+ str(year)  + \".html\", width=700, height=700))\n",
    "    "
   ]
  },
  {
   "cell_type": "code",
   "execution_count": 11,
   "metadata": {
    "scrolled": false
   },
   "outputs": [
    {
     "data": {
      "application/vnd.jupyter.widget-view+json": {
       "model_id": "dcefd3c4eeaf44fc9ff66c5eb947d043",
       "version_major": 2,
       "version_minor": 0
      },
      "text/plain": [
       "interactive(children=(Dropdown(description='type_crime', options=('BATTERY', 'OTHER OFFENSE', 'ROBBERY', 'NARC…"
      ]
     },
     "metadata": {},
     "output_type": "display_data"
    },
    {
     "data": {
      "application/vnd.jupyter.widget-view+json": {
       "model_id": "5422c2edfae446f6b91e75b52b5d0eeb",
       "version_major": 2,
       "version_minor": 0
      },
      "text/plain": [
       "interactive(children=(Dropdown(description='type_crime', options=('BATTERY', 'OTHER OFFENSE', 'ROBBERY', 'NARC…"
      ]
     },
     "metadata": {},
     "output_type": "display_data"
    },
    {
     "data": {
      "application/vnd.jupyter.widget-view+json": {
       "model_id": "1145da1a3a3b44b0b8d72b0ab0430c1f",
       "version_major": 2,
       "version_minor": 0
      },
      "text/plain": [
       "interactive(children=(Dropdown(description='type_crime', options=('BATTERY', 'OTHER OFFENSE', 'ROBBERY', 'NARC…"
      ]
     },
     "metadata": {},
     "output_type": "display_data"
    }
   ],
   "source": [
    "interact(plot_crimes, type_crime = list_crimes, year=widgets.IntSlider(min=2001,max=2018, step=1, value=2001));\n",
    "interact(plot_bar, type_crime = list_crimes);\n",
    "interact(plot_crime_map, type_crime=list_crimes, year=widgets.IntSlider(min=2001,max=2018, step=1, value=2001));"
   ]
  },
  {
   "cell_type": "code",
   "execution_count": 12,
   "metadata": {},
   "outputs": [
    {
     "data": {
      "application/vnd.jupyter.widget-view+json": {
       "model_id": "0e2a3177ce4b46ba8b34934ded800e03",
       "version_major": 2,
       "version_minor": 0
      },
      "text/plain": [
       "interactive(children=(Dropdown(description='type_crime', options=('BATTERY', 'OTHER OFFENSE', 'ROBBERY', 'NARC…"
      ]
     },
     "metadata": {},
     "output_type": "display_data"
    }
   ],
   "source": [
    "interact(plot_crime_heatmap, type_crime=list_crimes);"
   ]
  },
  {
   "cell_type": "code",
   "execution_count": null,
   "metadata": {},
   "outputs": [],
   "source": []
  },
  {
   "cell_type": "code",
   "execution_count": null,
   "metadata": {},
   "outputs": [],
   "source": []
  },
  {
   "cell_type": "code",
   "execution_count": null,
   "metadata": {},
   "outputs": [],
   "source": []
  }
 ],
 "metadata": {
  "kernelspec": {
   "display_name": "Python 3",
   "language": "python",
   "name": "python3"
  },
  "language_info": {
   "codemirror_mode": {
    "name": "ipython",
    "version": 3
   },
   "file_extension": ".py",
   "mimetype": "text/x-python",
   "name": "python",
   "nbconvert_exporter": "python",
   "pygments_lexer": "ipython3",
   "version": "3.6.7"
  }
 },
 "nbformat": 4,
 "nbformat_minor": 2
}
