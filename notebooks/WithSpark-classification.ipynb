{
 "cells": [
  {
   "cell_type": "code",
   "execution_count": null,
   "metadata": {},
   "outputs": [],
   "source": [
    "%load_ext autoreload\n",
    "%autoreload 2"
   ]
  },
  {
   "cell_type": "code",
   "execution_count": null,
   "metadata": {},
   "outputs": [],
   "source": [
    "%matplotlib inline "
   ]
  },
  {
   "cell_type": "code",
   "execution_count": 1,
   "metadata": {},
   "outputs": [],
   "source": [
    "from yaml import load as yaml_load\n",
    "import os\n",
    "import sys\n",
    "import json\n",
    "sys.path.append('../')\n",
    "import findspark\n",
    "findspark.init()\n",
    "import pyspark\n",
    "from pyspark.sql.types import LongType\n",
    "from pyspark.sql import SparkSession\n",
    "import pyspark.sql.functions as func\n",
    "from pyspark.ml import Pipeline\n",
    "from pyspark.ml.regression import LinearRegression, GBTRegressor\n",
    "from pyspark.ml.evaluation import RegressionEvaluator\n",
    "from pyspark.ml.feature import StandardScaler, VectorAssembler, VectorIndexer, StandardScaler\n",
    "from pyspark.sql.functions import *\n",
    "from pyspark.sql.functions import pandas_udf, PandasUDFType\n",
    "import pandas as pd\n",
    "from pyspark.sql.functions import col, pandas_udf, udf\n",
    "from pyspark.sql.types import LongType, StringType, FloatType, IntegerType, DoubleType\n",
    "from pyspark.ml.feature import OneHotEncoderEstimator, StringIndexer, VectorAssembler\n",
    "import re\n",
    "spark = SparkSession.builder.master(\"local\").appName(\"Data cleaning\").getOrCreate()"
   ]
  },
  {
   "cell_type": "code",
   "execution_count": 2,
   "metadata": {},
   "outputs": [],
   "source": [
    "from src.data.make_dataset import LoadDataframe"
   ]
  },
  {
   "cell_type": "code",
   "execution_count": 3,
   "metadata": {},
   "outputs": [],
   "source": [
    "def _load_config_file(config_file):\n",
    "    \"\"\"\n",
    "    Load configuration file\n",
    "    :param config_file: is the configuration file\n",
    "    :return: configuration\n",
    "    :rtype: dict\n",
    "    \"\"\"\n",
    "    with open(config_file) as yml_config:\n",
    "        return yaml_load(yml_config)\n",
    "\n",
    "def _build_configuration(config_file):\n",
    "    \"\"\"\n",
    "    Build the operation configuration dict\n",
    "    :param config_file: is the path to the yaml config_file\n",
    "    :type: string\n",
    "    :return: config: global configuration\n",
    "    :rtype dict\n",
    "    \"\"\"\n",
    "    # yaml config\n",
    "    config = _load_config_file(config_file)\n",
    "    return config\n",
    "def visualisation_prediction(y_test, y_pred):\n",
    "    import matplotlib\n",
    "    import matplotlib.pyplot as plt\n",
    "    matplotlib.rc('xtick', labelsize=30) \n",
    "    matplotlib.rc('ytick', labelsize=30) \n",
    "    fig, ax = plt.subplots(figsize=(50, 40))\n",
    "    plt.style.use('ggplot')\n",
    "    plt.plot(y_pred, y_test, 'ro')\n",
    "    plt.xlabel('Predicted Crime', fontsize = 30)\n",
    "    plt.ylabel('Actual Crime', fontsize = 30)\n",
    "    plt.title('Predicted Y (Crimes) to the Actual Y (Crimes)', fontsize = 30)\n",
    "    ax.plot([y_test.min(), y_test.max()], [y_test.min(), y_test.max()], 'k--', lw=4)\n",
    "    \n",
    "    \n",
    "def duration_day_func(x):\n",
    "    \"\"\"\n",
    "    :return:\n",
    "    \"\"\"\n",
    "    from astral import Astral\n",
    "    city_name = 'Chicago'\n",
    "    a = Astral()\n",
    "    a.solar_depression = 'civil'\n",
    "    city = a[city_name]\n",
    "    sun = city.sun(date=x, local=True)\n",
    "    return float((sun['sunset'] - sun['sunrise']).total_seconds())\n",
    "\n",
    "extract_blok = udf(lambda x : re.findall(r\"(\\w+)$\", x)[0], StringType())\n",
    "isStreet = udf(lambda x :  1 if x in ['ST', 'St', 'st'] else 0, IntegerType())\n",
    "isAV = udf(lambda x : 1 if x in ['Ave', 'AV', 'AVE'] else 0, IntegerType())\n",
    "isBLVD = udf(lambda x : 1 if x in ['BLVD'] else 0, IntegerType())\n",
    "isRD = udf(lambda x : 1 if x in ['RD'] else 0, IntegerType())\n",
    "isPL = udf(lambda x : 1 if x in ['PL', 'pl'] else 0, IntegerType())\n",
    "isBROADWAY = udf(lambda x : 1 if x in ['BROADWAY', 'Broadway'] else 0, IntegerType())\n",
    "isPKWY = udf(lambda x : 1 if x in ['PKWY', 'Pkwy'] else 0, IntegerType())\n",
    "duration_day_udf = udf(lambda x :   duration_day_func(x), FloatType())\n",
    "\n",
    "config_file = \"/home/ml/Documents/crimes_chigaco/config/config.yml\"\n",
    "config = _build_configuration(config_file)"
   ]
  },
  {
   "cell_type": "code",
   "execution_count": 4,
   "metadata": {},
   "outputs": [
    {
     "name": "stdout",
     "output_type": "stream",
     "text": [
      "CPU times: user 636 µs, sys: 73 µs, total: 709 µs\n",
      "Wall time: 721 µs\n"
     ]
    }
   ],
   "source": [
    "%%time\n",
    "obj_df_loaded = LoadDataframe(config, '2013', '2014')"
   ]
  },
  {
   "cell_type": "code",
   "execution_count": 5,
   "metadata": {},
   "outputs": [],
   "source": [
    "df_temp = obj_df_loaded.df_temperature()\n",
    "df_sky  = obj_df_loaded.df_sky()\n",
    "df_socio = obj_df_loaded.df_socio()"
   ]
  },
  {
   "cell_type": "code",
   "execution_count": 6,
   "metadata": {},
   "outputs": [],
   "source": [
    "from pyspark.sql.functions import isnan, when, count, col, isnull"
   ]
  },
  {
   "cell_type": "code",
   "execution_count": null,
   "metadata": {},
   "outputs": [],
   "source": []
  },
  {
   "cell_type": "code",
   "execution_count": 7,
   "metadata": {},
   "outputs": [],
   "source": [
    "features_socio = ['pct_housing_crowded',\n",
    " 'pct_households_below_poverty','pct_age16_unemployed',\n",
    " 'pct_age25_no_highschool',\n",
    " 'pct_not_working_age',\n",
    " 'per_capita_income',\n",
    " 'hardship_index']\n",
    "for f in features_socio:\n",
    "    df_socio = df_socio.withColumn(f, df_socio[f].cast(FloatType()))"
   ]
  },
  {
   "cell_type": "code",
   "execution_count": 8,
   "metadata": {},
   "outputs": [
    {
     "name": "stderr",
     "output_type": "stream",
     "text": [
      "/usr/lib/spark/spark-2.4.0-bin-hadoop2.7/python/pyspark/sql/dataframe.py:1793: UserWarning: to_replace is a dict and value is not None. value will be ignored.\n",
      "  warnings.warn(\"to_replace is a dict and value is not None. value will be ignored.\")\n"
     ]
    }
   ],
   "source": [
    "df_crime = obj_df_loaded.df_crime()\n",
    "df_crime_socio = df_crime.join(df_socio, ['community_area_number'], \"inner\")"
   ]
  },
  {
   "cell_type": "code",
   "execution_count": null,
   "metadata": {},
   "outputs": [],
   "source": []
  },
  {
   "cell_type": "code",
   "execution_count": 9,
   "metadata": {
    "scrolled": false
   },
   "outputs": [],
   "source": [
    "df_crime_socio = df_crime_socio.na.drop()"
   ]
  },
  {
   "cell_type": "code",
   "execution_count": null,
   "metadata": {},
   "outputs": [],
   "source": []
  },
  {
   "cell_type": "code",
   "execution_count": null,
   "metadata": {},
   "outputs": [],
   "source": []
  },
  {
   "cell_type": "code",
   "execution_count": 10,
   "metadata": {},
   "outputs": [],
   "source": [
    "df_crime_socio = df_crime_socio.withColumn(\"block_extract\", extract_blok(df_crime_socio.block))"
   ]
  },
  {
   "cell_type": "code",
   "execution_count": 11,
   "metadata": {},
   "outputs": [],
   "source": [
    "df_crime_socio = (df_crime_socio.\n",
    "                  withColumn(\"isStreet\",isStreet(df_crime_socio.block_extract)).\n",
    "                  withColumn(\"isAV\", isAV(df_crime_socio.block_extract)).\n",
    "                  withColumn(\"isBLVD\", isBLVD(df_crime_socio.block_extract)).\n",
    "                  withColumn(\"isRD\", isRD(df_crime_socio.block_extract)).\n",
    "                  withColumn(\"isPL\", isPL(df_crime_socio.block_extract)).\n",
    "                  withColumn(\"isBROADWAY\", isBROADWAY(df_crime_socio.block_extract)).\n",
    "                  withColumn(\"isPKWY\", isPKWY(df_crime_socio.block_extract)))"
   ]
  },
  {
   "cell_type": "code",
   "execution_count": null,
   "metadata": {
    "scrolled": true
   },
   "outputs": [],
   "source": []
  },
  {
   "cell_type": "code",
   "execution_count": 12,
   "metadata": {},
   "outputs": [],
   "source": [
    "df_crime_socio = df_crime_socio.withColumn('duree_day', duration_day_udf('date'))"
   ]
  },
  {
   "cell_type": "code",
   "execution_count": 13,
   "metadata": {},
   "outputs": [
    {
     "name": "stdout",
     "output_type": "stream",
     "text": [
      "root\n",
      " |-- community_area_number: string (nullable = true)\n",
      " |-- id: string (nullable = true)\n",
      " |-- cas_number: string (nullable = true)\n",
      " |-- date: timestamp (nullable = true)\n",
      " |-- block: string (nullable = true)\n",
      " |-- iucr: string (nullable = true)\n",
      " |-- primary_type: string (nullable = true)\n",
      " |-- description: string (nullable = true)\n",
      " |-- location_description: string (nullable = true)\n",
      " |-- arrest: string (nullable = true)\n",
      " |-- domestic: string (nullable = true)\n",
      " |-- beat: string (nullable = true)\n",
      " |-- district: string (nullable = true)\n",
      " |-- ward: string (nullable = true)\n",
      " |-- fbi_code: string (nullable = true)\n",
      " |-- x_coordinate: string (nullable = true)\n",
      " |-- y_coordinate: string (nullable = true)\n",
      " |-- year: string (nullable = true)\n",
      " |-- updated_on: string (nullable = true)\n",
      " |-- latitude: string (nullable = true)\n",
      " |-- longitude: string (nullable = true)\n",
      " |-- location: string (nullable = true)\n",
      " |-- community_area_name: string (nullable = true)\n",
      " |-- pct_housing_crowded: float (nullable = true)\n",
      " |-- pct_households_below_poverty: float (nullable = true)\n",
      " |-- pct_age16_unemployed: float (nullable = true)\n",
      " |-- pct_age25_no_highschool: float (nullable = true)\n",
      " |-- pct_not_working_age: float (nullable = true)\n",
      " |-- per_capita_income: float (nullable = true)\n",
      " |-- hardship_index: float (nullable = true)\n",
      " |-- block_extract: string (nullable = true)\n",
      " |-- isStreet: integer (nullable = true)\n",
      " |-- isAV: integer (nullable = true)\n",
      " |-- isBLVD: integer (nullable = true)\n",
      " |-- isRD: integer (nullable = true)\n",
      " |-- isPL: integer (nullable = true)\n",
      " |-- isBROADWAY: integer (nullable = true)\n",
      " |-- isPKWY: integer (nullable = true)\n",
      " |-- duree_day: float (nullable = true)\n",
      "\n"
     ]
    }
   ],
   "source": [
    "df_crime_socio.printSchema()"
   ]
  },
  {
   "cell_type": "code",
   "execution_count": 14,
   "metadata": {},
   "outputs": [
    {
     "data": {
      "text/html": [
       "<div>\n",
       "<style scoped>\n",
       "    .dataframe tbody tr th:only-of-type {\n",
       "        vertical-align: middle;\n",
       "    }\n",
       "\n",
       "    .dataframe tbody tr th {\n",
       "        vertical-align: top;\n",
       "    }\n",
       "\n",
       "    .dataframe thead th {\n",
       "        text-align: right;\n",
       "    }\n",
       "</style>\n",
       "<table border=\"1\" class=\"dataframe\">\n",
       "  <thead>\n",
       "    <tr style=\"text-align: right;\">\n",
       "      <th></th>\n",
       "      <th>community_area_number</th>\n",
       "      <th>id</th>\n",
       "      <th>cas_number</th>\n",
       "      <th>date</th>\n",
       "      <th>block</th>\n",
       "      <th>iucr</th>\n",
       "      <th>primary_type</th>\n",
       "      <th>description</th>\n",
       "      <th>location_description</th>\n",
       "      <th>arrest</th>\n",
       "      <th>...</th>\n",
       "      <th>hardship_index</th>\n",
       "      <th>block_extract</th>\n",
       "      <th>isStreet</th>\n",
       "      <th>isAV</th>\n",
       "      <th>isBLVD</th>\n",
       "      <th>isRD</th>\n",
       "      <th>isPL</th>\n",
       "      <th>isBROADWAY</th>\n",
       "      <th>isPKWY</th>\n",
       "      <th>duree_day</th>\n",
       "    </tr>\n",
       "  </thead>\n",
       "  <tbody>\n",
       "    <tr>\n",
       "      <th>358</th>\n",
       "      <td>3</td>\n",
       "      <td>10351553</td>\n",
       "      <td>HY542067</td>\n",
       "      <td>2013-03-30 08:00:00</td>\n",
       "      <td>045XX N SHERIDAN RD</td>\n",
       "      <td>1153</td>\n",
       "      <td>DECEPTIVE PRACTICE</td>\n",
       "      <td>FINANCIAL IDENTITY THEFT OVER $ 300</td>\n",
       "      <td>OTHER</td>\n",
       "      <td>false</td>\n",
       "      <td>...</td>\n",
       "      <td>20.0</td>\n",
       "      <td>RD</td>\n",
       "      <td>0</td>\n",
       "      <td>0</td>\n",
       "      <td>0</td>\n",
       "      <td>1</td>\n",
       "      <td>0</td>\n",
       "      <td>0</td>\n",
       "      <td>0</td>\n",
       "      <td>45408.0</td>\n",
       "    </tr>\n",
       "    <tr>\n",
       "      <th>257</th>\n",
       "      <td>15</td>\n",
       "      <td>10231867</td>\n",
       "      <td>HY419264</td>\n",
       "      <td>2013-03-01 00:01:00</td>\n",
       "      <td>050XX W SCHOOL ST</td>\n",
       "      <td>1153</td>\n",
       "      <td>DECEPTIVE PRACTICE</td>\n",
       "      <td>FINANCIAL IDENTITY THEFT OVER $ 300</td>\n",
       "      <td>RESIDENCE</td>\n",
       "      <td>false</td>\n",
       "      <td>...</td>\n",
       "      <td>35.0</td>\n",
       "      <td>ST</td>\n",
       "      <td>1</td>\n",
       "      <td>0</td>\n",
       "      <td>0</td>\n",
       "      <td>0</td>\n",
       "      <td>0</td>\n",
       "      <td>0</td>\n",
       "      <td>0</td>\n",
       "      <td>40450.0</td>\n",
       "    </tr>\n",
       "    <tr>\n",
       "      <th>336</th>\n",
       "      <td>71</td>\n",
       "      <td>10318938</td>\n",
       "      <td>HY507441</td>\n",
       "      <td>2013-05-24 12:00:00</td>\n",
       "      <td>079XX S THROOP ST</td>\n",
       "      <td>1185</td>\n",
       "      <td>DECEPTIVE PRACTICE</td>\n",
       "      <td>DECEPTIVE COLLECTION PRACTICES</td>\n",
       "      <td>RESIDENCE</td>\n",
       "      <td>false</td>\n",
       "      <td>...</td>\n",
       "      <td>74.0</td>\n",
       "      <td>ST</td>\n",
       "      <td>1</td>\n",
       "      <td>0</td>\n",
       "      <td>0</td>\n",
       "      <td>0</td>\n",
       "      <td>0</td>\n",
       "      <td>0</td>\n",
       "      <td>0</td>\n",
       "      <td>53380.0</td>\n",
       "    </tr>\n",
       "    <tr>\n",
       "      <th>404</th>\n",
       "      <td>52</td>\n",
       "      <td>20793</td>\n",
       "      <td>HW135767</td>\n",
       "      <td>2013-01-29 07:55:00</td>\n",
       "      <td>109XX S MACKINAW AVE</td>\n",
       "      <td>0110</td>\n",
       "      <td>HOMICIDE</td>\n",
       "      <td>FIRST DEGREE MURDER</td>\n",
       "      <td>YARD</td>\n",
       "      <td>true</td>\n",
       "      <td>...</td>\n",
       "      <td>64.0</td>\n",
       "      <td>AVE</td>\n",
       "      <td>0</td>\n",
       "      <td>1</td>\n",
       "      <td>0</td>\n",
       "      <td>0</td>\n",
       "      <td>0</td>\n",
       "      <td>0</td>\n",
       "      <td>0</td>\n",
       "      <td>35744.0</td>\n",
       "    </tr>\n",
       "    <tr>\n",
       "      <th>803</th>\n",
       "      <td>3</td>\n",
       "      <td>8950860</td>\n",
       "      <td>HW100047</td>\n",
       "      <td>2013-01-01 00:40:00</td>\n",
       "      <td>011XX W LAWRENCE AVE</td>\n",
       "      <td>0460</td>\n",
       "      <td>ASSAULT_BATTERY</td>\n",
       "      <td>SIMPLE</td>\n",
       "      <td>SIDEWALK</td>\n",
       "      <td>true</td>\n",
       "      <td>...</td>\n",
       "      <td>20.0</td>\n",
       "      <td>AVE</td>\n",
       "      <td>0</td>\n",
       "      <td>1</td>\n",
       "      <td>0</td>\n",
       "      <td>0</td>\n",
       "      <td>0</td>\n",
       "      <td>0</td>\n",
       "      <td>0</td>\n",
       "      <td>33108.0</td>\n",
       "    </tr>\n",
       "  </tbody>\n",
       "</table>\n",
       "<p>5 rows × 39 columns</p>\n",
       "</div>"
      ],
      "text/plain": [
       "    community_area_number        id cas_number                date  \\\n",
       "358                     3  10351553   HY542067 2013-03-30 08:00:00   \n",
       "257                    15  10231867   HY419264 2013-03-01 00:01:00   \n",
       "336                    71  10318938   HY507441 2013-05-24 12:00:00   \n",
       "404                    52     20793   HW135767 2013-01-29 07:55:00   \n",
       "803                     3   8950860   HW100047 2013-01-01 00:40:00   \n",
       "\n",
       "                    block  iucr        primary_type  \\\n",
       "358   045XX N SHERIDAN RD  1153  DECEPTIVE PRACTICE   \n",
       "257     050XX W SCHOOL ST  1153  DECEPTIVE PRACTICE   \n",
       "336     079XX S THROOP ST  1185  DECEPTIVE PRACTICE   \n",
       "404  109XX S MACKINAW AVE  0110            HOMICIDE   \n",
       "803  011XX W LAWRENCE AVE  0460     ASSAULT_BATTERY   \n",
       "\n",
       "                             description location_description arrest  \\\n",
       "358  FINANCIAL IDENTITY THEFT OVER $ 300                OTHER  false   \n",
       "257  FINANCIAL IDENTITY THEFT OVER $ 300            RESIDENCE  false   \n",
       "336       DECEPTIVE COLLECTION PRACTICES            RESIDENCE  false   \n",
       "404                  FIRST DEGREE MURDER                 YARD   true   \n",
       "803                               SIMPLE             SIDEWALK   true   \n",
       "\n",
       "       ...    hardship_index block_extract isStreet isAV isBLVD isRD isPL  \\\n",
       "358    ...              20.0            RD        0    0      0    1    0   \n",
       "257    ...              35.0            ST        1    0      0    0    0   \n",
       "336    ...              74.0            ST        1    0      0    0    0   \n",
       "404    ...              64.0           AVE        0    1      0    0    0   \n",
       "803    ...              20.0           AVE        0    1      0    0    0   \n",
       "\n",
       "    isBROADWAY isPKWY duree_day  \n",
       "358          0      0   45408.0  \n",
       "257          0      0   40450.0  \n",
       "336          0      0   53380.0  \n",
       "404          0      0   35744.0  \n",
       "803          0      0   33108.0  \n",
       "\n",
       "[5 rows x 39 columns]"
      ]
     },
     "execution_count": 14,
     "metadata": {},
     "output_type": "execute_result"
    }
   ],
   "source": [
    "df_crime_socio.limit(1000).toPandas().sample(5)"
   ]
  },
  {
   "cell_type": "code",
   "execution_count": 15,
   "metadata": {},
   "outputs": [],
   "source": [
    "df_crime_socio = (\n",
    "df_crime_socio.withColumn(\"month\", func.month(func.col(\"date\"))).\n",
    "withColumn(\"year\", func.year(func.col(\"date\"))).\n",
    "withColumn(\"day\", func.dayofmonth(func.col(\"date\"))).\n",
    "withColumn(\"hour\", func.hour(func.col(\"date\"))).withColumn(\"minute\", func.minute(func.col(\"date\"))).\n",
    "withColumn(\"dayofmonth\", func.dayofmonth(func.col(\"date\"))).   \n",
    "withColumn(\"dayofyear\", func.dayofyear(func.col(\"date\"))).\n",
    "withColumn(\"dayofweek\", func.dayofweek(func.col(\"date\")))\n",
    ")"
   ]
  },
  {
   "cell_type": "code",
   "execution_count": null,
   "metadata": {},
   "outputs": [],
   "source": [
    "df_crime_socio.limit(100).toPandas().sample(5)"
   ]
  },
  {
   "cell_type": "code",
   "execution_count": null,
   "metadata": {
    "scrolled": true
   },
   "outputs": [],
   "source": [
    "df_crime_socio.printSchema()"
   ]
  },
  {
   "cell_type": "code",
   "execution_count": null,
   "metadata": {},
   "outputs": [],
   "source": [
    "df_temp.show(5)"
   ]
  },
  {
   "cell_type": "code",
   "execution_count": 16,
   "metadata": {},
   "outputs": [],
   "source": [
    "df_temp = df_temp.drop('datetime')"
   ]
  },
  {
   "cell_type": "code",
   "execution_count": 17,
   "metadata": {},
   "outputs": [],
   "source": [
    "df_total = df_crime_socio.join(df_temp, ['year', 'month','day','hour'], how = \"inner\").\\\n",
    "                        join(df_sky, ['year', 'month','day','hour'], how = \"inner\")"
   ]
  },
  {
   "cell_type": "code",
   "execution_count": 18,
   "metadata": {},
   "outputs": [],
   "source": [
    "df_total = df_total.na.drop()"
   ]
  },
  {
   "cell_type": "code",
   "execution_count": null,
   "metadata": {
    "scrolled": true
   },
   "outputs": [],
   "source": [
    "df_total.limit(1000).toPandas().sample(5).T"
   ]
  },
  {
   "cell_type": "code",
   "execution_count": null,
   "metadata": {},
   "outputs": [],
   "source": []
  },
  {
   "cell_type": "code",
   "execution_count": 19,
   "metadata": {},
   "outputs": [],
   "source": [
    "df_total = df_total.withColumn('latitude', df_total['latitude'].cast(FloatType()))\n",
    "df_total = df_total.withColumn('longitude', df_total['longitude'].cast(FloatType()))"
   ]
  },
  {
   "cell_type": "code",
   "execution_count": 20,
   "metadata": {},
   "outputs": [],
   "source": [
    "list_of_crimes = config[\"List_of_crimes_prediction\"][\"with_merge_pred\"]"
   ]
  },
  {
   "cell_type": "code",
   "execution_count": 21,
   "metadata": {},
   "outputs": [],
   "source": [
    "df = df_total.where(col('primary_type').isin(list_of_crimes))"
   ]
  },
  {
   "cell_type": "code",
   "execution_count": 22,
   "metadata": {
    "scrolled": false
   },
   "outputs": [
    {
     "name": "stdout",
     "output_type": "stream",
     "text": [
      "root\n",
      " |-- year: integer (nullable = true)\n",
      " |-- month: integer (nullable = true)\n",
      " |-- day: integer (nullable = true)\n",
      " |-- hour: integer (nullable = true)\n",
      " |-- community_area_number: string (nullable = true)\n",
      " |-- id: string (nullable = true)\n",
      " |-- cas_number: string (nullable = true)\n",
      " |-- date: timestamp (nullable = true)\n",
      " |-- block: string (nullable = true)\n",
      " |-- iucr: string (nullable = true)\n",
      " |-- primary_type: string (nullable = true)\n",
      " |-- description: string (nullable = true)\n",
      " |-- location_description: string (nullable = true)\n",
      " |-- arrest: string (nullable = true)\n",
      " |-- domestic: string (nullable = true)\n",
      " |-- beat: string (nullable = true)\n",
      " |-- district: string (nullable = true)\n",
      " |-- ward: string (nullable = true)\n",
      " |-- fbi_code: string (nullable = true)\n",
      " |-- x_coordinate: string (nullable = true)\n",
      " |-- y_coordinate: string (nullable = true)\n",
      " |-- updated_on: string (nullable = true)\n",
      " |-- latitude: float (nullable = true)\n",
      " |-- longitude: float (nullable = true)\n",
      " |-- location: string (nullable = true)\n",
      " |-- community_area_name: string (nullable = true)\n",
      " |-- pct_housing_crowded: float (nullable = true)\n",
      " |-- pct_households_below_poverty: float (nullable = true)\n",
      " |-- pct_age16_unemployed: float (nullable = true)\n",
      " |-- pct_age25_no_highschool: float (nullable = true)\n",
      " |-- pct_not_working_age: float (nullable = true)\n",
      " |-- per_capita_income: float (nullable = true)\n",
      " |-- hardship_index: float (nullable = true)\n",
      " |-- block_extract: string (nullable = true)\n",
      " |-- isStreet: integer (nullable = true)\n",
      " |-- isAV: integer (nullable = true)\n",
      " |-- isBLVD: integer (nullable = true)\n",
      " |-- isRD: integer (nullable = true)\n",
      " |-- isPL: integer (nullable = true)\n",
      " |-- isBROADWAY: integer (nullable = true)\n",
      " |-- isPKWY: integer (nullable = true)\n",
      " |-- duree_day: float (nullable = true)\n",
      " |-- minute: integer (nullable = true)\n",
      " |-- dayofmonth: integer (nullable = true)\n",
      " |-- dayofyear: integer (nullable = true)\n",
      " |-- dayofweek: integer (nullable = true)\n",
      " |-- Temperature: float (nullable = true)\n",
      " |-- Chicago: string (nullable = true)\n",
      " |-- datetime: string (nullable = true)\n",
      " |-- Chicago_broken clouds: long (nullable = true)\n",
      " |-- Chicago_drizzle: long (nullable = true)\n",
      " |-- Chicago_few clouds: long (nullable = true)\n",
      " |-- Chicago_fog: long (nullable = true)\n",
      " |-- Chicago_haze: long (nullable = true)\n",
      " |-- Chicago_heavy intensity drizzle: long (nullable = true)\n",
      " |-- Chicago_heavy intensity rain: long (nullable = true)\n",
      " |-- Chicago_heavy snow: long (nullable = true)\n",
      " |-- Chicago_light intensity drizzle: long (nullable = true)\n",
      " |-- Chicago_light rain: long (nullable = true)\n",
      " |-- Chicago_light rain and snow: long (nullable = true)\n",
      " |-- Chicago_light snow: long (nullable = true)\n",
      " |-- Chicago_mist: long (nullable = true)\n",
      " |-- Chicago_moderate rain: long (nullable = true)\n",
      " |-- Chicago_overcast clouds: long (nullable = true)\n",
      " |-- Chicago_proximity thunderstorm: long (nullable = true)\n",
      " |-- Chicago_scattered clouds: long (nullable = true)\n",
      " |-- Chicago_sky is clear: long (nullable = true)\n",
      " |-- Chicago_snow: long (nullable = true)\n",
      " |-- Chicago_thunderstorm: long (nullable = true)\n",
      " |-- Chicago_thunderstorm with heavy rain: long (nullable = true)\n",
      " |-- Chicago_thunderstorm with light rain: long (nullable = true)\n",
      " |-- Chicago_thunderstorm with rain: long (nullable = true)\n",
      " |-- Chicago_very heavy rain: long (nullable = true)\n",
      "\n"
     ]
    }
   ],
   "source": [
    "df.printSchema()"
   ]
  },
  {
   "cell_type": "code",
   "execution_count": null,
   "metadata": {},
   "outputs": [],
   "source": []
  },
  {
   "cell_type": "code",
   "execution_count": 23,
   "metadata": {},
   "outputs": [],
   "source": [
    "categoricalColumns = ['domestic']\n",
    "numericCols = ['year', 'month', 'day', 'hour','minute', 'latitude',\n",
    "               'longitude', 'isStreet', 'isAV',\n",
    "               'isBLVD', 'isRD', 'isPL', 'isBROADWAY',\n",
    "               'isPKWY', 'duree_day', 'minute','dayofmonth',\n",
    "               'dayofyear','dayofweek','Temperature',\n",
    "               'pct_housing_crowded',\n",
    "               'pct_households_below_poverty',\n",
    "               'pct_age16_unemployed',\n",
    "               'pct_age25_no_highschool',\n",
    "               'pct_not_working_age',\n",
    "               'per_capita_income',\n",
    "               'hardship_index',\n",
    "                'Chicago_broken clouds',\n",
    "                'Chicago_drizzle',\n",
    "                 'Chicago_few clouds',\n",
    "                'Chicago_fog',\n",
    "                 'Chicago_haze',\n",
    "                 'Chicago_heavy intensity drizzle',\n",
    "                 'Chicago_heavy intensity rain',\n",
    "                 'Chicago_heavy snow',\n",
    "                 'Chicago_light intensity drizzle',\n",
    "                 'Chicago_light rain',\n",
    "                 'Chicago_light rain and snow',\n",
    "                 'Chicago_light snow',\n",
    "                 'Chicago_mist',\n",
    "                 'Chicago_moderate rain',\n",
    "                 'Chicago_overcast clouds',\n",
    "                 'Chicago_proximity thunderstorm',\n",
    "                 'Chicago_scattered clouds',\n",
    "                 'Chicago_sky is clear',\n",
    "                 'Chicago_snow',\n",
    "                 'Chicago_thunderstorm',\n",
    "                 'Chicago_thunderstorm with heavy rain',\n",
    "                 'Chicago_thunderstorm with light rain',\n",
    "                 'Chicago_thunderstorm with rain',\n",
    "                'Chicago_very heavy rain'\n",
    "]\n",
    "stages = []"
   ]
  },
  {
   "cell_type": "code",
   "execution_count": 24,
   "metadata": {},
   "outputs": [],
   "source": [
    "for categoricalCol in categoricalColumns:\n",
    "    stringIndexer = StringIndexer(inputCol = categoricalCol, outputCol = categoricalCol + 'Index')\n",
    "    encoder = OneHotEncoderEstimator(inputCols=[stringIndexer.getOutputCol()], outputCols=[categoricalCol + \"classVec\"])\n",
    "    stages += [stringIndexer, encoder]"
   ]
  },
  {
   "cell_type": "code",
   "execution_count": null,
   "metadata": {},
   "outputs": [],
   "source": []
  },
  {
   "cell_type": "code",
   "execution_count": 25,
   "metadata": {},
   "outputs": [],
   "source": [
    "label_stringIdx = StringIndexer(inputCol = 'primary_type', outputCol = 'label')\n",
    "stages += [label_stringIdx]"
   ]
  },
  {
   "cell_type": "code",
   "execution_count": 26,
   "metadata": {},
   "outputs": [],
   "source": [
    "assemblerInputs = [c + \"classVec\" for c in categoricalColumns] + numericCols"
   ]
  },
  {
   "cell_type": "code",
   "execution_count": 27,
   "metadata": {},
   "outputs": [],
   "source": [
    "assembler = VectorAssembler(inputCols=assemblerInputs, outputCol=\"features\")"
   ]
  },
  {
   "cell_type": "code",
   "execution_count": 28,
   "metadata": {},
   "outputs": [],
   "source": [
    "stages += [assembler]"
   ]
  },
  {
   "cell_type": "code",
   "execution_count": 29,
   "metadata": {},
   "outputs": [
    {
     "data": {
      "text/plain": [
       "[StringIndexer_42756e76b021,\n",
       " OneHotEncoderEstimator_f22222b65f95,\n",
       " StringIndexer_969b22f165e0,\n",
       " VectorAssembler_0e2dc91afed8]"
      ]
     },
     "execution_count": 29,
     "metadata": {},
     "output_type": "execute_result"
    }
   ],
   "source": [
    "stages"
   ]
  },
  {
   "cell_type": "code",
   "execution_count": 30,
   "metadata": {},
   "outputs": [],
   "source": [
    "from pyspark.ml import Pipeline\n",
    "pipeline = Pipeline(stages = stages)"
   ]
  },
  {
   "cell_type": "code",
   "execution_count": null,
   "metadata": {
    "scrolled": false
   },
   "outputs": [],
   "source": [
    "pipelineModel = pipeline.fit(df)"
   ]
  },
  {
   "cell_type": "code",
   "execution_count": null,
   "metadata": {
    "scrolled": false
   },
   "outputs": [],
   "source": [
    "df = pipelineModel.transform(df)"
   ]
  },
  {
   "cell_type": "code",
   "execution_count": null,
   "metadata": {},
   "outputs": [],
   "source": [
    "selectedCols = ['label', 'features'] + categoricalColumns + numericCols"
   ]
  },
  {
   "cell_type": "code",
   "execution_count": null,
   "metadata": {
    "scrolled": true
   },
   "outputs": [],
   "source": [
    "df = df.select(selectedCols)\n",
    "df.printSchema()"
   ]
  },
  {
   "cell_type": "code",
   "execution_count": null,
   "metadata": {
    "scrolled": false
   },
   "outputs": [],
   "source": [
    "pd.DataFrame(df.take(5), columns=df.columns).transpose()"
   ]
  },
  {
   "cell_type": "code",
   "execution_count": null,
   "metadata": {},
   "outputs": [],
   "source": [
    "df.show()"
   ]
  },
  {
   "cell_type": "code",
   "execution_count": null,
   "metadata": {
    "scrolled": false
   },
   "outputs": [],
   "source": [
    "train, test = df.randomSplit([0.7, 0.3])\n"
   ]
  },
  {
   "cell_type": "code",
   "execution_count": null,
   "metadata": {
    "scrolled": false
   },
   "outputs": [],
   "source": [
    "train.count()"
   ]
  },
  {
   "cell_type": "code",
   "execution_count": null,
   "metadata": {},
   "outputs": [],
   "source": []
  }
 ],
 "metadata": {
  "kernelspec": {
   "display_name": "Python 3",
   "language": "python",
   "name": "python3"
  },
  "language_info": {
   "codemirror_mode": {
    "name": "ipython",
    "version": 3
   },
   "file_extension": ".py",
   "mimetype": "text/x-python",
   "name": "python",
   "nbconvert_exporter": "python",
   "pygments_lexer": "ipython3",
   "version": "3.7.0"
  }
 },
 "nbformat": 4,
 "nbformat_minor": 2
}
