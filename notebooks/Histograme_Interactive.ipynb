{
 "cells": [
  {
   "cell_type": "code",
   "execution_count": null,
   "metadata": {},
   "outputs": [],
   "source": [
    "# traitement des données\n",
    "import pandas as pd\n",
    "import copy\n",
    "import numpy as np\n",
    "import seaborn as sns\n",
    "import matplotlib\n",
    "import matplotlib.pyplot as plt\n",
    "from folium.plugins import MarkerCluster, FastMarkerCluster, HeatMapWithTime"
   ]
  },
  {
   "cell_type": "code",
   "execution_count": null,
   "metadata": {},
   "outputs": [],
   "source": [
    "from bokeh.io import show, output_notebook, push_notebook\n",
    "from bokeh.plotting import figure\n",
    "from bokeh.models import CategoricalColorMapper, HoverTool, ColumnDataSource, Panel\n",
    "from bokeh.models.widgets import CheckboxGroup, Slider, RangeSlider, Tabs,CheckboxButtonGroup\n",
    "from bokeh.layouts import column, row, WidgetBox\n",
    "from bokeh.palettes import Category20_16, Viridis256\n",
    "from bokeh.application.handlers import FunctionHandler\n",
    "from bokeh.application import Application\n",
    "\n",
    "output_notebook()"
   ]
  },
  {
   "cell_type": "code",
   "execution_count": null,
   "metadata": {},
   "outputs": [],
   "source": [
    "Path_Socio = \"../data/raw/Census_Data_-_Selected_socioeconomic_indicators_in_Chicago__2008___2012.csv\"\n",
    "Path_Crime = \"../data/raw/Crimes_-_2001_to_present.csv\"\n",
    "Path_geo_json = \"../data/raw/chicago_police_districts.geojson\"\n",
    "df_Socio = pd.read_csv(Path_Socio)\n",
    "df_Crime = pd.read_csv(Path_Crime, sep=';')"
   ]
  },
  {
   "cell_type": "code",
   "execution_count": null,
   "metadata": {},
   "outputs": [],
   "source": [
    "my_color = ['#a6cee3', '#1f78b4', '#b2df8a', '#a6cee3', '#1f78b4', '#b2df8a',\\\n",
    "            '#33a02c', '#a6cee3', '#1f78b4', '#b2df8a', '#33a02c', '#fb9a99',\\\n",
    "            '#a6cee3', '#1f78b4', '#b2df8a', '#33a02c', '#fb9a99', '#e31a1c',\\\n",
    "            '#a6cee3', '#1f78b4', '#b2df8a', '#33a02c', '#fb9a99', '#e31a1c', \\\n",
    "            '#fdbf6f', '#a6cee3', '#1f78b4', '#b2df8a', '#33a02c', '#fb9a99', \\\n",
    "            '#e31a1c', '#fdbf6f', '#ff7f00', '#a6cee3', '#1f78b4', '#b2df8a', \\\n",
    "            '#33a02c', '#fb9a99', '#e31a1c', '#fdbf6f', '#ff7f00', '#cab2d6', \\\n",
    "            '#a6cee3', '#1f78b4', '#b2df8a', '#33a02c', '#fb9a99', '#e31a1c', \\\n",
    "            '#fdbf6f', '#ff7f00', '#cab2d6', '#6a3d9a', '#a6cee3', '#1f78b4', \\\n",
    "            '#b2df8a', '#33a02c', '#fb9a99', '#e31a1c', '#fdbf6f', '#ff7f00', \\\n",
    "            '#cab2d6', '#6a3d9a', '#ffff99', '#a6cee3', '#1f78b4', '#b2df8a', \\\n",
    "            '#33a02c', '#fb9a99', '#e31a1c', \\\n",
    "            '#fdbf6f', '#ff7f00', '#cab2d6', '#6a3d9a', '#ffff99', '#b15928']"
   ]
  },
  {
   "cell_type": "code",
   "execution_count": null,
   "metadata": {},
   "outputs": [],
   "source": [
    "def rename_columns_socio():\n",
    "    \"\"\"\n",
    "    \n",
    "    \"\"\"\n",
    "    return {\n",
    "'Community Area Number':'community_area_number',\n",
    "'COMMUNITY AREA NAME':'community_area_name', \n",
    "'PERCENT OF HOUSING CROWDED':'pct_housing_crowded', \n",
    "'PERCENT HOUSEHOLDS BELOW POVERTY':'pct_households_below_poverty', \n",
    "'PERCENT AGED 16+ UNEMPLOYED':'pct_age16_unemployed',\n",
    "'PERCENT AGED 25+ WITHOUT HIGH SCHOOL DIPLOMA':'pct_age25_no_highschool',\n",
    "'PERCENT AGED UNDER 18 OR OVER 64':'pct_not_working_age',\n",
    "'per_capita_income':'per_capita_income',\n",
    "'HARDSHIP INDEX':'hardship_index',\n",
    "'PER CAPITA INCOME ':'per_capita_income'}\n",
    "\n",
    "def rename_columns_crimes():\n",
    "    \"\"\"\n",
    "    \n",
    "    \"\"\"\n",
    "    return {\n",
    "        'ID': 'id',\n",
    "        'Case Number': 'cas_number', \n",
    "        'Date':'date',\n",
    "        'Block':'block', \n",
    "        'IUCR':'iucr', \n",
    "        'Primary Type':'primary_type',\n",
    "        'Description':'description', \n",
    "        'Location Description':'location_description', \n",
    "        'Arrest':'arrest', \n",
    "        'Domestic':'domestic', \n",
    "        'Beat':'beat',\n",
    "        'District':'district', \n",
    "        'Ward':'ward', \n",
    "        'Community Area': 'community_area_number', \n",
    "        'FBI Code':'fbi_code', \n",
    "        'X Coordinate':'x_coordinate',\n",
    "        'Y Coordinate':'y_coordinate', \n",
    "        'Year':'year', \n",
    "        'Updated On':'updated_on', \n",
    "        'Latitude':'latitude', \n",
    "        'Longitude':'longitude',\n",
    "        'Location':'location'   \n",
    "    }"
   ]
  },
  {
   "cell_type": "code",
   "execution_count": null,
   "metadata": {},
   "outputs": [],
   "source": [
    "def df_by_year(year):\n",
    "    df_Crime_year = df_Crime[df_Crime['year']==year]\n",
    "    df_src = pd.merge(df_Crime_year, df_Socio, on='community_area_number', how='left')\n",
    "    group = df_src.groupby(['community_area_name','primary_type'])\n",
    "    df_grouped = df_src.groupby(['community_area_name','primary_type'],\\\n",
    "                                as_index=False).id.count().rename(columns={'id':'nb_crimes'})\n",
    "    del df_Crime_year\n",
    "    del group\n",
    "    return df_grouped  "
   ]
  },
  {
   "cell_type": "code",
   "execution_count": null,
   "metadata": {},
   "outputs": [],
   "source": [
    "df_Socio.rename(columns=rename_columns_socio(), inplace=True)\n",
    "df_Crime.rename(columns=rename_columns_crimes(), inplace=True)"
   ]
  },
  {
   "cell_type": "code",
   "execution_count": null,
   "metadata": {},
   "outputs": [],
   "source": [
    "df_Crime_2012 = df_Crime[df_Crime['year'] == 2012]\n",
    "df_src = pd.merge(df_Crime_2012, df_Socio, on='community_area_number', how='left')\n",
    "df_src = df_src[['id', 'primary_type', 'community_area_name']]"
   ]
  },
  {
   "cell_type": "code",
   "execution_count": null,
   "metadata": {},
   "outputs": [],
   "source": [
    "df_grouped = df_src.groupby(['community_area_name','primary_type'], as_index=False).id.count().rename(columns={'id':'nb_crimes'})"
   ]
  },
  {
   "cell_type": "code",
   "execution_count": null,
   "metadata": {},
   "outputs": [],
   "source": [
    "list_primary_type = df_grouped.primary_type.unique().tolist()\n",
    "list_community_area = df_grouped.community_area_name.unique().tolist()"
   ]
  },
  {
   "cell_type": "code",
   "execution_count": null,
   "metadata": {
    "scrolled": true
   },
   "outputs": [],
   "source": [
    "carrier_selection = CheckboxButtonGroup(labels=list_community_area, active = [0, 1])\n",
    "#show(carrier_selection)"
   ]
  },
  {
   "cell_type": "code",
   "execution_count": null,
   "metadata": {},
   "outputs": [],
   "source": [
    "def modify_doc(doc):\n",
    "    def make_dataset(list_community_area, year):\n",
    "        import random\n",
    "        list_df_total=[]\n",
    "        df_grouped=df_by_year(year)\n",
    "        random.shuffle(my_color, random.random)\n",
    "        for i, community in enumerate(list_community_area):\n",
    "            subset=df_grouped[df_grouped['community_area_name']==community]\n",
    "            subset_copy= copy.deepcopy(subset) \n",
    "            #subset['community_area_name'].fillna(community,inplace =True)\n",
    "            subset_copy['nb_crimes'].fillna(0, inplace=True)\n",
    "            subset_copy['color']=  my_color[i]\n",
    "            list_df_total.append(subset_copy)\n",
    "        del df_grouped\n",
    "        del subset\n",
    "        return ColumnDataSource(pd.concat(list_df_total))\n",
    "    def style(p):\n",
    "        p.y_range.start = 0\n",
    "        p.x_range.range_padding = 0.05\n",
    "        p.xgrid.grid_line_color = None\n",
    "        p.xaxis.axis_label = \"type of crime\"\n",
    "        p.xaxis.major_label_orientation = 1.2\n",
    "        #p.outline_line_color = None\n",
    "        return p\n",
    "        \n",
    "    def make_plot(src):\n",
    "        # Blank plot with correct labels\n",
    "        p = figure(plot_width = 700, plot_height = 900, title='crimes by community',\\\n",
    "                   x_axis_label='community', y_axis_label='nb_crimes',\\\n",
    "           x_range=list_primary_type)\n",
    "\n",
    "        p.vbar(x='primary_type', top='nb_crimes', width=1, source=src, \\\n",
    "               color='color', hover_fill_color='color', line_color=\"white\")\n",
    "        # Hover tool with vline mode\n",
    "        hover = HoverTool(tooltips=[('community_area_name', '@community_area_name'), \n",
    "                                    ('primary_type', '@primary_type'),\n",
    "                                    ('nb_crimes', '@nb_crimes')], mode='vline')\n",
    "        p.add_tools(hover)\n",
    "        # Styling\n",
    "        p = style(p)\n",
    "        return p\n",
    "    \n",
    "    def update(attr, old, new):\n",
    "        carriers_to_plot = [carrier_selection.labels[i] for i in \n",
    "                            carrier_selection.active]\n",
    "        new_src = make_dataset(carriers_to_plot,year=year_select.value)\n",
    "        \n",
    "        # Update the source used the quad glpyhs\n",
    "        src.data.update(new_src.data)\n",
    "        \n",
    "    carrier_selection = CheckboxButtonGroup(labels=list_community_area, active = [0])\n",
    "    carrier_selection.on_change('active', update)\n",
    "    year_select = Slider(start=2001, end=2017, \n",
    "                         step=1, value=2001,\n",
    "                         title='year')\n",
    "    year_select.on_change('value', update)\n",
    "    controls = WidgetBox(year_select, carrier_selection)\n",
    "    initial_carriers = [carrier_selection.labels[i] for i in carrier_selection.active]\n",
    "    src = make_dataset(initial_carriers, year=year_select.value)\n",
    "    p = make_plot(src)\n",
    "    #l = layout([controls,p], sizing_mode='stretch_both')\n",
    "    layout = row(controls, p)\n",
    "    doc.add_root(layout)   "
   ]
  },
  {
   "cell_type": "code",
   "execution_count": null,
   "metadata": {},
   "outputs": [],
   "source": [
    "# Set up an application\n",
    "handler = FunctionHandler(modify_doc)\n",
    "app = Application(handler)"
   ]
  },
  {
   "cell_type": "code",
   "execution_count": null,
   "metadata": {},
   "outputs": [],
   "source": [
    "show(app)"
   ]
  },
  {
   "cell_type": "code",
   "execution_count": null,
   "metadata": {},
   "outputs": [],
   "source": []
  },
  {
   "cell_type": "code",
   "execution_count": null,
   "metadata": {},
   "outputs": [],
   "source": []
  }
 ],
 "metadata": {
  "kernelspec": {
   "display_name": "Python 3",
   "language": "python",
   "name": "python3"
  },
  "language_info": {
   "codemirror_mode": {
    "name": "ipython",
    "version": 3
   },
   "file_extension": ".py",
   "mimetype": "text/x-python",
   "name": "python",
   "nbconvert_exporter": "python",
   "pygments_lexer": "ipython3",
   "version": "3.7.0"
  }
 },
 "nbformat": 4,
 "nbformat_minor": 2
}
