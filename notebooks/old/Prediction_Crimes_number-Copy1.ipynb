{
 "cells": [
  {
   "cell_type": "markdown",
   "metadata": {},
   "source": [
    "### Objectifs de ce notebook :\n",
    ">Utilisation des données du site https://data.cityofchicago.org/ sur la criminalité ainsi que des données  socio-économiques du ministère de la Santé de Chicago https://data.cityofchicago.org/Health-Human-Services/Census-Data-Selected-socioeconomic-indicators-in-C/kn9c-c2s2.\n",
    "- Extraction des features\n",
    "- Label ou taget (varialbe à prédire) : nombre de crime par (mois, région et type)\n",
    "- Implémentation d'algorithme de machine learning sur l'annés 2012 et application sur l'année 2013\n",
    "- Visualisation des résultats"
   ]
  },
  {
   "cell_type": "code",
   "execution_count": 1,
   "metadata": {},
   "outputs": [],
   "source": [
    "import warnings\n",
    "warnings.filterwarnings('ignore')"
   ]
  },
  {
   "cell_type": "code",
   "execution_count": 2,
   "metadata": {},
   "outputs": [],
   "source": [
    "import numpy as np\n",
    "import pandas as pd\n",
    "import matplotlib as mpl\n",
    "import matplotlib.pyplot as plt\n",
    "import scipy\n",
    "import seaborn as sns\n",
    "import matplotlib\n",
    "import matplotlib.pyplot as plt\n",
    "import xgboost as xgb\n",
    "from sklearn.metrics import mean_squared_error\n",
    "from sklearn.metrics import r2_score\n",
    "from sklearn.metrics import explained_variance_score\n",
    "from sklearn.model_selection import train_test_split"
   ]
  },
  {
   "cell_type": "code",
   "execution_count": null,
   "metadata": {},
   "outputs": [],
   "source": []
  },
  {
   "cell_type": "code",
   "execution_count": 3,
   "metadata": {},
   "outputs": [],
   "source": [
    "Path_Socio = \"/home/ml/Documents/crimes_chigaco/data/raw/Census_Data_-_Selected_socioeconomic_indicators_in_Chicago__2008___2012.csv\"\n",
    "Path_Crime = \"/home/ml/Documents/crimes_chigaco/data/raw/Crimes_-_2001_to_present.csv\""
   ]
  },
  {
   "cell_type": "code",
   "execution_count": 4,
   "metadata": {},
   "outputs": [],
   "source": [
    "df_Socio = pd.read_csv(Path_Socio)\n",
    "df_Crime = pd.read_csv(Path_Crime, sep=';')"
   ]
  },
  {
   "cell_type": "code",
   "execution_count": 5,
   "metadata": {},
   "outputs": [],
   "source": [
    "def rename_columns_socio():\n",
    "    \"\"\"\n",
    "    \n",
    "    \"\"\"\n",
    "    return {\n",
    "'Community Area Number':'community_area_number',\n",
    "'COMMUNITY AREA NAME':'community_area_name', \n",
    "'PERCENT OF HOUSING CROWDED':'pct_housing_crowded', \n",
    "'PERCENT HOUSEHOLDS BELOW POVERTY':'pct_households_below_poverty', \n",
    "'PERCENT AGED 16+ UNEMPLOYED':'pct_age16_unemployed',\n",
    "'PERCENT AGED 25+ WITHOUT HIGH SCHOOL DIPLOMA':'pct_age25_no_highschool',\n",
    "'PERCENT AGED UNDER 18 OR OVER 64': 'pct_not_working_age',\n",
    "'per_capita_income':'per_capita_income',\n",
    "'HARDSHIP INDEX' : 'hardship_index'}\n",
    "\n",
    "def rename_columns_crimes():\n",
    "    \"\"\"\n",
    "    \n",
    "    \"\"\"\n",
    "    return {\n",
    "        'ID': 'id',\n",
    "        'Case Number': 'cas_number', \n",
    "        'Date':'date',\n",
    "        'Block':'block', \n",
    "        'IUCR':'iucr', \n",
    "        'Primary Type':'primary_type',\n",
    "        'Description':'description', \n",
    "        'Location Description':'location_description', \n",
    "        'Arrest':'arrest', \n",
    "        'Domestic':'domestic', \n",
    "        'Beat':'beat',\n",
    "        'District':'district', \n",
    "        'Ward':'ward', \n",
    "        'Community Area': 'community_area_number', \n",
    "        'FBI Code':'fbi_code', \n",
    "        'X Coordinate':'x_coordinate',\n",
    "        'Y Coordinate':'y_coordinate', \n",
    "        'Year':'year', \n",
    "        'Updated On':'updated_on', \n",
    "        'Latitude':'latitude', \n",
    "        'Longitude':'longitude',\n",
    "        'Location':'location'   \n",
    "    }\n",
    "\n",
    "df_Socio.rename(columns=rename_columns_socio(), inplace = True)\n",
    "df_Crime.rename(columns= rename_columns_crimes(), inplace= True)"
   ]
  },
  {
   "cell_type": "code",
   "execution_count": 6,
   "metadata": {},
   "outputs": [],
   "source": [
    "def visualisation_prediction(y_test, y_pred):\n",
    "    \n",
    "    matplotlib.rc('xtick', labelsize=30) \n",
    "    matplotlib.rc('ytick', labelsize=30) \n",
    "    fig, ax = plt.subplots(figsize=(50, 40))\n",
    "    plt.style.use('ggplot')\n",
    "    plt.plot(y_pred, y_test, 'ro')\n",
    "    plt.xlabel('Predicted Crime', fontsize = 30)\n",
    "    plt.ylabel('Actual Crime', fontsize = 30)\n",
    "    plt.title('Predicted Y (Crimes) to the Actual Y (Crimes)', fontsize = 30)\n",
    "    ax.plot([y_test.min(), y_test.max()], [y_test.min(), y_test.max()], 'k--', lw=4)"
   ]
  },
  {
   "cell_type": "code",
   "execution_count": 7,
   "metadata": {},
   "outputs": [],
   "source": [
    "def extract_features(year, df_S, df_C):\n",
    "    \"\"\"\n",
    "    \n",
    "    \"\"\"\n",
    "    list_name_crimes = list(df_C['primary_type'].unique())\n",
    "    df_year = df_C[df_C['year']==year]\n",
    "    df_year['month']=pd.DatetimeIndex(df_year['date']).month\n",
    "    df_year_grouped = df_year.groupby(['community_area_number', 'month', 'primary_type'],\\\n",
    "                                      as_index=False).agg({'id':'count'})\n",
    "    df_year_grouped.rename(columns={'id':'nb_crimes'}, inplace=True)\n",
    "    df_merged = pd.merge(df_year_grouped, df_S, on ='community_area_number', how='inner')\n",
    "    df_merged.dropna(inplace=True)\n",
    "    df_features = pd.get_dummies(df_merged)\n",
    "    for col in list_name_crimes:\n",
    "        if \"primary_type_\" + col not in list(df_features.columns):\n",
    "            df_features[\"primary_type_\" + col]=-1\n",
    "            \n",
    "    return df_features"
   ]
  },
  {
   "cell_type": "code",
   "execution_count": 8,
   "metadata": {},
   "outputs": [],
   "source": [
    "df_features = extract_features(2012, df_S=df_Socio, df_C=df_Crime)"
   ]
  },
  {
   "cell_type": "code",
   "execution_count": null,
   "metadata": {},
   "outputs": [],
   "source": []
  },
  {
   "cell_type": "code",
   "execution_count": 9,
   "metadata": {},
   "outputs": [
    {
     "data": {
      "text/plain": [
       "(15667, 122)"
      ]
     },
     "execution_count": 9,
     "metadata": {},
     "output_type": "execute_result"
    }
   ],
   "source": [
    "df_features.shape"
   ]
  },
  {
   "cell_type": "code",
   "execution_count": 10,
   "metadata": {},
   "outputs": [
    {
     "data": {
      "text/html": [
       "<div>\n",
       "<style scoped>\n",
       "    .dataframe tbody tr th:only-of-type {\n",
       "        vertical-align: middle;\n",
       "    }\n",
       "\n",
       "    .dataframe tbody tr th {\n",
       "        vertical-align: top;\n",
       "    }\n",
       "\n",
       "    .dataframe thead th {\n",
       "        text-align: right;\n",
       "    }\n",
       "</style>\n",
       "<table border=\"1\" class=\"dataframe\">\n",
       "  <thead>\n",
       "    <tr style=\"text-align: right;\">\n",
       "      <th></th>\n",
       "      <th>community_area_number</th>\n",
       "      <th>month</th>\n",
       "      <th>nb_crimes</th>\n",
       "      <th>pct_housing_crowded</th>\n",
       "      <th>pct_households_below_poverty</th>\n",
       "      <th>pct_age16_unemployed</th>\n",
       "      <th>pct_age25_no_highschool</th>\n",
       "      <th>pct_not_working_age</th>\n",
       "      <th>PER CAPITA INCOME</th>\n",
       "      <th>hardship_index</th>\n",
       "      <th>...</th>\n",
       "      <th>community_area_name_West Lawn</th>\n",
       "      <th>community_area_name_West Pullman</th>\n",
       "      <th>community_area_name_West Ridge</th>\n",
       "      <th>community_area_name_West Town</th>\n",
       "      <th>community_area_name_Woodlawn</th>\n",
       "      <th>primary_type_HUMAN TRAFFICKING</th>\n",
       "      <th>primary_type_CONCEALED CARRY LICENSE VIOLATION</th>\n",
       "      <th>primary_type_NON - CRIMINAL</th>\n",
       "      <th>primary_type_RITUALISM</th>\n",
       "      <th>primary_type_DOMESTIC VIOLENCE</th>\n",
       "    </tr>\n",
       "  </thead>\n",
       "  <tbody>\n",
       "    <tr>\n",
       "      <th>642</th>\n",
       "      <td>3.0</td>\n",
       "      <td>10</td>\n",
       "      <td>1</td>\n",
       "      <td>3.8</td>\n",
       "      <td>24.0</td>\n",
       "      <td>8.9</td>\n",
       "      <td>11.8</td>\n",
       "      <td>22.2</td>\n",
       "      <td>35787</td>\n",
       "      <td>20.0</td>\n",
       "      <td>...</td>\n",
       "      <td>0</td>\n",
       "      <td>0</td>\n",
       "      <td>0</td>\n",
       "      <td>0</td>\n",
       "      <td>0</td>\n",
       "      <td>-1</td>\n",
       "      <td>-1</td>\n",
       "      <td>-1</td>\n",
       "      <td>-1</td>\n",
       "      <td>-1</td>\n",
       "    </tr>\n",
       "    <tr>\n",
       "      <th>1069</th>\n",
       "      <td>6.0</td>\n",
       "      <td>2</td>\n",
       "      <td>1</td>\n",
       "      <td>1.1</td>\n",
       "      <td>11.4</td>\n",
       "      <td>4.7</td>\n",
       "      <td>2.6</td>\n",
       "      <td>17.0</td>\n",
       "      <td>60058</td>\n",
       "      <td>5.0</td>\n",
       "      <td>...</td>\n",
       "      <td>0</td>\n",
       "      <td>0</td>\n",
       "      <td>0</td>\n",
       "      <td>0</td>\n",
       "      <td>0</td>\n",
       "      <td>-1</td>\n",
       "      <td>-1</td>\n",
       "      <td>-1</td>\n",
       "      <td>-1</td>\n",
       "      <td>-1</td>\n",
       "    </tr>\n",
       "    <tr>\n",
       "      <th>8774</th>\n",
       "      <td>43.0</td>\n",
       "      <td>10</td>\n",
       "      <td>172</td>\n",
       "      <td>2.8</td>\n",
       "      <td>31.1</td>\n",
       "      <td>20.0</td>\n",
       "      <td>14.0</td>\n",
       "      <td>35.7</td>\n",
       "      <td>19398</td>\n",
       "      <td>55.0</td>\n",
       "      <td>...</td>\n",
       "      <td>0</td>\n",
       "      <td>0</td>\n",
       "      <td>0</td>\n",
       "      <td>0</td>\n",
       "      <td>0</td>\n",
       "      <td>-1</td>\n",
       "      <td>-1</td>\n",
       "      <td>-1</td>\n",
       "      <td>-1</td>\n",
       "      <td>-1</td>\n",
       "    </tr>\n",
       "    <tr>\n",
       "      <th>423</th>\n",
       "      <td>2.0</td>\n",
       "      <td>10</td>\n",
       "      <td>12</td>\n",
       "      <td>7.8</td>\n",
       "      <td>17.2</td>\n",
       "      <td>8.8</td>\n",
       "      <td>20.8</td>\n",
       "      <td>38.5</td>\n",
       "      <td>23040</td>\n",
       "      <td>46.0</td>\n",
       "      <td>...</td>\n",
       "      <td>0</td>\n",
       "      <td>0</td>\n",
       "      <td>1</td>\n",
       "      <td>0</td>\n",
       "      <td>0</td>\n",
       "      <td>-1</td>\n",
       "      <td>-1</td>\n",
       "      <td>-1</td>\n",
       "      <td>-1</td>\n",
       "      <td>-1</td>\n",
       "    </tr>\n",
       "    <tr>\n",
       "      <th>5525</th>\n",
       "      <td>28.0</td>\n",
       "      <td>1</td>\n",
       "      <td>12</td>\n",
       "      <td>3.8</td>\n",
       "      <td>20.6</td>\n",
       "      <td>10.7</td>\n",
       "      <td>9.6</td>\n",
       "      <td>22.2</td>\n",
       "      <td>44689</td>\n",
       "      <td>15.0</td>\n",
       "      <td>...</td>\n",
       "      <td>0</td>\n",
       "      <td>0</td>\n",
       "      <td>0</td>\n",
       "      <td>0</td>\n",
       "      <td>0</td>\n",
       "      <td>-1</td>\n",
       "      <td>-1</td>\n",
       "      <td>-1</td>\n",
       "      <td>-1</td>\n",
       "      <td>-1</td>\n",
       "    </tr>\n",
       "  </tbody>\n",
       "</table>\n",
       "<p>5 rows × 122 columns</p>\n",
       "</div>"
      ],
      "text/plain": [
       "      community_area_number  month  nb_crimes  pct_housing_crowded  \\\n",
       "642                     3.0     10          1                  3.8   \n",
       "1069                    6.0      2          1                  1.1   \n",
       "8774                   43.0     10        172                  2.8   \n",
       "423                     2.0     10         12                  7.8   \n",
       "5525                   28.0      1         12                  3.8   \n",
       "\n",
       "      pct_households_below_poverty  pct_age16_unemployed  \\\n",
       "642                           24.0                   8.9   \n",
       "1069                          11.4                   4.7   \n",
       "8774                          31.1                  20.0   \n",
       "423                           17.2                   8.8   \n",
       "5525                          20.6                  10.7   \n",
       "\n",
       "      pct_age25_no_highschool  pct_not_working_age  PER CAPITA INCOME   \\\n",
       "642                      11.8                 22.2               35787   \n",
       "1069                      2.6                 17.0               60058   \n",
       "8774                     14.0                 35.7               19398   \n",
       "423                      20.8                 38.5               23040   \n",
       "5525                      9.6                 22.2               44689   \n",
       "\n",
       "      hardship_index               ...                \\\n",
       "642             20.0               ...                 \n",
       "1069             5.0               ...                 \n",
       "8774            55.0               ...                 \n",
       "423             46.0               ...                 \n",
       "5525            15.0               ...                 \n",
       "\n",
       "      community_area_name_West Lawn  community_area_name_West Pullman  \\\n",
       "642                               0                                 0   \n",
       "1069                              0                                 0   \n",
       "8774                              0                                 0   \n",
       "423                               0                                 0   \n",
       "5525                              0                                 0   \n",
       "\n",
       "      community_area_name_West Ridge  community_area_name_West Town  \\\n",
       "642                                0                              0   \n",
       "1069                               0                              0   \n",
       "8774                               0                              0   \n",
       "423                                1                              0   \n",
       "5525                               0                              0   \n",
       "\n",
       "      community_area_name_Woodlawn  primary_type_HUMAN TRAFFICKING  \\\n",
       "642                              0                              -1   \n",
       "1069                             0                              -1   \n",
       "8774                             0                              -1   \n",
       "423                              0                              -1   \n",
       "5525                             0                              -1   \n",
       "\n",
       "      primary_type_CONCEALED CARRY LICENSE VIOLATION  \\\n",
       "642                                               -1   \n",
       "1069                                              -1   \n",
       "8774                                              -1   \n",
       "423                                               -1   \n",
       "5525                                              -1   \n",
       "\n",
       "      primary_type_NON - CRIMINAL  primary_type_RITUALISM  \\\n",
       "642                            -1                      -1   \n",
       "1069                           -1                      -1   \n",
       "8774                           -1                      -1   \n",
       "423                            -1                      -1   \n",
       "5525                           -1                      -1   \n",
       "\n",
       "      primary_type_DOMESTIC VIOLENCE  \n",
       "642                               -1  \n",
       "1069                              -1  \n",
       "8774                              -1  \n",
       "423                               -1  \n",
       "5525                              -1  \n",
       "\n",
       "[5 rows x 122 columns]"
      ]
     },
     "execution_count": 10,
     "metadata": {},
     "output_type": "execute_result"
    }
   ],
   "source": [
    "df_features.sample(5)"
   ]
  },
  {
   "cell_type": "markdown",
   "metadata": {},
   "source": [
    "## Création d'un modèle entrainé sur les données de l'année 2012"
   ]
  },
  {
   "cell_type": "markdown",
   "metadata": {},
   "source": [
    "### Données utilisées"
   ]
  },
  {
   "cell_type": "code",
   "execution_count": null,
   "metadata": {},
   "outputs": [],
   "source": [
    "X_2012 = df_features[df_features.columns.difference(['nb_crimes'])]\n",
    "y_2012 = df_features[['nb_crimes']]"
   ]
  },
  {
   "cell_type": "markdown",
   "metadata": {},
   "source": [
    "### Création du modèle ainsi que son entrainement"
   ]
  },
  {
   "cell_type": "code",
   "execution_count": null,
   "metadata": {},
   "outputs": [],
   "source": [
    "xg_reg = xgb.XGBRegressor(objective ='reg:linear', colsample_bytree = 0.3, learning_rate = 0.1,\n",
    "                max_depth = 30, alpha = 10, n_estimators = 500)\n",
    "xg_reg.fit(X_2012,y_2012)"
   ]
  },
  {
   "cell_type": "markdown",
   "metadata": {},
   "source": [
    "### On prédit le nombre de crimes sur l'année  2013"
   ]
  },
  {
   "cell_type": "markdown",
   "metadata": {},
   "source": [
    "##### Extraction des features sur l'année 2013 "
   ]
  },
  {
   "cell_type": "code",
   "execution_count": null,
   "metadata": {},
   "outputs": [],
   "source": [
    "df_features_2013=extract_features(2013, df_S=df_Socio, df_C=df_Crime)\n",
    "X_2013 = df_features_2013[df_features_2013.columns.difference(['nb_crimes'])]\n",
    "y_2013 = df_features_2013[['nb_crimes']]"
   ]
  },
  {
   "cell_type": "markdown",
   "metadata": {},
   "source": [
    "### Prédiction sur l'année 2013"
   ]
  },
  {
   "cell_type": "code",
   "execution_count": null,
   "metadata": {},
   "outputs": [],
   "source": [
    "y_pred_2013 = xg_reg.predict(X_2013)"
   ]
  },
  {
   "cell_type": "markdown",
   "metadata": {},
   "source": [
    "### Visualisation des résultats"
   ]
  },
  {
   "cell_type": "code",
   "execution_count": null,
   "metadata": {},
   "outputs": [],
   "source": [
    "visualisation_prediction(y_pred_2013, y_2013)"
   ]
  },
  {
   "cell_type": "markdown",
   "metadata": {},
   "source": [
    "### Score : coefficient de détermination"
   ]
  },
  {
   "cell_type": "code",
   "execution_count": null,
   "metadata": {},
   "outputs": [],
   "source": [
    "print( \"score : coefficient de détermination est : \" + str(r2_score(y_2013, y_pred_2013)))"
   ]
  },
  {
   "cell_type": "markdown",
   "metadata": {},
   "source": [
    "## Dans cette partie nous allons améliorer le score en optimisant les hyper-paramètres de XGBOOST"
   ]
  },
  {
   "cell_type": "code",
   "execution_count": null,
   "metadata": {},
   "outputs": [],
   "source": [
    "xg_reg_optim = xgb.XGBRegressor(objective ='reg:linear', colsample_bytree = 0.25, learning_rate = 0.07,\n",
    "                max_depth = 11, alpha = 8, n_estimators = 250,n_jobs=-1)\n",
    "xg_reg_optim.fit(X_2012,y_2012)"
   ]
  },
  {
   "cell_type": "code",
   "execution_count": null,
   "metadata": {},
   "outputs": [],
   "source": [
    "y_pred_2013_optim = xg_reg_optim.predict(X_2013)"
   ]
  },
  {
   "cell_type": "code",
   "execution_count": null,
   "metadata": {},
   "outputs": [],
   "source": [
    "print( \"score : coefficient de détermination est : \" + str(r2_score(y_2013, y_pred_2013_optim)))"
   ]
  },
  {
   "cell_type": "code",
   "execution_count": null,
   "metadata": {},
   "outputs": [],
   "source": [
    "visualisation_prediction(y_pred_2013_optim, y_2013)"
   ]
  },
  {
   "cell_type": "code",
   "execution_count": null,
   "metadata": {
    "scrolled": false
   },
   "outputs": [],
   "source": [
    "xgb.plot_importance(xg_reg_optim)\n",
    "plt.rcParams['figure.figsize'] = [10,15]"
   ]
  },
  {
   "cell_type": "code",
   "execution_count": null,
   "metadata": {},
   "outputs": [],
   "source": [
    "!pip install astral"
   ]
  },
  {
   "cell_type": "code",
   "execution_count": null,
   "metadata": {},
   "outputs": [],
   "source": []
  },
  {
   "cell_type": "code",
   "execution_count": null,
   "metadata": {},
   "outputs": [],
   "source": []
  },
  {
   "cell_type": "code",
   "execution_count": null,
   "metadata": {},
   "outputs": [],
   "source": [
    "### Dans cette partie nous allons améliorer la précision de l'algorithme en enrichissant les features\n",
    "\n",
    "df_year = df_Crime[df_Crime['year']==2012]\n",
    "\n",
    "liste_utilise = ['id',\n",
    " 'date',\n",
    " 'block',\n",
    " 'primary_type',\n",
    " 'community_area_number']\n",
    "\n",
    "df_year = df_year [liste_utilise]\n",
    "\n",
    "df_year['date'] = pd.to_datetime(df_year['date'])\n",
    "\n",
    "df_year['month']=df_year['date'].dt.month\n",
    "\n",
    "df_year['day'] = df_year['date'].dt.day\n",
    "\n",
    "df_year['dayofweek']=df_year['date'].dt.dayofweek\n",
    "\n",
    "#df_year['type_block'] = df_year['block'].apply(lambda x : x.split(\" \")[-1])\n",
    "\n",
    "df_with_day = pd.get_dummies(df_year, columns=['dayofweek', 'day']).\\\n",
    "groupby(['community_area_number', 'month', 'primary_type'],\\\n",
    "                                                       as_index=False).count()\n",
    "df_features_all = pd.merge(df_features, df_with_day, on = ['community_area_number', 'month'], how = 'left')\n",
    "df_features_all.drop_duplicates(inplace = True)"
   ]
  },
  {
   "cell_type": "code",
   "execution_count": null,
   "metadata": {},
   "outputs": [],
   "source": [
    "df_features_all.drop(['primary_type', 'id'], axis=1, inplace=True)"
   ]
  },
  {
   "cell_type": "code",
   "execution_count": null,
   "metadata": {},
   "outputs": [],
   "source": [
    "X_2012_all = df_features_all[df_features_all.columns.difference(['nb_crimes'])]\n",
    "y_2012_all = df_features_all[['nb_crimes']]"
   ]
  },
  {
   "cell_type": "code",
   "execution_count": null,
   "metadata": {
    "scrolled": true
   },
   "outputs": [],
   "source": [
    "X_2012_all.columns.tolist()"
   ]
  },
  {
   "cell_type": "code",
   "execution_count": null,
   "metadata": {},
   "outputs": [],
   "source": [
    "%%time\n",
    "xg_reg_all = xgb.XGBRegressor(objective ='reg:linear', colsample_bytree = 0.3, learning_rate = 0.1,\n",
    "                max_depth = 20, alpha = 10, n_estimators = 200,n_jobs=-1)\n",
    "xg_reg_all.fit(X_2012_all ,y_2012_all)"
   ]
  },
  {
   "cell_type": "markdown",
   "metadata": {},
   "source": [
    "## Prédiction sur l'année 2013"
   ]
  },
  {
   "cell_type": "code",
   "execution_count": null,
   "metadata": {},
   "outputs": [],
   "source": [
    "df_features_2013 = extract_features(2013, df_S=df_Socio, df_C=df_Crime)"
   ]
  },
  {
   "cell_type": "code",
   "execution_count": null,
   "metadata": {},
   "outputs": [],
   "source": [
    "df_year_2013 = df_Crime[df_Crime['year']==2013]\n",
    "\n",
    "liste_utilise = ['id',\n",
    " 'date',\n",
    " 'block',\n",
    " 'primary_type',\n",
    " 'community_area_number']\n",
    "\n",
    "df_year_2013 = df_year_2013[liste_utilise]\n",
    "\n",
    "df_year_2013['date'] = pd.to_datetime(df_year_2013['date'])\n",
    "\n",
    "df_year_2013['month']=df_year_2013['date'].dt.month\n",
    "\n",
    "df_year_2013['day'] = df_year_2013['date'].dt.day\n",
    "\n",
    "df_year_2013['dayofweek']=df_year_2013['date'].dt.dayofweek\n",
    "\n",
    "#df_year['type_block'] = df_year['block'].apply(lambda x : x.split(\" \")[-1])\n",
    "\n",
    "df_with_day_2013 = pd.get_dummies(df_year_2013, columns=['dayofweek', 'day']).\\\n",
    "groupby(['community_area_number', 'month', 'primary_type'],\\\n",
    "                                                       as_index=False).count()\n",
    "df_features_all_2013 = pd.merge(df_features_2013, df_with_day_2013, on = ['community_area_number', 'month'], how = 'left')\n",
    "df_features_all_2013.drop_duplicates(inplace = True)"
   ]
  },
  {
   "cell_type": "code",
   "execution_count": null,
   "metadata": {},
   "outputs": [],
   "source": [
    "df_year_2013 = df_Crime[df_Crime['year']==2013]"
   ]
  },
  {
   "cell_type": "code",
   "execution_count": null,
   "metadata": {},
   "outputs": [],
   "source": [
    "df_year_2013.sample(5)"
   ]
  },
  {
   "cell_type": "code",
   "execution_count": null,
   "metadata": {},
   "outputs": [],
   "source": [
    "liste_utilise = ['id',\n",
    " 'date',\n",
    " 'block',\n",
    " 'primary_type',\n",
    " 'community_area_number']"
   ]
  },
  {
   "cell_type": "code",
   "execution_count": null,
   "metadata": {},
   "outputs": [],
   "source": [
    "df_year_2013 = df_year_2013[liste_utilise]"
   ]
  },
  {
   "cell_type": "code",
   "execution_count": null,
   "metadata": {
    "scrolled": true
   },
   "outputs": [],
   "source": [
    "df_year_2013"
   ]
  },
  {
   "cell_type": "code",
   "execution_count": null,
   "metadata": {},
   "outputs": [],
   "source": [
    "df_year_2013['date'] = pd.to_datetime(df_year_2013['date'])"
   ]
  },
  {
   "cell_type": "code",
   "execution_count": null,
   "metadata": {},
   "outputs": [],
   "source": [
    "\n",
    "df_year_2013['month']=df_year_2013['date'].dt.month\n",
    "\n",
    "df_year_2013['day'] = df_year_2013['date'].dt.day\n",
    "\n",
    "df_year_2013['dayofweek']=df_year_2013['date'].dt.dayofweek"
   ]
  },
  {
   "cell_type": "code",
   "execution_count": null,
   "metadata": {},
   "outputs": [],
   "source": [
    "df_year_2013.head()"
   ]
  },
  {
   "cell_type": "code",
   "execution_count": null,
   "metadata": {},
   "outputs": [],
   "source": [
    "df_features_2013.head(5)"
   ]
  },
  {
   "cell_type": "code",
   "execution_count": null,
   "metadata": {
    "scrolled": true
   },
   "outputs": [],
   "source": [
    "df_features_all_2013.sample(5)"
   ]
  },
  {
   "cell_type": "code",
   "execution_count": null,
   "metadata": {},
   "outputs": [],
   "source": [
    "X_2013 = df_features_all_2013[df_features_all_2013.columns.difference(['nb_crimes'])]\n",
    "y_2013 = df_features_all_2013[['nb_crimes']]"
   ]
  },
  {
   "cell_type": "code",
   "execution_count": null,
   "metadata": {
    "scrolled": true
   },
   "outputs": [],
   "source": [
    "X_2013.drop(['primary_type','id'], axis=1,inplace=True)"
   ]
  },
  {
   "cell_type": "code",
   "execution_count": null,
   "metadata": {
    "scrolled": false
   },
   "outputs": [],
   "source": [
    "y_pred_2013=xg_reg_all.predict(X_2013)"
   ]
  },
  {
   "cell_type": "code",
   "execution_count": null,
   "metadata": {},
   "outputs": [],
   "source": [
    "visualisation_prediction(y_pred_2013, y_2013)"
   ]
  },
  {
   "cell_type": "code",
   "execution_count": null,
   "metadata": {},
   "outputs": [],
   "source": [
    "print( \"score : coefficient de détermination est : \" + str(r2_score(y_2013, y_pred_2013)))"
   ]
  }
 ],
 "metadata": {
  "kernelspec": {
   "display_name": "Python 3",
   "language": "python",
   "name": "python3"
  },
  "language_info": {
   "codemirror_mode": {
    "name": "ipython",
    "version": 3
   },
   "file_extension": ".py",
   "mimetype": "text/x-python",
   "name": "python",
   "nbconvert_exporter": "python",
   "pygments_lexer": "ipython3",
   "version": "3.6.7"
  }
 },
 "nbformat": 4,
 "nbformat_minor": 2
}
