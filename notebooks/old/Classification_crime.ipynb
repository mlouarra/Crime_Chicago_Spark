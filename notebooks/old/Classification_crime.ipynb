{
 "cells": [
  {
   "cell_type": "markdown",
   "metadata": {},
   "source": [
    "### Objectifs de ce notebook :\n",
    ">Utilisation des données du site https://data.cityofchicago.org/ sur la criminalité ainsi que des données  socio-économiques du ministère de la Santé de Chicago https://data.cityofchicago.org/Health-Human-Services/Census-Data-Selected-socioeconomic-indicators-in-C/kn9c-c2s2.\n",
    "- Extraction des features\n",
    "- Label ou taget (variables à prédire) : type de crime à prédire\n",
    "- Implémentation d'algorithme de machine learning sur l'annés 2012 et application sur l'année 2013\n",
    "- Visualisation des résultats"
   ]
  },
  {
   "cell_type": "code",
   "execution_count": 1,
   "metadata": {},
   "outputs": [],
   "source": [
    "import warnings\n",
    "warnings.filterwarnings('ignore')"
   ]
  },
  {
   "cell_type": "code",
   "execution_count": 22,
   "metadata": {},
   "outputs": [],
   "source": [
    "import numpy as np\n",
    "import pandas as pd\n",
    "import datetime as dthttp://localhost:8888/notebooks/Documents/crimes_chigaco/notebooks/old/Classification_crime.ipynb\n",
    "import matplotlib as mpl\n",
    "import matplotlib.pyplot as plt\n",
    "import itertools\n",
    "from sklearn.metrics import confusion_matrix\n",
    "import scipy\n",
    "import seaborn as sns\n",
    "import matplotlib\n",
    "import matplotlib.pyplot as plt\n",
    "import xgboost as xgb\n",
    "from sklearn.metrics import mean_squared_error\n",
    "from sklearn.metrics import r2_score\n",
    "from sklearn.metrics import explained_variance_score\n",
    "from sklearn.model_selection import train_test_split\n",
    "from sklearn.metrics import log_loss\n",
    "from sklearn.preprocessing import LabelEncoder\n",
    "from xgboost.sklearn import XGBClassifier  \n",
    "from sklearn.model_selection import train_test_split\n",
    "from sklearn.metrics import accuracy_score\n",
    "from sklearn.metrics import f1_score\n",
    "from sklearn.metrics import accuracy_score, precision_score, recall_score, roc_auc_score\n",
    "from sklearn.model_selection import validation_curve\n",
    "from sklearn.model_selection import cross_val_predict\n",
    "from sklearn.model_selection import GridSearchCV\n",
    "category = LabelEncoder()\n"
   ]
  },
  {
   "cell_type": "code",
   "execution_count": null,
   "metadata": {},
   "outputs": [],
   "source": []
  },
  {
   "cell_type": "code",
   "execution_count": 3,
   "metadata": {},
   "outputs": [],
   "source": [
    "Path_Socio = \"/home/ml/Documents/crimes_chigaco/data/raw/Census_Data_-_Selected_socioeconomic_indicators_in_Chicago__2008___2012.csv\"\n",
    "Path_Crime = \"/home/ml/Documents/crimes_chigaco/data/raw/Crimes_-_2001_to_present.csv\""
   ]
  },
  {
   "cell_type": "code",
   "execution_count": 4,
   "metadata": {},
   "outputs": [],
   "source": [
    "df_Socio = pd.read_csv(Path_Socio)\n",
    "df_Crime = pd.read_csv(Path_Crime, sep=';', parse_dates=['Date'])"
   ]
  },
  {
   "cell_type": "code",
   "execution_count": 5,
   "metadata": {
    "scrolled": true
   },
   "outputs": [],
   "source": [
    "def set_param():\n",
    "    \n",
    "    # setup parameters for xgboost\n",
    "    param = {}\n",
    "    param['objective'] = 'multi:softmax'\n",
    "    param['eta'] = 0.1\n",
    "    param['silent'] = 0\n",
    "    param['nthread'] = 4\n",
    "    param['num_class'] = num_class\n",
    "    param['eval_metric'] = 'mlogloss'\n",
    "    param[' n_estimators'] = 300\n",
    "\n",
    "    # Model complexity\n",
    "    param['max_depth'] = 10 #set to 8\n",
    "    param['min_child_weight'] = 1\n",
    "    param['gamma'] = 0 \n",
    "    param['reg_alfa'] = 0.05\n",
    "\n",
    "    param['subsample'] = 0.8\n",
    "    param['colsample_bytree'] = 0.8 #set to 1\n",
    "\n",
    "    # Imbalanced data\n",
    "    param['max_delta_step'] = 1\n",
    "    \n",
    "    return param"
   ]
  },
  {
   "cell_type": "code",
   "execution_count": 6,
   "metadata": {},
   "outputs": [],
   "source": [
    "def rename_columns_socio():\n",
    "    \"\"\"\n",
    "    \n",
    "    \"\"\"\n",
    "    return {\n",
    "'Community Area Number':'community_area_number',\n",
    "'COMMUNITY AREA NAME':'community_area_name', \n",
    "'PERCENT OF HOUSING CROWDED':'pct_housing_crowded', \n",
    "'PERCENT HOUSEHOLDS BELOW POVERTY':'pct_households_below_poverty', \n",
    "'PERCENT AGED 16+ UNEMPLOYED':'pct_age16_unemployed',\n",
    "'PERCENT AGED 25+ WITHOUT HIGH SCHOOL DIPLOMA':'pct_age25_no_highschool',\n",
    "'PERCENT AGED UNDER 18 OR OVER 64': 'pct_not_working_age',\n",
    "'per_capita_income':'per_capita_income',\n",
    "'HARDSHIP INDEX' : 'hardship_index'}\n",
    "\n",
    "def rename_columns_crimes():\n",
    "    \"\"\"\n",
    "    \n",
    "    \"\"\"\n",
    "    return {\n",
    "        'ID': 'id',\n",
    "        'Case Number': 'cas_number', \n",
    "        'Date':'date',\n",
    "        'Block':'block', \n",
    "        'IUCR':'iucr', \n",
    "        'Primary Type':'primary_type',\n",
    "        'Description':'description', \n",
    "        'Location Description':'location_description', \n",
    "        'Arrest':'arrest', \n",
    "        'Domestic':'domestic', \n",
    "        'Beat':'beat',\n",
    "        'District':'district', \n",
    "        'Ward':'ward', \n",
    "        'Community Area': 'community_area_number', \n",
    "        'FBI Code':'fbi_code', \n",
    "        'X Coordinate':'x_coordinate',\n",
    "        'Y Coordinate':'y_coordinate', \n",
    "        'Year':'year', \n",
    "        'Updated On':'updated_on', \n",
    "        'Latitude':'latitude', \n",
    "        'Longitude':'longitude',\n",
    "        'Location':'location'   \n",
    "    }\n",
    "\n",
    "df_Socio.rename(columns=rename_columns_socio(), inplace=True)\n",
    "df_Crime.rename(columns=rename_columns_crimes(), inplace=True)"
   ]
  },
  {
   "cell_type": "code",
   "execution_count": 7,
   "metadata": {},
   "outputs": [],
   "source": [
    "df_Crime_2012 = df_Crime[df_Crime['year']==2012]"
   ]
  },
  {
   "cell_type": "code",
   "execution_count": 8,
   "metadata": {},
   "outputs": [],
   "source": [
    "## list of crime to predict\n",
    "list_of_crimes = ['THEFT', 'BATTERY', 'CRIMINAL DAMAGE', 'NARCOTICS', 'BURGLARY','ASSAULT']\n",
    "list_to_drop = ['id','location','cas_number','date','block','iucr','primary_type','updated_on',\\\n",
    "                                         'description','location_description','arrest','domestic','beat','district','ward','community_area_number','fbi_code']"
   ]
  },
  {
   "cell_type": "code",
   "execution_count": 51,
   "metadata": {},
   "outputs": [],
   "source": [
    "def plot_confusion_matrix(cm, classes,\n",
    "                          normalize=False,\n",
    "                          title='Confusion matrix',\n",
    "                          cmap=plt.cm.Blues):\n",
    "    \"\"\"\n",
    "    This function prints and plots the confusion matrix.\n",
    "    Normalization can be applied by setting `normalize=True`.\n",
    "    \"\"\"\n",
    "    if normalize:\n",
    "        cm = cm.astype('float') / cm.sum(axis=1)[:, np.newaxis]\n",
    "        print(\"Normalized confusion matrix\")\n",
    "    else:\n",
    "        print('Confusion matrix, without normalization')\n",
    "\n",
    "    print(cm)\n",
    "\n",
    "    plt.imshow(cm, interpolation='nearest', cmap=cmap)\n",
    "    plt.title(title)\n",
    "    plt.colorbar()\n",
    "    tick_marks = np.arange(len(classes))\n",
    "    plt.xticks(tick_marks, classes, rotation=45)\n",
    "    plt.yticks(tick_marks, classes)\n",
    "\n",
    " \n",
    "\n",
    "    fmt = '.2f' if normalize else 'd'\n",
    "    thresh = cm.max() / 2.\n",
    "    for i, j in itertools.product(range(cm.shape[0]), range(cm.shape[1])):\n",
    "        plt.text(j, i, format(cm[i, j], fmt),\n",
    "                 horizontalalignment=\"center\",\n",
    "                 color=\"white\" if cm[i, j] > thresh else \"black\")\n",
    "\n",
    "    plt.ylabel('True label')\n",
    "    plt.xlabel('Predicted label')\n",
    "    plt.tight_layout()\n",
    "    plt.figure(figsize=(15, 15))"
   ]
  },
  {
   "cell_type": "code",
   "execution_count": 41,
   "metadata": {},
   "outputs": [],
   "source": [
    "def extract_feature(year, df_C, df_S, list_of_crimes, list_to_drop):\n",
    "    \"\"\"\n",
    "    this function extract features for machine learning algorithm\n",
    "    \"\"\"\n",
    "    df = df_Crime[df_Crime['year']==year]\n",
    "    df = df[df.primary_type.isin(list_of_crimes)]\n",
    "    df['month']=df_Crime_2012['date'].dt.month\n",
    "    df['day']=df_Crime_2012['date'].dt.day\n",
    "    df['hours']=df_Crime['date'].dt.hour\n",
    "    df['minutes']=df_Crime_2012['date'].dt.minute\n",
    "    df['dayofweek']= df_Crime_2012['date'].apply(lambda x: dt.datetime.strftime(x, '%A'))\n",
    "    df['XY']=df.x_coordinate*df.y_coordinate \n",
    "    \n",
    "    df['Category'] = category.fit_transform(df.primary_type)\n",
    "    df = df[df.primary_type.isin(list_of_crimes)]\n",
    "    df = pd.get_dummies(df, columns = ['dayofweek'])\n",
    "    df_crime_socio = pd.merge(df,df_S,on = 'community_area_number', how ='left')\n",
    "    df_crime_socio_ml=pd.get_dummies(df_crime_socio, columns=['community_area_name'])\n",
    "    del df_crime_socio, df\n",
    "    return df_crime_socio_ml.drop(list_to_drop, axis=1), list(category.classes_)"
   ]
  },
  {
   "cell_type": "code",
   "execution_count": 42,
   "metadata": {},
   "outputs": [],
   "source": [
    "df_ml, class_names=extract_feature(2012, df_Crime, df_Socio, list_of_crimes, list_to_drop)"
   ]
  },
  {
   "cell_type": "code",
   "execution_count": 31,
   "metadata": {
    "scrolled": true
   },
   "outputs": [
    {
     "data": {
      "text/plain": [
       "5    75459\n",
       "1    59135\n",
       "3    35854\n",
       "4    35488\n",
       "2    22843\n",
       "0    19898\n",
       "Name: Category, dtype: int64"
      ]
     },
     "execution_count": 31,
     "metadata": {},
     "output_type": "execute_result"
    }
   ],
   "source": [
    "df_ml.Category.value_counts()"
   ]
  },
  {
   "cell_type": "code",
   "execution_count": 38,
   "metadata": {
    "scrolled": true
   },
   "outputs": [
    {
     "data": {
      "text/plain": [
       "['ASSAULT', 'BATTERY', 'BURGLARY', 'CRIMINAL DAMAGE', 'NARCOTICS', 'THEFT']"
      ]
     },
     "execution_count": 38,
     "metadata": {},
     "output_type": "execute_result"
    }
   ],
   "source": [
    "classe_name"
   ]
  },
  {
   "cell_type": "code",
   "execution_count": 12,
   "metadata": {},
   "outputs": [
    {
     "data": {
      "text/html": [
       "<div>\n",
       "<style scoped>\n",
       "    .dataframe tbody tr th:only-of-type {\n",
       "        vertical-align: middle;\n",
       "    }\n",
       "\n",
       "    .dataframe tbody tr th {\n",
       "        vertical-align: top;\n",
       "    }\n",
       "\n",
       "    .dataframe thead th {\n",
       "        text-align: right;\n",
       "    }\n",
       "</style>\n",
       "<table border=\"1\" class=\"dataframe\">\n",
       "  <thead>\n",
       "    <tr style=\"text-align: right;\">\n",
       "      <th></th>\n",
       "      <th>x_coordinate</th>\n",
       "      <th>y_coordinate</th>\n",
       "      <th>year</th>\n",
       "      <th>latitude</th>\n",
       "      <th>longitude</th>\n",
       "      <th>month</th>\n",
       "      <th>day</th>\n",
       "      <th>hours</th>\n",
       "      <th>minutes</th>\n",
       "      <th>XY</th>\n",
       "      <th>...</th>\n",
       "      <th>community_area_name_Washington Height</th>\n",
       "      <th>community_area_name_Washington Park</th>\n",
       "      <th>community_area_name_West Elsdon</th>\n",
       "      <th>community_area_name_West Englewood</th>\n",
       "      <th>community_area_name_West Garfield Park</th>\n",
       "      <th>community_area_name_West Lawn</th>\n",
       "      <th>community_area_name_West Pullman</th>\n",
       "      <th>community_area_name_West Ridge</th>\n",
       "      <th>community_area_name_West Town</th>\n",
       "      <th>community_area_name_Woodlawn</th>\n",
       "    </tr>\n",
       "  </thead>\n",
       "  <tbody>\n",
       "    <tr>\n",
       "      <th>161402</th>\n",
       "      <td>1174599.0</td>\n",
       "      <td>1831706.0</td>\n",
       "      <td>2012</td>\n",
       "      <td>41.693590</td>\n",
       "      <td>-87.636374</td>\n",
       "      <td>8</td>\n",
       "      <td>17</td>\n",
       "      <td>8</td>\n",
       "      <td>0</td>\n",
       "      <td>2.151520e+12</td>\n",
       "      <td>...</td>\n",
       "      <td>0</td>\n",
       "      <td>0</td>\n",
       "      <td>0</td>\n",
       "      <td>0</td>\n",
       "      <td>0</td>\n",
       "      <td>0</td>\n",
       "      <td>0</td>\n",
       "      <td>0</td>\n",
       "      <td>0</td>\n",
       "      <td>0</td>\n",
       "    </tr>\n",
       "    <tr>\n",
       "      <th>148368</th>\n",
       "      <td>1172734.0</td>\n",
       "      <td>1839039.0</td>\n",
       "      <td>2012</td>\n",
       "      <td>41.713754</td>\n",
       "      <td>-87.642987</td>\n",
       "      <td>7</td>\n",
       "      <td>5</td>\n",
       "      <td>23</td>\n",
       "      <td>15</td>\n",
       "      <td>2.156704e+12</td>\n",
       "      <td>...</td>\n",
       "      <td>1</td>\n",
       "      <td>0</td>\n",
       "      <td>0</td>\n",
       "      <td>0</td>\n",
       "      <td>0</td>\n",
       "      <td>0</td>\n",
       "      <td>0</td>\n",
       "      <td>0</td>\n",
       "      <td>0</td>\n",
       "      <td>0</td>\n",
       "    </tr>\n",
       "    <tr>\n",
       "      <th>45681</th>\n",
       "      <td>1152801.0</td>\n",
       "      <td>1933422.0</td>\n",
       "      <td>2012</td>\n",
       "      <td>41.973168</td>\n",
       "      <td>-87.713495</td>\n",
       "      <td>4</td>\n",
       "      <td>10</td>\n",
       "      <td>13</td>\n",
       "      <td>35</td>\n",
       "      <td>2.228851e+12</td>\n",
       "      <td>...</td>\n",
       "      <td>0</td>\n",
       "      <td>0</td>\n",
       "      <td>0</td>\n",
       "      <td>0</td>\n",
       "      <td>0</td>\n",
       "      <td>0</td>\n",
       "      <td>0</td>\n",
       "      <td>0</td>\n",
       "      <td>0</td>\n",
       "      <td>0</td>\n",
       "    </tr>\n",
       "    <tr>\n",
       "      <th>115495</th>\n",
       "      <td>1150196.0</td>\n",
       "      <td>1859643.0</td>\n",
       "      <td>2012</td>\n",
       "      <td>41.770761</td>\n",
       "      <td>-87.724997</td>\n",
       "      <td>1</td>\n",
       "      <td>25</td>\n",
       "      <td>12</td>\n",
       "      <td>30</td>\n",
       "      <td>2.138954e+12</td>\n",
       "      <td>...</td>\n",
       "      <td>0</td>\n",
       "      <td>0</td>\n",
       "      <td>0</td>\n",
       "      <td>0</td>\n",
       "      <td>0</td>\n",
       "      <td>1</td>\n",
       "      <td>0</td>\n",
       "      <td>0</td>\n",
       "      <td>0</td>\n",
       "      <td>0</td>\n",
       "    </tr>\n",
       "    <tr>\n",
       "      <th>73414</th>\n",
       "      <td>1166412.0</td>\n",
       "      <td>1933323.0</td>\n",
       "      <td>2012</td>\n",
       "      <td>41.972615</td>\n",
       "      <td>-87.663448</td>\n",
       "      <td>5</td>\n",
       "      <td>22</td>\n",
       "      <td>14</td>\n",
       "      <td>30</td>\n",
       "      <td>2.255051e+12</td>\n",
       "      <td>...</td>\n",
       "      <td>0</td>\n",
       "      <td>0</td>\n",
       "      <td>0</td>\n",
       "      <td>0</td>\n",
       "      <td>0</td>\n",
       "      <td>0</td>\n",
       "      <td>0</td>\n",
       "      <td>0</td>\n",
       "      <td>0</td>\n",
       "      <td>0</td>\n",
       "    </tr>\n",
       "  </tbody>\n",
       "</table>\n",
       "<p>5 rows × 103 columns</p>\n",
       "</div>"
      ],
      "text/plain": [
       "        x_coordinate  y_coordinate  year   latitude  longitude  month  day  \\\n",
       "161402     1174599.0     1831706.0  2012  41.693590 -87.636374      8   17   \n",
       "148368     1172734.0     1839039.0  2012  41.713754 -87.642987      7    5   \n",
       "45681      1152801.0     1933422.0  2012  41.973168 -87.713495      4   10   \n",
       "115495     1150196.0     1859643.0  2012  41.770761 -87.724997      1   25   \n",
       "73414      1166412.0     1933323.0  2012  41.972615 -87.663448      5   22   \n",
       "\n",
       "        hours  minutes            XY              ...               \\\n",
       "161402      8        0  2.151520e+12              ...                \n",
       "148368     23       15  2.156704e+12              ...                \n",
       "45681      13       35  2.228851e+12              ...                \n",
       "115495     12       30  2.138954e+12              ...                \n",
       "73414      14       30  2.255051e+12              ...                \n",
       "\n",
       "        community_area_name_Washington Height  \\\n",
       "161402                                      0   \n",
       "148368                                      1   \n",
       "45681                                       0   \n",
       "115495                                      0   \n",
       "73414                                       0   \n",
       "\n",
       "        community_area_name_Washington Park  community_area_name_West Elsdon  \\\n",
       "161402                                    0                                0   \n",
       "148368                                    0                                0   \n",
       "45681                                     0                                0   \n",
       "115495                                    0                                0   \n",
       "73414                                     0                                0   \n",
       "\n",
       "        community_area_name_West Englewood  \\\n",
       "161402                                   0   \n",
       "148368                                   0   \n",
       "45681                                    0   \n",
       "115495                                   0   \n",
       "73414                                    0   \n",
       "\n",
       "        community_area_name_West Garfield Park  community_area_name_West Lawn  \\\n",
       "161402                                       0                              0   \n",
       "148368                                       0                              0   \n",
       "45681                                        0                              0   \n",
       "115495                                       0                              1   \n",
       "73414                                        0                              0   \n",
       "\n",
       "        community_area_name_West Pullman  community_area_name_West Ridge  \\\n",
       "161402                                 0                               0   \n",
       "148368                                 0                               0   \n",
       "45681                                  0                               0   \n",
       "115495                                 0                               0   \n",
       "73414                                  0                               0   \n",
       "\n",
       "        community_area_name_West Town  community_area_name_Woodlawn  \n",
       "161402                              0                             0  \n",
       "148368                              0                             0  \n",
       "45681                               0                             0  \n",
       "115495                              0                             0  \n",
       "73414                               0                             0  \n",
       "\n",
       "[5 rows x 103 columns]"
      ]
     },
     "execution_count": 12,
     "metadata": {},
     "output_type": "execute_result"
    }
   ],
   "source": [
    "df_ml.sample(5)"
   ]
  },
  {
   "cell_type": "code",
   "execution_count": 13,
   "metadata": {},
   "outputs": [
    {
     "data": {
      "text/plain": [
       "['community_area_number',\n",
       " 'community_area_name',\n",
       " 'pct_housing_crowded',\n",
       " 'pct_households_below_poverty',\n",
       " 'pct_age16_unemployed',\n",
       " 'pct_age25_no_highschool',\n",
       " 'pct_not_working_age',\n",
       " 'PER CAPITA INCOME ',\n",
       " 'hardship_index']"
      ]
     },
     "execution_count": 13,
     "metadata": {},
     "output_type": "execute_result"
    }
   ],
   "source": [
    "list(df_Socio.columns)"
   ]
  },
  {
   "cell_type": "markdown",
   "metadata": {},
   "source": [
    "### Implémentation d'algorithme de machine learning"
   ]
  },
  {
   "cell_type": "code",
   "execution_count": null,
   "metadata": {},
   "outputs": [],
   "source": []
  },
  {
   "cell_type": "code",
   "execution_count": 14,
   "metadata": {},
   "outputs": [],
   "source": [
    "feature_cols = [x for x in df_ml if x!='Category']\n",
    "X = df_ml[feature_cols]\n",
    "y = df_ml['Category']\n",
    "X_train, x_test, y_train, y_test = train_test_split(X, y,  test_size=0.3, random_state=42)"
   ]
  },
  {
   "cell_type": "code",
   "execution_count": 27,
   "metadata": {},
   "outputs": [
    {
     "data": {
      "text/plain": [
       "(248677, 102)"
      ]
     },
     "execution_count": 27,
     "metadata": {},
     "output_type": "execute_result"
    }
   ],
   "source": [
    "X.shape"
   ]
  },
  {
   "cell_type": "code",
   "execution_count": 28,
   "metadata": {},
   "outputs": [
    {
     "data": {
      "text/plain": [
       "(248677,)"
      ]
     },
     "execution_count": 28,
     "metadata": {},
     "output_type": "execute_result"
    }
   ],
   "source": [
    "y.shape"
   ]
  },
  {
   "cell_type": "code",
   "execution_count": 15,
   "metadata": {
    "scrolled": true
   },
   "outputs": [
    {
     "name": "stdout",
     "output_type": "stream",
     "text": [
      "[14:33:49] /workspace/src/tree/updater_prune.cc:74: tree pruning end, 1 roots, 966 extra nodes, 0 pruned nodes, max_depth=10\n",
      "[14:33:51] /workspace/src/tree/updater_prune.cc:74: tree pruning end, 1 roots, 1410 extra nodes, 0 pruned nodes, max_depth=10\n",
      "[14:33:52] /workspace/src/tree/updater_prune.cc:74: tree pruning end, 1 roots, 1164 extra nodes, 0 pruned nodes, max_depth=10\n",
      "[14:33:54] /workspace/src/tree/updater_prune.cc:74: tree pruning end, 1 roots, 1200 extra nodes, 0 pruned nodes, max_depth=10\n",
      "[14:33:55] /workspace/src/tree/updater_prune.cc:74: tree pruning end, 1 roots, 1224 extra nodes, 0 pruned nodes, max_depth=10\n",
      "[14:33:57] /workspace/src/tree/updater_prune.cc:74: tree pruning end, 1 roots, 1108 extra nodes, 0 pruned nodes, max_depth=10\n",
      "[0]\ttrain-mlogloss:1.75445\teval-mlogloss:1.75868\n",
      "[14:33:59] /workspace/src/tree/updater_prune.cc:74: tree pruning end, 1 roots, 1054 extra nodes, 0 pruned nodes, max_depth=10\n",
      "[14:34:01] /workspace/src/tree/updater_prune.cc:74: tree pruning end, 1 roots, 1414 extra nodes, 0 pruned nodes, max_depth=10\n",
      "[14:34:03] /workspace/src/tree/updater_prune.cc:74: tree pruning end, 1 roots, 1324 extra nodes, 0 pruned nodes, max_depth=10\n",
      "[14:34:04] /workspace/src/tree/updater_prune.cc:74: tree pruning end, 1 roots, 1204 extra nodes, 0 pruned nodes, max_depth=10\n",
      "[14:34:06] /workspace/src/tree/updater_prune.cc:74: tree pruning end, 1 roots, 1190 extra nodes, 0 pruned nodes, max_depth=10\n",
      "[14:34:07] /workspace/src/tree/updater_prune.cc:74: tree pruning end, 1 roots, 1178 extra nodes, 0 pruned nodes, max_depth=10\n",
      "[1]\ttrain-mlogloss:1.71937\teval-mlogloss:1.72789\n",
      "[14:34:09] /workspace/src/tree/updater_prune.cc:74: tree pruning end, 1 roots, 1014 extra nodes, 0 pruned nodes, max_depth=10\n",
      "[14:34:11] /workspace/src/tree/updater_prune.cc:74: tree pruning end, 1 roots, 1490 extra nodes, 0 pruned nodes, max_depth=10\n",
      "[14:34:12] /workspace/src/tree/updater_prune.cc:74: tree pruning end, 1 roots, 1178 extra nodes, 0 pruned nodes, max_depth=10\n",
      "[14:34:14] /workspace/src/tree/updater_prune.cc:74: tree pruning end, 1 roots, 1330 extra nodes, 0 pruned nodes, max_depth=10\n",
      "[14:34:15] /workspace/src/tree/updater_prune.cc:74: tree pruning end, 1 roots, 1266 extra nodes, 0 pruned nodes, max_depth=10\n",
      "[14:34:17] /workspace/src/tree/updater_prune.cc:74: tree pruning end, 1 roots, 1280 extra nodes, 0 pruned nodes, max_depth=10\n",
      "[2]\ttrain-mlogloss:1.68708\teval-mlogloss:1.70013\n",
      "[14:34:19] /workspace/src/tree/updater_prune.cc:74: tree pruning end, 1 roots, 1032 extra nodes, 0 pruned nodes, max_depth=10\n",
      "[14:34:20] /workspace/src/tree/updater_prune.cc:74: tree pruning end, 1 roots, 1356 extra nodes, 0 pruned nodes, max_depth=10\n",
      "[14:34:22] /workspace/src/tree/updater_prune.cc:74: tree pruning end, 1 roots, 1366 extra nodes, 0 pruned nodes, max_depth=10\n",
      "[14:34:23] /workspace/src/tree/updater_prune.cc:74: tree pruning end, 1 roots, 1216 extra nodes, 0 pruned nodes, max_depth=10\n",
      "[14:34:24] /workspace/src/tree/updater_prune.cc:74: tree pruning end, 1 roots, 1094 extra nodes, 0 pruned nodes, max_depth=10\n",
      "[14:34:26] /workspace/src/tree/updater_prune.cc:74: tree pruning end, 1 roots, 1256 extra nodes, 0 pruned nodes, max_depth=10\n",
      "[3]\ttrain-mlogloss:1.65827\teval-mlogloss:1.67544\n",
      "[14:34:28] /workspace/src/tree/updater_prune.cc:74: tree pruning end, 1 roots, 1016 extra nodes, 0 pruned nodes, max_depth=10\n",
      "[14:34:30] /workspace/src/tree/updater_prune.cc:74: tree pruning end, 1 roots, 1408 extra nodes, 0 pruned nodes, max_depth=10\n",
      "[14:34:31] /workspace/src/tree/updater_prune.cc:74: tree pruning end, 1 roots, 1128 extra nodes, 0 pruned nodes, max_depth=10\n",
      "[14:34:32] /workspace/src/tree/updater_prune.cc:74: tree pruning end, 1 roots, 1248 extra nodes, 0 pruned nodes, max_depth=10\n",
      "[14:34:34] /workspace/src/tree/updater_prune.cc:74: tree pruning end, 1 roots, 1398 extra nodes, 0 pruned nodes, max_depth=10\n",
      "[14:34:35] /workspace/src/tree/updater_prune.cc:74: tree pruning end, 1 roots, 1326 extra nodes, 0 pruned nodes, max_depth=10\n",
      "[4]\ttrain-mlogloss:1.6327\teval-mlogloss:1.65415\n",
      "[14:34:37] /workspace/src/tree/updater_prune.cc:74: tree pruning end, 1 roots, 1070 extra nodes, 0 pruned nodes, max_depth=10\n",
      "[14:34:39] /workspace/src/tree/updater_prune.cc:74: tree pruning end, 1 roots, 1392 extra nodes, 0 pruned nodes, max_depth=10\n",
      "[14:34:40] /workspace/src/tree/updater_prune.cc:74: tree pruning end, 1 roots, 968 extra nodes, 0 pruned nodes, max_depth=10\n",
      "[14:34:41] /workspace/src/tree/updater_prune.cc:74: tree pruning end, 1 roots, 1166 extra nodes, 0 pruned nodes, max_depth=10\n",
      "[14:34:43] /workspace/src/tree/updater_prune.cc:74: tree pruning end, 1 roots, 1190 extra nodes, 0 pruned nodes, max_depth=10\n",
      "[14:34:44] /workspace/src/tree/updater_prune.cc:74: tree pruning end, 1 roots, 1166 extra nodes, 0 pruned nodes, max_depth=10\n",
      "[5]\ttrain-mlogloss:1.6095\teval-mlogloss:1.63468\n",
      "[14:34:46] /workspace/src/tree/updater_prune.cc:74: tree pruning end, 1 roots, 920 extra nodes, 0 pruned nodes, max_depth=10\n",
      "[14:34:48] /workspace/src/tree/updater_prune.cc:74: tree pruning end, 1 roots, 1300 extra nodes, 0 pruned nodes, max_depth=10\n",
      "[14:34:49] /workspace/src/tree/updater_prune.cc:74: tree pruning end, 1 roots, 1282 extra nodes, 0 pruned nodes, max_depth=10\n",
      "[14:34:51] /workspace/src/tree/updater_prune.cc:74: tree pruning end, 1 roots, 1110 extra nodes, 0 pruned nodes, max_depth=10\n",
      "[14:34:52] /workspace/src/tree/updater_prune.cc:74: tree pruning end, 1 roots, 1142 extra nodes, 0 pruned nodes, max_depth=10\n",
      "[14:34:53] /workspace/src/tree/updater_prune.cc:74: tree pruning end, 1 roots, 1236 extra nodes, 0 pruned nodes, max_depth=10\n",
      "[6]\ttrain-mlogloss:1.5884\teval-mlogloss:1.61727\n",
      "[14:34:56] /workspace/src/tree/updater_prune.cc:74: tree pruning end, 1 roots, 1044 extra nodes, 0 pruned nodes, max_depth=10\n",
      "[14:34:57] /workspace/src/tree/updater_prune.cc:74: tree pruning end, 1 roots, 1424 extra nodes, 0 pruned nodes, max_depth=10\n",
      "[14:34:58] /workspace/src/tree/updater_prune.cc:74: tree pruning end, 1 roots, 1020 extra nodes, 0 pruned nodes, max_depth=10\n",
      "[14:35:00] /workspace/src/tree/updater_prune.cc:74: tree pruning end, 1 roots, 1216 extra nodes, 0 pruned nodes, max_depth=10\n",
      "[14:35:01] /workspace/src/tree/updater_prune.cc:74: tree pruning end, 1 roots, 1200 extra nodes, 0 pruned nodes, max_depth=10\n",
      "[14:35:03] /workspace/src/tree/updater_prune.cc:74: tree pruning end, 1 roots, 1342 extra nodes, 0 pruned nodes, max_depth=10\n",
      "[7]\ttrain-mlogloss:1.56868\teval-mlogloss:1.60161\n",
      "[14:35:05] /workspace/src/tree/updater_prune.cc:74: tree pruning end, 1 roots, 1030 extra nodes, 0 pruned nodes, max_depth=10\n",
      "[14:35:06] /workspace/src/tree/updater_prune.cc:74: tree pruning end, 1 roots, 1284 extra nodes, 0 pruned nodes, max_depth=10\n",
      "[14:35:08] /workspace/src/tree/updater_prune.cc:74: tree pruning end, 1 roots, 1160 extra nodes, 0 pruned nodes, max_depth=10\n",
      "[14:35:09] /workspace/src/tree/updater_prune.cc:74: tree pruning end, 1 roots, 1210 extra nodes, 0 pruned nodes, max_depth=10\n",
      "[14:35:10] /workspace/src/tree/updater_prune.cc:74: tree pruning end, 1 roots, 1118 extra nodes, 0 pruned nodes, max_depth=10\n",
      "[14:35:12] /workspace/src/tree/updater_prune.cc:74: tree pruning end, 1 roots, 1244 extra nodes, 0 pruned nodes, max_depth=10\n",
      "[8]\ttrain-mlogloss:1.55023\teval-mlogloss:1.58702\n",
      "[14:35:14] /workspace/src/tree/updater_prune.cc:74: tree pruning end, 1 roots, 1018 extra nodes, 0 pruned nodes, max_depth=10\n",
      "[14:35:15] /workspace/src/tree/updater_prune.cc:74: tree pruning end, 1 roots, 1196 extra nodes, 0 pruned nodes, max_depth=10\n",
      "[14:35:17] /workspace/src/tree/updater_prune.cc:74: tree pruning end, 1 roots, 1180 extra nodes, 0 pruned nodes, max_depth=10\n",
      "[14:35:18] /workspace/src/tree/updater_prune.cc:74: tree pruning end, 1 roots, 1238 extra nodes, 0 pruned nodes, max_depth=10\n",
      "[14:35:20] /workspace/src/tree/updater_prune.cc:74: tree pruning end, 1 roots, 1252 extra nodes, 0 pruned nodes, max_depth=10\n",
      "[14:35:21] /workspace/src/tree/updater_prune.cc:74: tree pruning end, 1 roots, 1256 extra nodes, 0 pruned nodes, max_depth=10\n",
      "[9]\ttrain-mlogloss:1.53366\teval-mlogloss:1.57422\n",
      "[14:35:23] /workspace/src/tree/updater_prune.cc:74: tree pruning end, 1 roots, 938 extra nodes, 0 pruned nodes, max_depth=10\n",
      "[14:35:25] /workspace/src/tree/updater_prune.cc:74: tree pruning end, 1 roots, 1426 extra nodes, 0 pruned nodes, max_depth=10\n"
     ]
    },
    {
     "name": "stdout",
     "output_type": "stream",
     "text": [
      "[14:35:26] /workspace/src/tree/updater_prune.cc:74: tree pruning end, 1 roots, 1232 extra nodes, 0 pruned nodes, max_depth=10\n",
      "[14:35:27] /workspace/src/tree/updater_prune.cc:74: tree pruning end, 1 roots, 1024 extra nodes, 0 pruned nodes, max_depth=10\n",
      "[14:35:29] /workspace/src/tree/updater_prune.cc:74: tree pruning end, 1 roots, 1278 extra nodes, 0 pruned nodes, max_depth=10\n",
      "[14:35:30] /workspace/src/tree/updater_prune.cc:74: tree pruning end, 1 roots, 1440 extra nodes, 0 pruned nodes, max_depth=10\n",
      "[10]\ttrain-mlogloss:1.51778\teval-mlogloss:1.56223\n",
      "[14:35:32] /workspace/src/tree/updater_prune.cc:74: tree pruning end, 1 roots, 964 extra nodes, 0 pruned nodes, max_depth=10\n",
      "[14:35:34] /workspace/src/tree/updater_prune.cc:74: tree pruning end, 1 roots, 1284 extra nodes, 0 pruned nodes, max_depth=10\n",
      "[14:35:35] /workspace/src/tree/updater_prune.cc:74: tree pruning end, 1 roots, 1204 extra nodes, 0 pruned nodes, max_depth=10\n",
      "[14:35:37] /workspace/src/tree/updater_prune.cc:74: tree pruning end, 1 roots, 956 extra nodes, 0 pruned nodes, max_depth=10\n",
      "[14:35:38] /workspace/src/tree/updater_prune.cc:74: tree pruning end, 1 roots, 1226 extra nodes, 0 pruned nodes, max_depth=10\n",
      "[14:35:40] /workspace/src/tree/updater_prune.cc:74: tree pruning end, 1 roots, 1300 extra nodes, 0 pruned nodes, max_depth=10\n",
      "[11]\ttrain-mlogloss:1.50354\teval-mlogloss:1.55159\n",
      "[14:35:41] /workspace/src/tree/updater_prune.cc:74: tree pruning end, 1 roots, 654 extra nodes, 0 pruned nodes, max_depth=10\n",
      "[14:35:43] /workspace/src/tree/updater_prune.cc:74: tree pruning end, 1 roots, 1350 extra nodes, 0 pruned nodes, max_depth=10\n",
      "[14:35:44] /workspace/src/tree/updater_prune.cc:74: tree pruning end, 1 roots, 1200 extra nodes, 0 pruned nodes, max_depth=10\n",
      "[14:35:46] /workspace/src/tree/updater_prune.cc:74: tree pruning end, 1 roots, 1004 extra nodes, 0 pruned nodes, max_depth=10\n",
      "[14:35:47] /workspace/src/tree/updater_prune.cc:74: tree pruning end, 1 roots, 1264 extra nodes, 0 pruned nodes, max_depth=10\n",
      "[14:35:49] /workspace/src/tree/updater_prune.cc:74: tree pruning end, 1 roots, 1226 extra nodes, 0 pruned nodes, max_depth=10\n",
      "[12]\ttrain-mlogloss:1.49071\teval-mlogloss:1.54234\n",
      "[14:35:51] /workspace/src/tree/updater_prune.cc:74: tree pruning end, 1 roots, 944 extra nodes, 0 pruned nodes, max_depth=10\n",
      "[14:35:52] /workspace/src/tree/updater_prune.cc:74: tree pruning end, 1 roots, 1430 extra nodes, 0 pruned nodes, max_depth=10\n",
      "[14:35:54] /workspace/src/tree/updater_prune.cc:74: tree pruning end, 1 roots, 1238 extra nodes, 0 pruned nodes, max_depth=10\n",
      "[14:35:55] /workspace/src/tree/updater_prune.cc:74: tree pruning end, 1 roots, 1044 extra nodes, 0 pruned nodes, max_depth=10\n",
      "[14:35:57] /workspace/src/tree/updater_prune.cc:74: tree pruning end, 1 roots, 1224 extra nodes, 0 pruned nodes, max_depth=10\n",
      "[14:35:58] /workspace/src/tree/updater_prune.cc:74: tree pruning end, 1 roots, 1324 extra nodes, 0 pruned nodes, max_depth=10\n",
      "[13]\ttrain-mlogloss:1.47804\teval-mlogloss:1.53361\n",
      "[14:36:00] /workspace/src/tree/updater_prune.cc:74: tree pruning end, 1 roots, 864 extra nodes, 0 pruned nodes, max_depth=10\n",
      "[14:36:01] /workspace/src/tree/updater_prune.cc:74: tree pruning end, 1 roots, 1344 extra nodes, 0 pruned nodes, max_depth=10\n",
      "[14:36:03] /workspace/src/tree/updater_prune.cc:74: tree pruning end, 1 roots, 1114 extra nodes, 0 pruned nodes, max_depth=10\n",
      "[14:36:04] /workspace/src/tree/updater_prune.cc:74: tree pruning end, 1 roots, 1094 extra nodes, 0 pruned nodes, max_depth=10\n",
      "[14:36:06] /workspace/src/tree/updater_prune.cc:74: tree pruning end, 1 roots, 1254 extra nodes, 0 pruned nodes, max_depth=10\n",
      "[14:36:07] /workspace/src/tree/updater_prune.cc:74: tree pruning end, 1 roots, 1226 extra nodes, 0 pruned nodes, max_depth=10\n",
      "[14]\ttrain-mlogloss:1.46651\teval-mlogloss:1.52556\n",
      "[14:36:09] /workspace/src/tree/updater_prune.cc:74: tree pruning end, 1 roots, 1050 extra nodes, 0 pruned nodes, max_depth=10\n",
      "[14:36:11] /workspace/src/tree/updater_prune.cc:74: tree pruning end, 1 roots, 1230 extra nodes, 0 pruned nodes, max_depth=10\n",
      "[14:36:12] /workspace/src/tree/updater_prune.cc:74: tree pruning end, 1 roots, 1132 extra nodes, 0 pruned nodes, max_depth=10\n",
      "[14:36:14] /workspace/src/tree/updater_prune.cc:74: tree pruning end, 1 roots, 1088 extra nodes, 0 pruned nodes, max_depth=10\n",
      "[14:36:15] /workspace/src/tree/updater_prune.cc:74: tree pruning end, 1 roots, 1246 extra nodes, 0 pruned nodes, max_depth=10\n",
      "[14:36:17] /workspace/src/tree/updater_prune.cc:74: tree pruning end, 1 roots, 1418 extra nodes, 0 pruned nodes, max_depth=10\n",
      "[15]\ttrain-mlogloss:1.45572\teval-mlogloss:1.51841\n",
      "[14:36:19] /workspace/src/tree/updater_prune.cc:74: tree pruning end, 1 roots, 1120 extra nodes, 0 pruned nodes, max_depth=10\n",
      "[14:36:20] /workspace/src/tree/updater_prune.cc:74: tree pruning end, 1 roots, 1134 extra nodes, 0 pruned nodes, max_depth=10\n",
      "[14:36:22] /workspace/src/tree/updater_prune.cc:74: tree pruning end, 1 roots, 926 extra nodes, 0 pruned nodes, max_depth=10\n",
      "[14:36:23] /workspace/src/tree/updater_prune.cc:74: tree pruning end, 1 roots, 1074 extra nodes, 0 pruned nodes, max_depth=10\n",
      "[14:36:25] /workspace/src/tree/updater_prune.cc:74: tree pruning end, 1 roots, 1220 extra nodes, 0 pruned nodes, max_depth=10\n",
      "[14:36:26] /workspace/src/tree/updater_prune.cc:74: tree pruning end, 1 roots, 1376 extra nodes, 0 pruned nodes, max_depth=10\n",
      "[16]\ttrain-mlogloss:1.44601\teval-mlogloss:1.51214\n",
      "[14:36:28] /workspace/src/tree/updater_prune.cc:74: tree pruning end, 1 roots, 926 extra nodes, 0 pruned nodes, max_depth=10\n",
      "[14:36:30] /workspace/src/tree/updater_prune.cc:74: tree pruning end, 1 roots, 1216 extra nodes, 0 pruned nodes, max_depth=10\n",
      "[14:36:31] /workspace/src/tree/updater_prune.cc:74: tree pruning end, 1 roots, 1020 extra nodes, 0 pruned nodes, max_depth=10\n",
      "[14:36:33] /workspace/src/tree/updater_prune.cc:74: tree pruning end, 1 roots, 1062 extra nodes, 0 pruned nodes, max_depth=10\n",
      "[14:36:34] /workspace/src/tree/updater_prune.cc:74: tree pruning end, 1 roots, 1228 extra nodes, 0 pruned nodes, max_depth=10\n",
      "[14:36:35] /workspace/src/tree/updater_prune.cc:74: tree pruning end, 1 roots, 1322 extra nodes, 0 pruned nodes, max_depth=10\n",
      "[17]\ttrain-mlogloss:1.43699\teval-mlogloss:1.5065\n",
      "[14:36:37] /workspace/src/tree/updater_prune.cc:74: tree pruning end, 1 roots, 1054 extra nodes, 0 pruned nodes, max_depth=10\n",
      "[14:36:39] /workspace/src/tree/updater_prune.cc:74: tree pruning end, 1 roots, 1322 extra nodes, 0 pruned nodes, max_depth=10\n",
      "[14:36:40] /workspace/src/tree/updater_prune.cc:74: tree pruning end, 1 roots, 1114 extra nodes, 0 pruned nodes, max_depth=10\n",
      "[14:36:42] /workspace/src/tree/updater_prune.cc:74: tree pruning end, 1 roots, 1050 extra nodes, 0 pruned nodes, max_depth=10\n",
      "[14:36:43] /workspace/src/tree/updater_prune.cc:74: tree pruning end, 1 roots, 1162 extra nodes, 0 pruned nodes, max_depth=10\n",
      "[14:36:44] /workspace/src/tree/updater_prune.cc:74: tree pruning end, 1 roots, 1210 extra nodes, 0 pruned nodes, max_depth=10\n",
      "[18]\ttrain-mlogloss:1.42869\teval-mlogloss:1.50151\n",
      "[14:36:47] /workspace/src/tree/updater_prune.cc:74: tree pruning end, 1 roots, 890 extra nodes, 0 pruned nodes, max_depth=10\n",
      "[14:36:48] /workspace/src/tree/updater_prune.cc:74: tree pruning end, 1 roots, 1116 extra nodes, 0 pruned nodes, max_depth=10\n",
      "[14:36:50] /workspace/src/tree/updater_prune.cc:74: tree pruning end, 1 roots, 1170 extra nodes, 0 pruned nodes, max_depth=10\n",
      "[14:36:51] /workspace/src/tree/updater_prune.cc:74: tree pruning end, 1 roots, 982 extra nodes, 0 pruned nodes, max_depth=10\n",
      "[14:36:53] /workspace/src/tree/updater_prune.cc:74: tree pruning end, 1 roots, 1222 extra nodes, 0 pruned nodes, max_depth=10\n",
      "[14:36:54] /workspace/src/tree/updater_prune.cc:74: tree pruning end, 1 roots, 1274 extra nodes, 0 pruned nodes, max_depth=10\n",
      "[19]\ttrain-mlogloss:1.42081\teval-mlogloss:1.49693\n",
      "[14:36:56] /workspace/src/tree/updater_prune.cc:74: tree pruning end, 1 roots, 1012 extra nodes, 0 pruned nodes, max_depth=10\n",
      "[14:36:57] /workspace/src/tree/updater_prune.cc:74: tree pruning end, 1 roots, 1208 extra nodes, 0 pruned nodes, max_depth=10\n",
      "[14:36:59] /workspace/src/tree/updater_prune.cc:74: tree pruning end, 1 roots, 710 extra nodes, 0 pruned nodes, max_depth=10\n",
      "[14:37:00] /workspace/src/tree/updater_prune.cc:74: tree pruning end, 1 roots, 1110 extra nodes, 0 pruned nodes, max_depth=10\n"
     ]
    },
    {
     "name": "stdout",
     "output_type": "stream",
     "text": [
      "[14:37:02] /workspace/src/tree/updater_prune.cc:74: tree pruning end, 1 roots, 1210 extra nodes, 0 pruned nodes, max_depth=10\n",
      "[14:37:03] /workspace/src/tree/updater_prune.cc:74: tree pruning end, 1 roots, 1288 extra nodes, 0 pruned nodes, max_depth=10\n",
      "[20]\ttrain-mlogloss:1.41345\teval-mlogloss:1.49285\n",
      "[14:37:05] /workspace/src/tree/updater_prune.cc:74: tree pruning end, 1 roots, 1058 extra nodes, 0 pruned nodes, max_depth=10\n",
      "[14:37:07] /workspace/src/tree/updater_prune.cc:74: tree pruning end, 1 roots, 1200 extra nodes, 0 pruned nodes, max_depth=10\n",
      "[14:37:08] /workspace/src/tree/updater_prune.cc:74: tree pruning end, 1 roots, 1136 extra nodes, 0 pruned nodes, max_depth=10\n",
      "[14:37:09] /workspace/src/tree/updater_prune.cc:74: tree pruning end, 1 roots, 998 extra nodes, 0 pruned nodes, max_depth=10\n",
      "[14:37:11] /workspace/src/tree/updater_prune.cc:74: tree pruning end, 1 roots, 1446 extra nodes, 0 pruned nodes, max_depth=10\n",
      "[14:37:12] /workspace/src/tree/updater_prune.cc:74: tree pruning end, 1 roots, 1272 extra nodes, 0 pruned nodes, max_depth=10\n",
      "[21]\ttrain-mlogloss:1.40632\teval-mlogloss:1.48923\n",
      "[14:37:15] /workspace/src/tree/updater_prune.cc:74: tree pruning end, 1 roots, 1010 extra nodes, 0 pruned nodes, max_depth=10\n",
      "[14:37:16] /workspace/src/tree/updater_prune.cc:74: tree pruning end, 1 roots, 1300 extra nodes, 0 pruned nodes, max_depth=10\n",
      "[14:37:18] /workspace/src/tree/updater_prune.cc:74: tree pruning end, 1 roots, 1024 extra nodes, 0 pruned nodes, max_depth=10\n",
      "[14:37:19] /workspace/src/tree/updater_prune.cc:74: tree pruning end, 1 roots, 1104 extra nodes, 0 pruned nodes, max_depth=10\n",
      "[14:37:21] /workspace/src/tree/updater_prune.cc:74: tree pruning end, 1 roots, 1132 extra nodes, 0 pruned nodes, max_depth=10\n",
      "[14:37:22] /workspace/src/tree/updater_prune.cc:74: tree pruning end, 1 roots, 1244 extra nodes, 0 pruned nodes, max_depth=10\n",
      "[22]\ttrain-mlogloss:1.39989\teval-mlogloss:1.48602\n",
      "[14:37:24] /workspace/src/tree/updater_prune.cc:74: tree pruning end, 1 roots, 942 extra nodes, 0 pruned nodes, max_depth=10\n",
      "[14:37:26] /workspace/src/tree/updater_prune.cc:74: tree pruning end, 1 roots, 1254 extra nodes, 0 pruned nodes, max_depth=10\n",
      "[14:37:27] /workspace/src/tree/updater_prune.cc:74: tree pruning end, 1 roots, 872 extra nodes, 0 pruned nodes, max_depth=10\n",
      "[14:37:29] /workspace/src/tree/updater_prune.cc:74: tree pruning end, 1 roots, 1110 extra nodes, 0 pruned nodes, max_depth=10\n",
      "[14:37:30] /workspace/src/tree/updater_prune.cc:74: tree pruning end, 1 roots, 1292 extra nodes, 0 pruned nodes, max_depth=10\n",
      "[14:37:32] /workspace/src/tree/updater_prune.cc:74: tree pruning end, 1 roots, 1196 extra nodes, 0 pruned nodes, max_depth=10\n",
      "[23]\ttrain-mlogloss:1.3934\teval-mlogloss:1.48273\n",
      "[14:37:34] /workspace/src/tree/updater_prune.cc:74: tree pruning end, 1 roots, 770 extra nodes, 0 pruned nodes, max_depth=10\n",
      "[14:37:35] /workspace/src/tree/updater_prune.cc:74: tree pruning end, 1 roots, 1274 extra nodes, 0 pruned nodes, max_depth=10\n",
      "[14:37:36] /workspace/src/tree/updater_prune.cc:74: tree pruning end, 1 roots, 1094 extra nodes, 0 pruned nodes, max_depth=10\n",
      "[14:37:38] /workspace/src/tree/updater_prune.cc:74: tree pruning end, 1 roots, 900 extra nodes, 0 pruned nodes, max_depth=10\n",
      "[14:37:39] /workspace/src/tree/updater_prune.cc:74: tree pruning end, 1 roots, 1232 extra nodes, 0 pruned nodes, max_depth=10\n",
      "[14:37:41] /workspace/src/tree/updater_prune.cc:74: tree pruning end, 1 roots, 1204 extra nodes, 0 pruned nodes, max_depth=10\n",
      "[24]\ttrain-mlogloss:1.38734\teval-mlogloss:1.47991\n",
      "[14:37:43] /workspace/src/tree/updater_prune.cc:74: tree pruning end, 1 roots, 932 extra nodes, 0 pruned nodes, max_depth=10\n",
      "[14:37:44] /workspace/src/tree/updater_prune.cc:74: tree pruning end, 1 roots, 1280 extra nodes, 0 pruned nodes, max_depth=10\n",
      "[14:37:46] /workspace/src/tree/updater_prune.cc:74: tree pruning end, 1 roots, 914 extra nodes, 0 pruned nodes, max_depth=10\n",
      "[14:37:47] /workspace/src/tree/updater_prune.cc:74: tree pruning end, 1 roots, 1084 extra nodes, 0 pruned nodes, max_depth=10\n",
      "[14:37:48] /workspace/src/tree/updater_prune.cc:74: tree pruning end, 1 roots, 1156 extra nodes, 0 pruned nodes, max_depth=10\n",
      "[14:37:50] /workspace/src/tree/updater_prune.cc:74: tree pruning end, 1 roots, 1350 extra nodes, 0 pruned nodes, max_depth=10\n",
      "[25]\ttrain-mlogloss:1.38132\teval-mlogloss:1.47706\n",
      "[14:37:52] /workspace/src/tree/updater_prune.cc:74: tree pruning end, 1 roots, 952 extra nodes, 0 pruned nodes, max_depth=10\n",
      "[14:37:53] /workspace/src/tree/updater_prune.cc:74: tree pruning end, 1 roots, 1256 extra nodes, 0 pruned nodes, max_depth=10\n",
      "[14:37:55] /workspace/src/tree/updater_prune.cc:74: tree pruning end, 1 roots, 836 extra nodes, 0 pruned nodes, max_depth=10\n",
      "[14:37:57] /workspace/src/tree/updater_prune.cc:74: tree pruning end, 1 roots, 1060 extra nodes, 0 pruned nodes, max_depth=10\n",
      "[14:37:58] /workspace/src/tree/updater_prune.cc:74: tree pruning end, 1 roots, 1228 extra nodes, 0 pruned nodes, max_depth=10\n",
      "[14:38:00] /workspace/src/tree/updater_prune.cc:74: tree pruning end, 1 roots, 1124 extra nodes, 0 pruned nodes, max_depth=10\n",
      "[26]\ttrain-mlogloss:1.37537\teval-mlogloss:1.47436\n",
      "[14:38:02] /workspace/src/tree/updater_prune.cc:74: tree pruning end, 1 roots, 928 extra nodes, 0 pruned nodes, max_depth=10\n",
      "[14:38:03] /workspace/src/tree/updater_prune.cc:74: tree pruning end, 1 roots, 1098 extra nodes, 0 pruned nodes, max_depth=10\n",
      "[14:38:05] /workspace/src/tree/updater_prune.cc:74: tree pruning end, 1 roots, 1090 extra nodes, 0 pruned nodes, max_depth=10\n",
      "[14:38:06] /workspace/src/tree/updater_prune.cc:74: tree pruning end, 1 roots, 898 extra nodes, 0 pruned nodes, max_depth=10\n",
      "[14:38:08] /workspace/src/tree/updater_prune.cc:74: tree pruning end, 1 roots, 1304 extra nodes, 0 pruned nodes, max_depth=10\n",
      "[14:38:09] /workspace/src/tree/updater_prune.cc:74: tree pruning end, 1 roots, 1132 extra nodes, 0 pruned nodes, max_depth=10\n",
      "[27]\ttrain-mlogloss:1.36997\teval-mlogloss:1.47207\n",
      "[14:38:11] /workspace/src/tree/updater_prune.cc:74: tree pruning end, 1 roots, 698 extra nodes, 0 pruned nodes, max_depth=10\n",
      "[14:38:12] /workspace/src/tree/updater_prune.cc:74: tree pruning end, 1 roots, 1048 extra nodes, 0 pruned nodes, max_depth=10\n",
      "[14:38:14] /workspace/src/tree/updater_prune.cc:74: tree pruning end, 1 roots, 946 extra nodes, 0 pruned nodes, max_depth=10\n",
      "[14:38:16] /workspace/src/tree/updater_prune.cc:74: tree pruning end, 1 roots, 982 extra nodes, 0 pruned nodes, max_depth=10\n",
      "[14:38:17] /workspace/src/tree/updater_prune.cc:74: tree pruning end, 1 roots, 1180 extra nodes, 0 pruned nodes, max_depth=10\n",
      "[14:38:18] /workspace/src/tree/updater_prune.cc:74: tree pruning end, 1 roots, 1360 extra nodes, 0 pruned nodes, max_depth=10\n",
      "[28]\ttrain-mlogloss:1.36471\teval-mlogloss:1.46984\n",
      "[14:38:20] /workspace/src/tree/updater_prune.cc:74: tree pruning end, 1 roots, 818 extra nodes, 0 pruned nodes, max_depth=10\n",
      "[14:38:22] /workspace/src/tree/updater_prune.cc:74: tree pruning end, 1 roots, 958 extra nodes, 0 pruned nodes, max_depth=10\n",
      "[14:38:23] /workspace/src/tree/updater_prune.cc:74: tree pruning end, 1 roots, 1256 extra nodes, 0 pruned nodes, max_depth=10\n",
      "[14:38:25] /workspace/src/tree/updater_prune.cc:74: tree pruning end, 1 roots, 1216 extra nodes, 0 pruned nodes, max_depth=10\n",
      "[14:38:26] /workspace/src/tree/updater_prune.cc:74: tree pruning end, 1 roots, 1122 extra nodes, 0 pruned nodes, max_depth=10\n",
      "[14:38:27] /workspace/src/tree/updater_prune.cc:74: tree pruning end, 1 roots, 1044 extra nodes, 0 pruned nodes, max_depth=10\n",
      "[29]\ttrain-mlogloss:1.35935\teval-mlogloss:1.46762\n"
     ]
    }
   ],
   "source": [
    "dtrain = xgb.DMatrix(X_train, label=y_train)\n",
    "dtest = xgb.DMatrix(x_test, label=y_test)\n",
    "num_class = len(y.unique())\n",
    "param = set_param()\n",
    "watchlist = [(dtrain,'train'), (dtest, 'eval')]\n",
    "num_round = 30\n",
    "\n",
    "# Train XGBoost    \n",
    "bst = xgb.train(param, dtrain, num_round, watchlist);\n"
   ]
  },
  {
   "cell_type": "code",
   "execution_count": null,
   "metadata": {},
   "outputs": [],
   "source": []
  },
  {
   "cell_type": "code",
   "execution_count": 16,
   "metadata": {
    "scrolled": true
   },
   "outputs": [],
   "source": [
    "preds = bst.predict(dtest)"
   ]
  },
  {
   "cell_type": "code",
   "execution_count": null,
   "metadata": {},
   "outputs": [],
   "source": []
  },
  {
   "cell_type": "code",
   "execution_count": 17,
   "metadata": {},
   "outputs": [
    {
     "name": "stdout",
     "output_type": "stream",
     "text": [
      "0.3736521063254337\n"
     ]
    }
   ],
   "source": [
    "from sklearn.metrics import precision_score\n",
    "print(precision_score(y_test, preds, average='macro'))"
   ]
  },
  {
   "cell_type": "code",
   "execution_count": 18,
   "metadata": {},
   "outputs": [
    {
     "name": "stdout",
     "output_type": "stream",
     "text": [
      "0.43082140367808697\n"
     ]
    }
   ],
   "source": [
    "print(accuracy_score(y_test, preds))"
   ]
  },
  {
   "cell_type": "code",
   "execution_count": 19,
   "metadata": {},
   "outputs": [],
   "source": [
    "from sklearn.metrics import classification_report"
   ]
  },
  {
   "cell_type": "code",
   "execution_count": 20,
   "metadata": {},
   "outputs": [
    {
     "name": "stdout",
     "output_type": "stream",
     "text": [
      "             precision    recall  f1-score   support\n",
      "\n",
      "    class 0       0.22      0.00      0.00      6030\n",
      "    class 1       0.35      0.50      0.42     17567\n",
      "    class 2       0.38      0.04      0.07      6870\n",
      "    class 3       0.33      0.04      0.07     10805\n",
      "    class 4       0.48      0.54      0.51     10705\n",
      "    class 5       0.47      0.74      0.58     22627\n",
      "\n",
      "avg / total       0.40      0.43      0.36     74604\n",
      "\n"
     ]
    }
   ],
   "source": [
    "target_names = ['class 0', 'class 1', 'class 2', 'class 3', 'class 4', 'class 5']\n",
    "print(classification_report(y_test, preds, target_names=target_names))"
   ]
  },
  {
   "cell_type": "code",
   "execution_count": 55,
   "metadata": {},
   "outputs": [
    {
     "name": "stdout",
     "output_type": "stream",
     "text": [
      "Confusion matrix, without normalization\n",
      "[[    8  2657    48    89   966  2262]\n",
      " [   19  8811   107   247  2824  5559]\n",
      " [    2  1798   270   154   380  4266]\n",
      " [    3  4031   104   410   972  5285]\n",
      " [    1  3296    23    46  5785  1554]\n",
      " [    3  4229   153   300  1085 16857]]\n",
      "Normalized confusion matrix\n",
      "[[1.33e-03 4.41e-01 7.96e-03 1.48e-02 1.60e-01 3.75e-01]\n",
      " [1.08e-03 5.02e-01 6.09e-03 1.41e-02 1.61e-01 3.16e-01]\n",
      " [2.91e-04 2.62e-01 3.93e-02 2.24e-02 5.53e-02 6.21e-01]\n",
      " [2.78e-04 3.73e-01 9.63e-03 3.79e-02 9.00e-02 4.89e-01]\n",
      " [9.34e-05 3.08e-01 2.15e-03 4.30e-03 5.40e-01 1.45e-01]\n",
      " [1.33e-04 1.87e-01 6.76e-03 1.33e-02 4.80e-02 7.45e-01]]\n"
     ]
    },
    {
     "data": {
      "image/png": "[encoded data removed]",
      "text/plain": [
       "<Figure size 432x288 with 2 Axes>"
      ]
     },
     "metadata": {
      "needs_background": "light"
     },
     "output_type": "display_data"
    },
    {
     "data": {
      "image/png": "[encoded data removed]",
      "text/plain": [
       "<Figure size 1080x1080 with 2 Axes>"
      ]
     },
     "metadata": {
      "needs_background": "light"
     },
     "output_type": "display_data"
    },
    {
     "data": {
      "text/plain": [
       "<Figure size 1080x1080 with 0 Axes>"
      ]
     },
     "metadata": {},
     "output_type": "display_data"
    }
   ],
   "source": [
    "# Compute confusion matrix\n",
    "cnf_matrix = confusion_matrix(y_test, preds) \n",
    "np.set_printoptions(precision=2)\n",
    "\n",
    "# Plot non-normalized confusion matrix\n",
    "plt.figsize=(10, 10)\n",
    "plot_confusion_matrix(cnf_matrix, classes=class_names,\n",
    "                      title='Confusion matrix, without normalization')\n",
    "\n",
    "# Plot normalized confusion matrix\n",
    "plt.figsize=(10, 10)\n",
    "plot_confusion_matrix(cnf_matrix, classes=class_names, normalize=True,\n",
    "                      title='Normalized confusion matrix')"
   ]
  },
  {
   "cell_type": "code",
   "execution_count": null,
   "metadata": {},
   "outputs": [],
   "source": []
  }
 ],
 "metadata": {
  "kernelspec": {
   "display_name": "Python 3",
   "language": "python",
   "name": "python3"
  },
  "language_info": {
   "codemirror_mode": {
    "name": "ipython",
    "version": 3
   },
   "file_extension": ".py",
   "mimetype": "text/x-python",
   "name": "python",
   "nbconvert_exporter": "python",
   "pygments_lexer": "ipython3",
   "version": "3.6.7"
  }
 },
 "nbformat": 4,
 "nbformat_minor": 2
}
