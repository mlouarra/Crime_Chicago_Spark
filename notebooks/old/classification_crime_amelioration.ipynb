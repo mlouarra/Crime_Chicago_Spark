{
 "cells": [
  {
   "cell_type": "code",
   "execution_count": 1,
   "metadata": {},
   "outputs": [],
   "source": [
    "%load_ext autoreload\n",
    "%autoreload 2"
   ]
  },
  {
   "cell_type": "code",
   "execution_count": 2,
   "metadata": {},
   "outputs": [],
   "source": [
    "import os\n",
    "import sys\n",
    "sys.path.append('../')"
   ]
  },
  {
   "cell_type": "code",
   "execution_count": 3,
   "metadata": {},
   "outputs": [
    {
     "name": "stderr",
     "output_type": "stream",
     "text": [
      "Using TensorFlow backend.\n"
     ]
    }
   ],
   "source": [
    "from yaml import load as yaml_load\n",
    "from src.features.build_features import extract_features_classification\n",
    "from src.data.make_dataset import LoadDataframe\n",
    "from src.models.train_model import model_classification\n",
    "import matplotlib.pyplot as plt\n",
    "import joblib"
   ]
  },
  {
   "cell_type": "code",
   "execution_count": 4,
   "metadata": {},
   "outputs": [],
   "source": [
    "def _load_config_file(config_file):\n",
    "    \"\"\"\n",
    "    Load configuration file\n",
    "    :param config_file: is the configuration file\n",
    "    :return: configuration\n",
    "    :rtype: dict\n",
    "    \"\"\"\n",
    "    with open(config_file) as yml_config:\n",
    "        return yaml_load(yml_config)\n",
    "\n",
    "def _build_configuration(config_file):\n",
    "    \"\"\"\n",
    "    Build the operation configuration dict\n",
    "    :param config_file: is the path to the yaml config_file\n",
    "    :type: string\n",
    "    :return: config: global configuration\n",
    "    :rtype dict\n",
    "    \"\"\"\n",
    "    # yaml config\n",
    "    config = _load_config_file(config_file)\n",
    "    return config\n",
    "\n",
    "def plot_confusion_matrix(cm, classes,\n",
    "                          normalize=False,\n",
    "                          title='Confusion matrix',\n",
    "                          cmap=plt.cm.Blues):\n",
    "    \"\"\"\n",
    "    This function prints and plots the confusion matrix.\n",
    "    Normalization can be applied by setting `normalize=True`.\n",
    "    \"\"\"\n",
    "    if normalize:\n",
    "        cm = cm.astype('float') / cm.sum(axis=1)[:, np.newaxis]\n",
    "        print(\"Normalized confusion matrix\")\n",
    "    else:\n",
    "        print('Confusion matrix, without normalization')\n",
    "\n",
    "    print(cm)\n",
    "\n",
    "    plt.imshow(cm, interpolation='nearest', cmap=cmap)\n",
    "    plt.title(title)\n",
    "    plt.colorbar()\n",
    "    tick_marks = np.arange(len(classes))\n",
    "    plt.xticks(tick_marks, classes, rotation=45)\n",
    "    plt.yticks(tick_marks, classes)\n",
    "    fmt = '.2f' if normalize else 'd'\n",
    "    thresh = cm.max() / 2.\n",
    "    for i, j in itertools.product(range(cm.shape[0]), range(cm.shape[1])):\n",
    "        plt.text(j, i, format(cm[i, j], fmt),\n",
    "                 horizontalalignment=\"center\",\n",
    "                 color=\"white\" if cm[i, j] > thresh else \"black\")\n",
    "\n",
    "    plt.ylabel('True label')\n",
    "    plt.xlabel('Predicted label')\n",
    "    plt.tight_layout()\n",
    "    plt.figure(figsize=(15, 15))"
   ]
  },
  {
   "cell_type": "code",
   "execution_count": 5,
   "metadata": {},
   "outputs": [],
   "source": [
    "config_file = \"/home/ml/Documents/crimes_chigaco/config/config.yml\"\n",
    "config = _build_configuration(config_file)"
   ]
  },
  {
   "cell_type": "code",
   "execution_count": 6,
   "metadata": {},
   "outputs": [
    {
     "name": "stdout",
     "output_type": "stream",
     "text": [
      "CPU times: user 1.31 ms, sys: 0 ns, total: 1.31 ms\n",
      "Wall time: 8.29 ms\n"
     ]
    }
   ],
   "source": [
    "%%time\n",
    "obj_df_loaded = LoadDataframe(config, '2013', '2014')"
   ]
  },
  {
   "cell_type": "code",
   "execution_count": 7,
   "metadata": {},
   "outputs": [
    {
     "name": "stdout",
     "output_type": "stream",
     "text": [
      "CPU times: user 12min 53s, sys: 4.8 s, total: 12min 58s\n",
      "Wall time: 13min 8s\n"
     ]
    }
   ],
   "source": [
    "%%time\n",
    "df_crime_socio = obj_df_loaded.df_crime_socio()"
   ]
  },
  {
   "cell_type": "code",
   "execution_count": 8,
   "metadata": {},
   "outputs": [
    {
     "data": {
      "text/html": [
       "<div>\n",
       "<style scoped>\n",
       "    .dataframe tbody tr th:only-of-type {\n",
       "        vertical-align: middle;\n",
       "    }\n",
       "\n",
       "    .dataframe tbody tr th {\n",
       "        vertical-align: top;\n",
       "    }\n",
       "\n",
       "    .dataframe thead th {\n",
       "        text-align: right;\n",
       "    }\n",
       "</style>\n",
       "<table border=\"1\" class=\"dataframe\">\n",
       "  <thead>\n",
       "    <tr style=\"text-align: right;\">\n",
       "      <th></th>\n",
       "      <th>id</th>\n",
       "      <th>cas_number</th>\n",
       "      <th>date</th>\n",
       "      <th>block</th>\n",
       "      <th>iucr</th>\n",
       "      <th>primary_type</th>\n",
       "      <th>description</th>\n",
       "      <th>location_description</th>\n",
       "      <th>arrest</th>\n",
       "      <th>domestic</th>\n",
       "      <th>...</th>\n",
       "      <th>longitude</th>\n",
       "      <th>location</th>\n",
       "      <th>community_area_name</th>\n",
       "      <th>pct_housing_crowded</th>\n",
       "      <th>pct_households_below_poverty</th>\n",
       "      <th>pct_age16_unemployed</th>\n",
       "      <th>pct_age25_no_highschool</th>\n",
       "      <th>pct_not_working_age</th>\n",
       "      <th>per_capita_income</th>\n",
       "      <th>hardship_index</th>\n",
       "    </tr>\n",
       "  </thead>\n",
       "  <tbody>\n",
       "    <tr>\n",
       "      <th>269282</th>\n",
       "      <td>9391387</td>\n",
       "      <td>HW534407</td>\n",
       "      <td>2013-10-15 12:00:00</td>\n",
       "      <td>067XX N CALIFORNIA AVE</td>\n",
       "      <td>0890</td>\n",
       "      <td>THEFT</td>\n",
       "      <td>FROM BUILDING</td>\n",
       "      <td>OTHER</td>\n",
       "      <td>False</td>\n",
       "      <td>False</td>\n",
       "      <td>...</td>\n",
       "      <td>-87.699804</td>\n",
       "      <td>(42.003646958, -87.699803586)</td>\n",
       "      <td>West Ridge</td>\n",
       "      <td>7.8</td>\n",
       "      <td>17.2</td>\n",
       "      <td>8.8</td>\n",
       "      <td>20.8</td>\n",
       "      <td>38.5</td>\n",
       "      <td>23040.0</td>\n",
       "      <td>46.0</td>\n",
       "    </tr>\n",
       "    <tr>\n",
       "      <th>275516</th>\n",
       "      <td>9401665</td>\n",
       "      <td>HW544427</td>\n",
       "      <td>2013-11-22 19:30:00</td>\n",
       "      <td>085XX S HOUSTON AVE</td>\n",
       "      <td>0486</td>\n",
       "      <td>BATTERY</td>\n",
       "      <td>DOMESTIC BATTERY SIMPLE</td>\n",
       "      <td>APARTMENT</td>\n",
       "      <td>False</td>\n",
       "      <td>True</td>\n",
       "      <td>...</td>\n",
       "      <td>-87.550250</td>\n",
       "      <td>(41.740012398, -87.550250075)</td>\n",
       "      <td>South Chicago</td>\n",
       "      <td>4.7</td>\n",
       "      <td>29.8</td>\n",
       "      <td>19.7</td>\n",
       "      <td>26.6</td>\n",
       "      <td>41.1</td>\n",
       "      <td>16579.0</td>\n",
       "      <td>75.0</td>\n",
       "    </tr>\n",
       "    <tr>\n",
       "      <th>247801</th>\n",
       "      <td>9355821</td>\n",
       "      <td>HW499294</td>\n",
       "      <td>2013-10-19 02:02:00</td>\n",
       "      <td>008XX W SHERIDAN RD</td>\n",
       "      <td>0850</td>\n",
       "      <td>THEFT</td>\n",
       "      <td>ATTEMPT THEFT</td>\n",
       "      <td>OTHER</td>\n",
       "      <td>False</td>\n",
       "      <td>False</td>\n",
       "      <td>...</td>\n",
       "      <td>-87.650726</td>\n",
       "      <td>(41.952729665, -87.650726382)</td>\n",
       "      <td>Lake View</td>\n",
       "      <td>1.1</td>\n",
       "      <td>11.4</td>\n",
       "      <td>4.7</td>\n",
       "      <td>2.6</td>\n",
       "      <td>17.0</td>\n",
       "      <td>60058.0</td>\n",
       "      <td>5.0</td>\n",
       "    </tr>\n",
       "    <tr>\n",
       "      <th>112701</th>\n",
       "      <td>9138111</td>\n",
       "      <td>HW283544</td>\n",
       "      <td>2013-05-20 19:15:00</td>\n",
       "      <td>013XX N LAVERGNE AVE</td>\n",
       "      <td>2027</td>\n",
       "      <td>NARCOTICS</td>\n",
       "      <td>POSS: CRACK</td>\n",
       "      <td>STREET</td>\n",
       "      <td>True</td>\n",
       "      <td>False</td>\n",
       "      <td>...</td>\n",
       "      <td>-87.750943</td>\n",
       "      <td>(41.905290728, -87.750942752)</td>\n",
       "      <td>Austin</td>\n",
       "      <td>6.3</td>\n",
       "      <td>28.6</td>\n",
       "      <td>22.6</td>\n",
       "      <td>24.4</td>\n",
       "      <td>37.9</td>\n",
       "      <td>15957.0</td>\n",
       "      <td>73.0</td>\n",
       "    </tr>\n",
       "    <tr>\n",
       "      <th>195552</th>\n",
       "      <td>9271320</td>\n",
       "      <td>HW415802</td>\n",
       "      <td>2013-08-20 11:58:00</td>\n",
       "      <td>064XX S WHIPPLE ST</td>\n",
       "      <td>0610</td>\n",
       "      <td>BURGLARY</td>\n",
       "      <td>FORCIBLE ENTRY</td>\n",
       "      <td>APARTMENT</td>\n",
       "      <td>False</td>\n",
       "      <td>False</td>\n",
       "      <td>...</td>\n",
       "      <td>-87.699425</td>\n",
       "      <td>(41.776654852, -87.699424903)</td>\n",
       "      <td>Chicago Lawn</td>\n",
       "      <td>7.6</td>\n",
       "      <td>27.9</td>\n",
       "      <td>17.1</td>\n",
       "      <td>31.2</td>\n",
       "      <td>40.6</td>\n",
       "      <td>13231.0</td>\n",
       "      <td>80.0</td>\n",
       "    </tr>\n",
       "  </tbody>\n",
       "</table>\n",
       "<p>5 rows × 30 columns</p>\n",
       "</div>"
      ],
      "text/plain": [
       "             id cas_number                date                   block  iucr  \\\n",
       "269282  9391387   HW534407 2013-10-15 12:00:00  067XX N CALIFORNIA AVE  0890   \n",
       "275516  9401665   HW544427 2013-11-22 19:30:00     085XX S HOUSTON AVE  0486   \n",
       "247801  9355821   HW499294 2013-10-19 02:02:00     008XX W SHERIDAN RD  0850   \n",
       "112701  9138111   HW283544 2013-05-20 19:15:00    013XX N LAVERGNE AVE  2027   \n",
       "195552  9271320   HW415802 2013-08-20 11:58:00      064XX S WHIPPLE ST  0610   \n",
       "\n",
       "       primary_type              description location_description  arrest  \\\n",
       "269282        THEFT            FROM BUILDING                OTHER   False   \n",
       "275516      BATTERY  DOMESTIC BATTERY SIMPLE            APARTMENT   False   \n",
       "247801        THEFT            ATTEMPT THEFT                OTHER   False   \n",
       "112701    NARCOTICS              POSS: CRACK               STREET    True   \n",
       "195552     BURGLARY           FORCIBLE ENTRY            APARTMENT   False   \n",
       "\n",
       "        domestic       ...        longitude                       location  \\\n",
       "269282     False       ...       -87.699804  (42.003646958, -87.699803586)   \n",
       "275516      True       ...       -87.550250  (41.740012398, -87.550250075)   \n",
       "247801     False       ...       -87.650726  (41.952729665, -87.650726382)   \n",
       "112701     False       ...       -87.750943  (41.905290728, -87.750942752)   \n",
       "195552     False       ...       -87.699425  (41.776654852, -87.699424903)   \n",
       "\n",
       "        community_area_name  pct_housing_crowded pct_households_below_poverty  \\\n",
       "269282           West Ridge                  7.8                         17.2   \n",
       "275516        South Chicago                  4.7                         29.8   \n",
       "247801            Lake View                  1.1                         11.4   \n",
       "112701               Austin                  6.3                         28.6   \n",
       "195552         Chicago Lawn                  7.6                         27.9   \n",
       "\n",
       "        pct_age16_unemployed  pct_age25_no_highschool  pct_not_working_age  \\\n",
       "269282                   8.8                     20.8                 38.5   \n",
       "275516                  19.7                     26.6                 41.1   \n",
       "247801                   4.7                      2.6                 17.0   \n",
       "112701                  22.6                     24.4                 37.9   \n",
       "195552                  17.1                     31.2                 40.6   \n",
       "\n",
       "       per_capita_income  hardship_index  \n",
       "269282           23040.0            46.0  \n",
       "275516           16579.0            75.0  \n",
       "247801           60058.0             5.0  \n",
       "112701           15957.0            73.0  \n",
       "195552           13231.0            80.0  \n",
       "\n",
       "[5 rows x 30 columns]"
      ]
     },
     "execution_count": 8,
     "metadata": {},
     "output_type": "execute_result"
    }
   ],
   "source": [
    "df_crime_socio.sample(5)"
   ]
  },
  {
   "cell_type": "code",
   "execution_count": 9,
   "metadata": {},
   "outputs": [],
   "source": [
    "df_temperature = obj_df_loaded.df_temperature()"
   ]
  },
  {
   "cell_type": "code",
   "execution_count": 10,
   "metadata": {},
   "outputs": [
    {
     "data": {
      "text/html": [
       "<div>\n",
       "<style scoped>\n",
       "    .dataframe tbody tr th:only-of-type {\n",
       "        vertical-align: middle;\n",
       "    }\n",
       "\n",
       "    .dataframe tbody tr th {\n",
       "        vertical-align: top;\n",
       "    }\n",
       "\n",
       "    .dataframe thead th {\n",
       "        text-align: right;\n",
       "    }\n",
       "</style>\n",
       "<table border=\"1\" class=\"dataframe\">\n",
       "  <thead>\n",
       "    <tr style=\"text-align: right;\">\n",
       "      <th></th>\n",
       "      <th>Temperature</th>\n",
       "      <th>month</th>\n",
       "      <th>day</th>\n",
       "      <th>hours</th>\n",
       "    </tr>\n",
       "  </thead>\n",
       "  <tbody>\n",
       "    <tr>\n",
       "      <th>9349</th>\n",
       "      <td>285.193</td>\n",
       "      <td>10</td>\n",
       "      <td>26</td>\n",
       "      <td>1</td>\n",
       "    </tr>\n",
       "    <tr>\n",
       "      <th>9111</th>\n",
       "      <td>286.195</td>\n",
       "      <td>10</td>\n",
       "      <td>16</td>\n",
       "      <td>3</td>\n",
       "    </tr>\n",
       "    <tr>\n",
       "      <th>4260</th>\n",
       "      <td>276.850</td>\n",
       "      <td>3</td>\n",
       "      <td>28</td>\n",
       "      <td>0</td>\n",
       "    </tr>\n",
       "    <tr>\n",
       "      <th>5477</th>\n",
       "      <td>298.510</td>\n",
       "      <td>5</td>\n",
       "      <td>17</td>\n",
       "      <td>17</td>\n",
       "    </tr>\n",
       "    <tr>\n",
       "      <th>5575</th>\n",
       "      <td>303.600</td>\n",
       "      <td>5</td>\n",
       "      <td>21</td>\n",
       "      <td>19</td>\n",
       "    </tr>\n",
       "  </tbody>\n",
       "</table>\n",
       "</div>"
      ],
      "text/plain": [
       "      Temperature  month  day  hours\n",
       "9349      285.193     10   26      1\n",
       "9111      286.195     10   16      3\n",
       "4260      276.850      3   28      0\n",
       "5477      298.510      5   17     17\n",
       "5575      303.600      5   21     19"
      ]
     },
     "execution_count": 10,
     "metadata": {},
     "output_type": "execute_result"
    }
   ],
   "source": [
    "df_temperature.sample(5)"
   ]
  },
  {
   "cell_type": "code",
   "execution_count": 11,
   "metadata": {},
   "outputs": [],
   "source": [
    "df_sky = obj_df_loaded.df_sky()"
   ]
  },
  {
   "cell_type": "code",
   "execution_count": 12,
   "metadata": {},
   "outputs": [
    {
     "data": {
      "text/html": [
       "<div>\n",
       "<style scoped>\n",
       "    .dataframe tbody tr th:only-of-type {\n",
       "        vertical-align: middle;\n",
       "    }\n",
       "\n",
       "    .dataframe tbody tr th {\n",
       "        vertical-align: top;\n",
       "    }\n",
       "\n",
       "    .dataframe thead th {\n",
       "        text-align: right;\n",
       "    }\n",
       "</style>\n",
       "<table border=\"1\" class=\"dataframe\">\n",
       "  <thead>\n",
       "    <tr style=\"text-align: right;\">\n",
       "      <th></th>\n",
       "      <th>Chicago_broken clouds</th>\n",
       "      <th>Chicago_drizzle</th>\n",
       "      <th>Chicago_dust</th>\n",
       "      <th>Chicago_few clouds</th>\n",
       "      <th>Chicago_fog</th>\n",
       "      <th>Chicago_freezing rain</th>\n",
       "      <th>Chicago_haze</th>\n",
       "      <th>Chicago_heavy intensity drizzle</th>\n",
       "      <th>Chicago_heavy intensity rain</th>\n",
       "      <th>Chicago_heavy snow</th>\n",
       "      <th>...</th>\n",
       "      <th>Chicago_thunderstorm</th>\n",
       "      <th>Chicago_thunderstorm with drizzle</th>\n",
       "      <th>Chicago_thunderstorm with heavy rain</th>\n",
       "      <th>Chicago_thunderstorm with light drizzle</th>\n",
       "      <th>Chicago_thunderstorm with light rain</th>\n",
       "      <th>Chicago_thunderstorm with rain</th>\n",
       "      <th>Chicago_very heavy rain</th>\n",
       "      <th>month</th>\n",
       "      <th>day</th>\n",
       "      <th>hours</th>\n",
       "    </tr>\n",
       "  </thead>\n",
       "  <tbody>\n",
       "    <tr>\n",
       "      <th>10074</th>\n",
       "      <td>0</td>\n",
       "      <td>0</td>\n",
       "      <td>0</td>\n",
       "      <td>0</td>\n",
       "      <td>0</td>\n",
       "      <td>0</td>\n",
       "      <td>0</td>\n",
       "      <td>0</td>\n",
       "      <td>0</td>\n",
       "      <td>0</td>\n",
       "      <td>...</td>\n",
       "      <td>0</td>\n",
       "      <td>0</td>\n",
       "      <td>0</td>\n",
       "      <td>0</td>\n",
       "      <td>0</td>\n",
       "      <td>0</td>\n",
       "      <td>0</td>\n",
       "      <td>11</td>\n",
       "      <td>25</td>\n",
       "      <td>6</td>\n",
       "    </tr>\n",
       "    <tr>\n",
       "      <th>3829</th>\n",
       "      <td>0</td>\n",
       "      <td>0</td>\n",
       "      <td>0</td>\n",
       "      <td>0</td>\n",
       "      <td>0</td>\n",
       "      <td>0</td>\n",
       "      <td>0</td>\n",
       "      <td>0</td>\n",
       "      <td>0</td>\n",
       "      <td>0</td>\n",
       "      <td>...</td>\n",
       "      <td>0</td>\n",
       "      <td>0</td>\n",
       "      <td>0</td>\n",
       "      <td>0</td>\n",
       "      <td>0</td>\n",
       "      <td>0</td>\n",
       "      <td>0</td>\n",
       "      <td>3</td>\n",
       "      <td>10</td>\n",
       "      <td>1</td>\n",
       "    </tr>\n",
       "    <tr>\n",
       "      <th>5798</th>\n",
       "      <td>1</td>\n",
       "      <td>0</td>\n",
       "      <td>0</td>\n",
       "      <td>0</td>\n",
       "      <td>0</td>\n",
       "      <td>0</td>\n",
       "      <td>0</td>\n",
       "      <td>0</td>\n",
       "      <td>0</td>\n",
       "      <td>0</td>\n",
       "      <td>...</td>\n",
       "      <td>0</td>\n",
       "      <td>0</td>\n",
       "      <td>0</td>\n",
       "      <td>0</td>\n",
       "      <td>0</td>\n",
       "      <td>0</td>\n",
       "      <td>0</td>\n",
       "      <td>5</td>\n",
       "      <td>31</td>\n",
       "      <td>2</td>\n",
       "    </tr>\n",
       "    <tr>\n",
       "      <th>8303</th>\n",
       "      <td>1</td>\n",
       "      <td>0</td>\n",
       "      <td>0</td>\n",
       "      <td>0</td>\n",
       "      <td>0</td>\n",
       "      <td>0</td>\n",
       "      <td>0</td>\n",
       "      <td>0</td>\n",
       "      <td>0</td>\n",
       "      <td>0</td>\n",
       "      <td>...</td>\n",
       "      <td>0</td>\n",
       "      <td>0</td>\n",
       "      <td>0</td>\n",
       "      <td>0</td>\n",
       "      <td>0</td>\n",
       "      <td>0</td>\n",
       "      <td>0</td>\n",
       "      <td>9</td>\n",
       "      <td>12</td>\n",
       "      <td>11</td>\n",
       "    </tr>\n",
       "    <tr>\n",
       "      <th>6226</th>\n",
       "      <td>0</td>\n",
       "      <td>0</td>\n",
       "      <td>0</td>\n",
       "      <td>0</td>\n",
       "      <td>0</td>\n",
       "      <td>0</td>\n",
       "      <td>0</td>\n",
       "      <td>0</td>\n",
       "      <td>0</td>\n",
       "      <td>0</td>\n",
       "      <td>...</td>\n",
       "      <td>0</td>\n",
       "      <td>0</td>\n",
       "      <td>0</td>\n",
       "      <td>0</td>\n",
       "      <td>0</td>\n",
       "      <td>0</td>\n",
       "      <td>0</td>\n",
       "      <td>6</td>\n",
       "      <td>17</td>\n",
       "      <td>22</td>\n",
       "    </tr>\n",
       "  </tbody>\n",
       "</table>\n",
       "<p>5 rows × 36 columns</p>\n",
       "</div>"
      ],
      "text/plain": [
       "       Chicago_broken clouds  Chicago_drizzle  Chicago_dust  \\\n",
       "10074                      0                0             0   \n",
       "3829                       0                0             0   \n",
       "5798                       1                0             0   \n",
       "8303                       1                0             0   \n",
       "6226                       0                0             0   \n",
       "\n",
       "       Chicago_few clouds  Chicago_fog  Chicago_freezing rain  Chicago_haze  \\\n",
       "10074                   0            0                      0             0   \n",
       "3829                    0            0                      0             0   \n",
       "5798                    0            0                      0             0   \n",
       "8303                    0            0                      0             0   \n",
       "6226                    0            0                      0             0   \n",
       "\n",
       "       Chicago_heavy intensity drizzle  Chicago_heavy intensity rain  \\\n",
       "10074                                0                             0   \n",
       "3829                                 0                             0   \n",
       "5798                                 0                             0   \n",
       "8303                                 0                             0   \n",
       "6226                                 0                             0   \n",
       "\n",
       "       Chicago_heavy snow  ...    Chicago_thunderstorm  \\\n",
       "10074                   0  ...                       0   \n",
       "3829                    0  ...                       0   \n",
       "5798                    0  ...                       0   \n",
       "8303                    0  ...                       0   \n",
       "6226                    0  ...                       0   \n",
       "\n",
       "       Chicago_thunderstorm with drizzle  \\\n",
       "10074                                  0   \n",
       "3829                                   0   \n",
       "5798                                   0   \n",
       "8303                                   0   \n",
       "6226                                   0   \n",
       "\n",
       "       Chicago_thunderstorm with heavy rain  \\\n",
       "10074                                     0   \n",
       "3829                                      0   \n",
       "5798                                      0   \n",
       "8303                                      0   \n",
       "6226                                      0   \n",
       "\n",
       "       Chicago_thunderstorm with light drizzle  \\\n",
       "10074                                        0   \n",
       "3829                                         0   \n",
       "5798                                         0   \n",
       "8303                                         0   \n",
       "6226                                         0   \n",
       "\n",
       "       Chicago_thunderstorm with light rain  Chicago_thunderstorm with rain  \\\n",
       "10074                                     0                               0   \n",
       "3829                                      0                               0   \n",
       "5798                                      0                               0   \n",
       "8303                                      0                               0   \n",
       "6226                                      0                               0   \n",
       "\n",
       "       Chicago_very heavy rain  month  day  hours  \n",
       "10074                        0     11   25      6  \n",
       "3829                         0      3   10      1  \n",
       "5798                         0      5   31      2  \n",
       "8303                         0      9   12     11  \n",
       "6226                         0      6   17     22  \n",
       "\n",
       "[5 rows x 36 columns]"
      ]
     },
     "execution_count": 12,
     "metadata": {},
     "output_type": "execute_result"
    }
   ],
   "source": [
    "df_sky.sample(5)"
   ]
  },
  {
   "cell_type": "code",
   "execution_count": 13,
   "metadata": {},
   "outputs": [],
   "source": [
    "obj_features = extract_features_classification(config, df_crime_socio, df_temperature, df_sky)"
   ]
  },
  {
   "cell_type": "code",
   "execution_count": 14,
   "metadata": {},
   "outputs": [],
   "source": [
    "df_ml = obj_features.extract_feature()"
   ]
  },
  {
   "cell_type": "code",
   "execution_count": 15,
   "metadata": {},
   "outputs": [
    {
     "data": {
      "text/html": [
       "<div>\n",
       "<style scoped>\n",
       "    .dataframe tbody tr th:only-of-type {\n",
       "        vertical-align: middle;\n",
       "    }\n",
       "\n",
       "    .dataframe tbody tr th {\n",
       "        vertical-align: top;\n",
       "    }\n",
       "\n",
       "    .dataframe thead th {\n",
       "        text-align: right;\n",
       "    }\n",
       "</style>\n",
       "<table border=\"1\" class=\"dataframe\">\n",
       "  <thead>\n",
       "    <tr style=\"text-align: right;\">\n",
       "      <th></th>\n",
       "      <th>community_area_number</th>\n",
       "      <th>x_coordinate</th>\n",
       "      <th>y_coordinate</th>\n",
       "      <th>latitude</th>\n",
       "      <th>longitude</th>\n",
       "      <th>pct_housing_crowded</th>\n",
       "      <th>pct_households_below_poverty</th>\n",
       "      <th>pct_age16_unemployed</th>\n",
       "      <th>pct_age25_no_highschool</th>\n",
       "      <th>pct_not_working_age</th>\n",
       "      <th>...</th>\n",
       "      <th>Chicago_smoke</th>\n",
       "      <th>Chicago_snow</th>\n",
       "      <th>Chicago_squalls</th>\n",
       "      <th>Chicago_thunderstorm</th>\n",
       "      <th>Chicago_thunderstorm with drizzle</th>\n",
       "      <th>Chicago_thunderstorm with heavy rain</th>\n",
       "      <th>Chicago_thunderstorm with light drizzle</th>\n",
       "      <th>Chicago_thunderstorm with light rain</th>\n",
       "      <th>Chicago_thunderstorm with rain</th>\n",
       "      <th>Chicago_very heavy rain</th>\n",
       "    </tr>\n",
       "  </thead>\n",
       "  <tbody>\n",
       "    <tr>\n",
       "      <th>60815</th>\n",
       "      <td>27.0</td>\n",
       "      <td>1156710.0</td>\n",
       "      <td>1899877.0</td>\n",
       "      <td>41.881039</td>\n",
       "      <td>-87.700032</td>\n",
       "      <td>8.2</td>\n",
       "      <td>42.4</td>\n",
       "      <td>19.6</td>\n",
       "      <td>21.3</td>\n",
       "      <td>43.2</td>\n",
       "      <td>...</td>\n",
       "      <td>0</td>\n",
       "      <td>0</td>\n",
       "      <td>0</td>\n",
       "      <td>0</td>\n",
       "      <td>0</td>\n",
       "      <td>0</td>\n",
       "      <td>0</td>\n",
       "      <td>0</td>\n",
       "      <td>0</td>\n",
       "      <td>0</td>\n",
       "    </tr>\n",
       "    <tr>\n",
       "      <th>186456</th>\n",
       "      <td>25.0</td>\n",
       "      <td>1145011.0</td>\n",
       "      <td>1910225.0</td>\n",
       "      <td>41.909664</td>\n",
       "      <td>-87.742729</td>\n",
       "      <td>6.3</td>\n",
       "      <td>28.6</td>\n",
       "      <td>22.6</td>\n",
       "      <td>24.4</td>\n",
       "      <td>37.9</td>\n",
       "      <td>...</td>\n",
       "      <td>0</td>\n",
       "      <td>0</td>\n",
       "      <td>0</td>\n",
       "      <td>0</td>\n",
       "      <td>0</td>\n",
       "      <td>0</td>\n",
       "      <td>0</td>\n",
       "      <td>0</td>\n",
       "      <td>0</td>\n",
       "      <td>0</td>\n",
       "    </tr>\n",
       "    <tr>\n",
       "      <th>99173</th>\n",
       "      <td>1.0</td>\n",
       "      <td>1163498.0</td>\n",
       "      <td>1943889.0</td>\n",
       "      <td>42.001670</td>\n",
       "      <td>-87.673864</td>\n",
       "      <td>7.7</td>\n",
       "      <td>23.6</td>\n",
       "      <td>8.7</td>\n",
       "      <td>18.2</td>\n",
       "      <td>27.5</td>\n",
       "      <td>...</td>\n",
       "      <td>0</td>\n",
       "      <td>0</td>\n",
       "      <td>0</td>\n",
       "      <td>0</td>\n",
       "      <td>0</td>\n",
       "      <td>0</td>\n",
       "      <td>0</td>\n",
       "      <td>0</td>\n",
       "      <td>0</td>\n",
       "      <td>0</td>\n",
       "    </tr>\n",
       "    <tr>\n",
       "      <th>84313</th>\n",
       "      <td>44.0</td>\n",
       "      <td>1183628.0</td>\n",
       "      <td>1851929.0</td>\n",
       "      <td>41.748879</td>\n",
       "      <td>-87.602689</td>\n",
       "      <td>3.3</td>\n",
       "      <td>27.8</td>\n",
       "      <td>24.0</td>\n",
       "      <td>14.5</td>\n",
       "      <td>40.3</td>\n",
       "      <td>...</td>\n",
       "      <td>0</td>\n",
       "      <td>0</td>\n",
       "      <td>0</td>\n",
       "      <td>0</td>\n",
       "      <td>0</td>\n",
       "      <td>0</td>\n",
       "      <td>0</td>\n",
       "      <td>0</td>\n",
       "      <td>0</td>\n",
       "      <td>0</td>\n",
       "    </tr>\n",
       "    <tr>\n",
       "      <th>92880</th>\n",
       "      <td>7.0</td>\n",
       "      <td>1167095.0</td>\n",
       "      <td>1916066.0</td>\n",
       "      <td>41.925246</td>\n",
       "      <td>-87.661433</td>\n",
       "      <td>0.8</td>\n",
       "      <td>12.3</td>\n",
       "      <td>5.1</td>\n",
       "      <td>3.6</td>\n",
       "      <td>21.5</td>\n",
       "      <td>...</td>\n",
       "      <td>0</td>\n",
       "      <td>0</td>\n",
       "      <td>0</td>\n",
       "      <td>0</td>\n",
       "      <td>0</td>\n",
       "      <td>0</td>\n",
       "      <td>0</td>\n",
       "      <td>0</td>\n",
       "      <td>0</td>\n",
       "      <td>0</td>\n",
       "    </tr>\n",
       "  </tbody>\n",
       "</table>\n",
       "<p>5 rows × 69 columns</p>\n",
       "</div>"
      ],
      "text/plain": [
       "        community_area_number  x_coordinate  y_coordinate   latitude  \\\n",
       "60815                    27.0     1156710.0     1899877.0  41.881039   \n",
       "186456                   25.0     1145011.0     1910225.0  41.909664   \n",
       "99173                     1.0     1163498.0     1943889.0  42.001670   \n",
       "84313                    44.0     1183628.0     1851929.0  41.748879   \n",
       "92880                     7.0     1167095.0     1916066.0  41.925246   \n",
       "\n",
       "        longitude  pct_housing_crowded  pct_households_below_poverty  \\\n",
       "60815  -87.700032                  8.2                          42.4   \n",
       "186456 -87.742729                  6.3                          28.6   \n",
       "99173  -87.673864                  7.7                          23.6   \n",
       "84313  -87.602689                  3.3                          27.8   \n",
       "92880  -87.661433                  0.8                          12.3   \n",
       "\n",
       "        pct_age16_unemployed  pct_age25_no_highschool  pct_not_working_age  \\\n",
       "60815                   19.6                     21.3                 43.2   \n",
       "186456                  22.6                     24.4                 37.9   \n",
       "99173                    8.7                     18.2                 27.5   \n",
       "84313                   24.0                     14.5                 40.3   \n",
       "92880                    5.1                      3.6                 21.5   \n",
       "\n",
       "                 ...             Chicago_smoke  Chicago_snow  Chicago_squalls  \\\n",
       "60815            ...                         0             0                0   \n",
       "186456           ...                         0             0                0   \n",
       "99173            ...                         0             0                0   \n",
       "84313            ...                         0             0                0   \n",
       "92880            ...                         0             0                0   \n",
       "\n",
       "        Chicago_thunderstorm  Chicago_thunderstorm with drizzle  \\\n",
       "60815                      0                                  0   \n",
       "186456                     0                                  0   \n",
       "99173                      0                                  0   \n",
       "84313                      0                                  0   \n",
       "92880                      0                                  0   \n",
       "\n",
       "        Chicago_thunderstorm with heavy rain  \\\n",
       "60815                                      0   \n",
       "186456                                     0   \n",
       "99173                                      0   \n",
       "84313                                      0   \n",
       "92880                                      0   \n",
       "\n",
       "        Chicago_thunderstorm with light drizzle  \\\n",
       "60815                                         0   \n",
       "186456                                        0   \n",
       "99173                                         0   \n",
       "84313                                         0   \n",
       "92880                                         0   \n",
       "\n",
       "        Chicago_thunderstorm with light rain  Chicago_thunderstorm with rain  \\\n",
       "60815                                      0                               0   \n",
       "186456                                     0                               0   \n",
       "99173                                      0                               0   \n",
       "84313                                      0                               0   \n",
       "92880                                      0                               0   \n",
       "\n",
       "        Chicago_very heavy rain  \n",
       "60815                         0  \n",
       "186456                        0  \n",
       "99173                         0  \n",
       "84313                         0  \n",
       "92880                         0  \n",
       "\n",
       "[5 rows x 69 columns]"
      ]
     },
     "execution_count": 15,
     "metadata": {},
     "output_type": "execute_result"
    }
   ],
   "source": [
    "df_ml[0].sample(5)"
   ]
  },
  {
   "cell_type": "code",
   "execution_count": null,
   "metadata": {},
   "outputs": [],
   "source": []
  },
  {
   "cell_type": "code",
   "execution_count": 16,
   "metadata": {},
   "outputs": [],
   "source": [
    "obj_model = model_classification(config, df_ml)"
   ]
  },
  {
   "cell_type": "code",
   "execution_count": 23,
   "metadata": {},
   "outputs": [],
   "source": [
    "list_data = obj_model.load_for_ml()\n",
    "X_train = list_data[0]\n",
    "x_test = list_data[1]\n",
    "y_train = list_data[2] \n",
    "y_test = list_data[3]\n",
    "class_names = list_data[4]"
   ]
  },
  {
   "cell_type": "code",
   "execution_count": 17,
   "metadata": {},
   "outputs": [
    {
     "data": {
      "text/plain": [
       "['ASSAULT', 'BATTERY', 'BURGLARY', 'CRIMINAL DAMAGE', 'NARCOTICS', 'THEFT']"
      ]
     },
     "execution_count": 17,
     "metadata": {},
     "output_type": "execute_result"
    }
   ],
   "source": [
    "class_names"
   ]
  },
  {
   "cell_type": "code",
   "execution_count": 77,
   "metadata": {
    "scrolled": true
   },
   "outputs": [
    {
     "name": "stdout",
     "output_type": "stream",
     "text": [
      "[14:09:52] /workspace/src/tree/updater_prune.cc:74: tree pruning end, 1 roots, 1014 extra nodes, 392 pruned nodes, max_depth=10\n",
      "[14:10:58] /workspace/src/tree/updater_prune.cc:74: tree pruning end, 1 roots, 824 extra nodes, 136 pruned nodes, max_depth=10\n",
      "[14:12:06] /workspace/src/tree/updater_prune.cc:74: tree pruning end, 1 roots, 838 extra nodes, 212 pruned nodes, max_depth=10\n",
      "[14:13:13] /workspace/src/tree/updater_prune.cc:74: tree pruning end, 1 roots, 1220 extra nodes, 312 pruned nodes, max_depth=10\n",
      "[14:14:25] /workspace/src/tree/updater_prune.cc:74: tree pruning end, 1 roots, 722 extra nodes, 202 pruned nodes, max_depth=10\n",
      "[14:15:34] /workspace/src/tree/updater_prune.cc:74: tree pruning end, 1 roots, 958 extra nodes, 276 pruned nodes, max_depth=10\n",
      "[14:16:50] /workspace/src/tree/updater_prune.cc:74: tree pruning end, 1 roots, 1068 extra nodes, 374 pruned nodes, max_depth=10\n",
      "[14:18:02] /workspace/src/tree/updater_prune.cc:74: tree pruning end, 1 roots, 836 extra nodes, 130 pruned nodes, max_depth=10\n",
      "[14:19:15] /workspace/src/tree/updater_prune.cc:74: tree pruning end, 1 roots, 870 extra nodes, 210 pruned nodes, max_depth=10\n",
      "[14:20:28] /workspace/src/tree/updater_prune.cc:74: tree pruning end, 1 roots, 1292 extra nodes, 352 pruned nodes, max_depth=10\n",
      "[14:21:39] /workspace/src/tree/updater_prune.cc:74: tree pruning end, 1 roots, 754 extra nodes, 194 pruned nodes, max_depth=10\n",
      "[14:22:51] /workspace/src/tree/updater_prune.cc:74: tree pruning end, 1 roots, 1004 extra nodes, 382 pruned nodes, max_depth=10\n",
      "[14:24:10] /workspace/src/tree/updater_prune.cc:74: tree pruning end, 1 roots, 1034 extra nodes, 422 pruned nodes, max_depth=10\n",
      "[14:25:20] /workspace/src/tree/updater_prune.cc:74: tree pruning end, 1 roots, 806 extra nodes, 126 pruned nodes, max_depth=10\n",
      "[14:26:30] /workspace/src/tree/updater_prune.cc:74: tree pruning end, 1 roots, 906 extra nodes, 230 pruned nodes, max_depth=10\n",
      "[14:27:43] /workspace/src/tree/updater_prune.cc:74: tree pruning end, 1 roots, 1208 extra nodes, 288 pruned nodes, max_depth=10\n",
      "[14:29:00] /workspace/src/tree/updater_prune.cc:74: tree pruning end, 1 roots, 728 extra nodes, 212 pruned nodes, max_depth=10\n",
      "[14:30:17] /workspace/src/tree/updater_prune.cc:74: tree pruning end, 1 roots, 1108 extra nodes, 352 pruned nodes, max_depth=10\n",
      "[14:31:40] /workspace/src/tree/updater_prune.cc:74: tree pruning end, 1 roots, 1066 extra nodes, 382 pruned nodes, max_depth=10\n",
      "[14:32:51] /workspace/src/tree/updater_prune.cc:74: tree pruning end, 1 roots, 812 extra nodes, 116 pruned nodes, max_depth=10\n",
      "[14:34:02] /workspace/src/tree/updater_prune.cc:74: tree pruning end, 1 roots, 886 extra nodes, 228 pruned nodes, max_depth=10\n",
      "[14:35:09] /workspace/src/tree/updater_prune.cc:74: tree pruning end, 1 roots, 1246 extra nodes, 314 pruned nodes, max_depth=10\n",
      "[14:36:18] /workspace/src/tree/updater_prune.cc:74: tree pruning end, 1 roots, 740 extra nodes, 210 pruned nodes, max_depth=10\n",
      "[14:37:29] /workspace/src/tree/updater_prune.cc:74: tree pruning end, 1 roots, 1092 extra nodes, 354 pruned nodes, max_depth=10\n",
      "[14:38:43] /workspace/src/tree/updater_prune.cc:74: tree pruning end, 1 roots, 1062 extra nodes, 426 pruned nodes, max_depth=10\n",
      "[14:39:52] /workspace/src/tree/updater_prune.cc:74: tree pruning end, 1 roots, 808 extra nodes, 120 pruned nodes, max_depth=10\n",
      "[14:41:10] /workspace/src/tree/updater_prune.cc:74: tree pruning end, 1 roots, 924 extra nodes, 254 pruned nodes, max_depth=10\n",
      "[14:42:22] /workspace/src/tree/updater_prune.cc:74: tree pruning end, 1 roots, 1256 extra nodes, 314 pruned nodes, max_depth=10\n",
      "[14:43:33] /workspace/src/tree/updater_prune.cc:74: tree pruning end, 1 roots, 742 extra nodes, 200 pruned nodes, max_depth=10\n",
      "[14:44:45] /workspace/src/tree/updater_prune.cc:74: tree pruning end, 1 roots, 1142 extra nodes, 348 pruned nodes, max_depth=10\n",
      "[14:46:06] /workspace/src/tree/updater_prune.cc:74: tree pruning end, 1 roots, 1020 extra nodes, 470 pruned nodes, max_depth=10\n",
      "[14:47:21] /workspace/src/tree/updater_prune.cc:74: tree pruning end, 1 roots, 856 extra nodes, 118 pruned nodes, max_depth=10\n",
      "[14:48:55] /workspace/src/tree/updater_prune.cc:74: tree pruning end, 1 roots, 908 extra nodes, 238 pruned nodes, max_depth=10\n",
      "[14:50:04] /workspace/src/tree/updater_prune.cc:74: tree pruning end, 1 roots, 1254 extra nodes, 310 pruned nodes, max_depth=10\n",
      "[14:51:12] /workspace/src/tree/updater_prune.cc:74: tree pruning end, 1 roots, 734 extra nodes, 234 pruned nodes, max_depth=10\n",
      "[14:52:32] /workspace/src/tree/updater_prune.cc:74: tree pruning end, 1 roots, 1172 extra nodes, 352 pruned nodes, max_depth=10\n",
      "[14:53:49] /workspace/src/tree/updater_prune.cc:74: tree pruning end, 1 roots, 998 extra nodes, 468 pruned nodes, max_depth=10\n",
      "[14:54:58] /workspace/src/tree/updater_prune.cc:74: tree pruning end, 1 roots, 810 extra nodes, 198 pruned nodes, max_depth=10\n",
      "[14:56:13] /workspace/src/tree/updater_prune.cc:74: tree pruning end, 1 roots, 896 extra nodes, 254 pruned nodes, max_depth=10\n",
      "[14:57:24] /workspace/src/tree/updater_prune.cc:74: tree pruning end, 1 roots, 1240 extra nodes, 374 pruned nodes, max_depth=10\n",
      "[14:58:45] /workspace/src/tree/updater_prune.cc:74: tree pruning end, 1 roots, 758 extra nodes, 200 pruned nodes, max_depth=10\n",
      "[14:59:54] /workspace/src/tree/updater_prune.cc:74: tree pruning end, 1 roots, 1172 extra nodes, 404 pruned nodes, max_depth=10\n",
      "[15:01:19] /workspace/src/tree/updater_prune.cc:74: tree pruning end, 1 roots, 1032 extra nodes, 444 pruned nodes, max_depth=10\n",
      "[15:02:39] /workspace/src/tree/updater_prune.cc:74: tree pruning end, 1 roots, 1156 extra nodes, 320 pruned nodes, max_depth=10\n",
      "[15:03:46] /workspace/src/tree/updater_prune.cc:74: tree pruning end, 1 roots, 846 extra nodes, 264 pruned nodes, max_depth=10\n",
      "[15:04:54] /workspace/src/tree/updater_prune.cc:74: tree pruning end, 1 roots, 1200 extra nodes, 332 pruned nodes, max_depth=10\n",
      "[15:06:01] /workspace/src/tree/updater_prune.cc:74: tree pruning end, 1 roots, 648 extra nodes, 242 pruned nodes, max_depth=10\n",
      "[15:07:15] /workspace/src/tree/updater_prune.cc:74: tree pruning end, 1 roots, 1236 extra nodes, 340 pruned nodes, max_depth=10\n",
      "[15:08:43] /workspace/src/tree/updater_prune.cc:74: tree pruning end, 1 roots, 990 extra nodes, 412 pruned nodes, max_depth=10\n",
      "[15:10:04] /workspace/src/tree/updater_prune.cc:74: tree pruning end, 1 roots, 1174 extra nodes, 356 pruned nodes, max_depth=10\n",
      "[15:11:35] /workspace/src/tree/updater_prune.cc:74: tree pruning end, 1 roots, 900 extra nodes, 294 pruned nodes, max_depth=10\n",
      "[15:13:03] /workspace/src/tree/updater_prune.cc:74: tree pruning end, 1 roots, 1162 extra nodes, 322 pruned nodes, max_depth=10\n",
      "[15:14:12] /workspace/src/tree/updater_prune.cc:74: tree pruning end, 1 roots, 694 extra nodes, 216 pruned nodes, max_depth=10\n",
      "[15:15:21] /workspace/src/tree/updater_prune.cc:74: tree pruning end, 1 roots, 1302 extra nodes, 304 pruned nodes, max_depth=10\n",
      "[15:16:39] /workspace/src/tree/updater_prune.cc:74: tree pruning end, 1 roots, 1006 extra nodes, 438 pruned nodes, max_depth=10\n",
      "[15:17:48] /workspace/src/tree/updater_prune.cc:74: tree pruning end, 1 roots, 1264 extra nodes, 340 pruned nodes, max_depth=10\n",
      "[15:18:56] /workspace/src/tree/updater_prune.cc:74: tree pruning end, 1 roots, 896 extra nodes, 292 pruned nodes, max_depth=10\n",
      "[15:20:05] /workspace/src/tree/updater_prune.cc:74: tree pruning end, 1 roots, 1212 extra nodes, 320 pruned nodes, max_depth=10\n",
      "[15:21:23] /workspace/src/tree/updater_prune.cc:74: tree pruning end, 1 roots, 686 extra nodes, 192 pruned nodes, max_depth=10\n",
      "[15:23:03] /workspace/src/tree/updater_prune.cc:74: tree pruning end, 1 roots, 1218 extra nodes, 342 pruned nodes, max_depth=10\n",
      "[15:24:37] /workspace/src/tree/updater_prune.cc:74: tree pruning end, 1 roots, 1052 extra nodes, 412 pruned nodes, max_depth=10\n",
      "[15:25:49] /workspace/src/tree/updater_prune.cc:74: tree pruning end, 1 roots, 1308 extra nodes, 352 pruned nodes, max_depth=10\n",
      "[15:27:00] /workspace/src/tree/updater_prune.cc:74: tree pruning end, 1 roots, 914 extra nodes, 238 pruned nodes, max_depth=10\n",
      "[15:28:16] /workspace/src/tree/updater_prune.cc:74: tree pruning end, 1 roots, 1218 extra nodes, 382 pruned nodes, max_depth=10\n",
      "[15:29:38] /workspace/src/tree/updater_prune.cc:74: tree pruning end, 1 roots, 668 extra nodes, 214 pruned nodes, max_depth=10\n"
     ]
    },
    {
     "name": "stdout",
     "output_type": "stream",
     "text": [
      "[15:30:52] /workspace/src/tree/updater_prune.cc:74: tree pruning end, 1 roots, 1206 extra nodes, 330 pruned nodes, max_depth=10\n",
      "[15:32:33] /workspace/src/tree/updater_prune.cc:74: tree pruning end, 1 roots, 1036 extra nodes, 382 pruned nodes, max_depth=10\n",
      "[15:33:48] /workspace/src/tree/updater_prune.cc:74: tree pruning end, 1 roots, 1266 extra nodes, 360 pruned nodes, max_depth=10\n",
      "[15:34:54] /workspace/src/tree/updater_prune.cc:74: tree pruning end, 1 roots, 872 extra nodes, 292 pruned nodes, max_depth=10\n",
      "[15:36:01] /workspace/src/tree/updater_prune.cc:74: tree pruning end, 1 roots, 1202 extra nodes, 328 pruned nodes, max_depth=10\n",
      "[15:37:11] /workspace/src/tree/updater_prune.cc:74: tree pruning end, 1 roots, 698 extra nodes, 200 pruned nodes, max_depth=10\n",
      "[15:38:19] /workspace/src/tree/updater_prune.cc:74: tree pruning end, 1 roots, 1256 extra nodes, 358 pruned nodes, max_depth=10\n",
      "[15:39:34] /workspace/src/tree/updater_prune.cc:74: tree pruning end, 1 roots, 1054 extra nodes, 470 pruned nodes, max_depth=10\n",
      "[15:40:47] /workspace/src/tree/updater_prune.cc:74: tree pruning end, 1 roots, 1290 extra nodes, 358 pruned nodes, max_depth=10\n",
      "[15:41:55] /workspace/src/tree/updater_prune.cc:74: tree pruning end, 1 roots, 876 extra nodes, 282 pruned nodes, max_depth=10\n",
      "[15:43:08] /workspace/src/tree/updater_prune.cc:74: tree pruning end, 1 roots, 1264 extra nodes, 336 pruned nodes, max_depth=10\n",
      "[15:44:21] /workspace/src/tree/updater_prune.cc:74: tree pruning end, 1 roots, 668 extra nodes, 206 pruned nodes, max_depth=10\n",
      "[15:45:34] /workspace/src/tree/updater_prune.cc:74: tree pruning end, 1 roots, 1190 extra nodes, 400 pruned nodes, max_depth=10\n",
      "[15:46:52] /workspace/src/tree/updater_prune.cc:74: tree pruning end, 1 roots, 1060 extra nodes, 480 pruned nodes, max_depth=10\n",
      "[15:48:03] /workspace/src/tree/updater_prune.cc:74: tree pruning end, 1 roots, 1388 extra nodes, 312 pruned nodes, max_depth=10\n",
      "[15:49:16] /workspace/src/tree/updater_prune.cc:74: tree pruning end, 1 roots, 882 extra nodes, 292 pruned nodes, max_depth=10\n",
      "[15:50:27] /workspace/src/tree/updater_prune.cc:74: tree pruning end, 1 roots, 1100 extra nodes, 354 pruned nodes, max_depth=10\n",
      "[15:51:38] /workspace/src/tree/updater_prune.cc:74: tree pruning end, 1 roots, 698 extra nodes, 222 pruned nodes, max_depth=10\n",
      "[15:52:50] /workspace/src/tree/updater_prune.cc:74: tree pruning end, 1 roots, 1268 extra nodes, 344 pruned nodes, max_depth=10\n",
      "[15:54:09] /workspace/src/tree/updater_prune.cc:74: tree pruning end, 1 roots, 1054 extra nodes, 446 pruned nodes, max_depth=10\n",
      "[15:55:20] /workspace/src/tree/updater_prune.cc:74: tree pruning end, 1 roots, 1150 extra nodes, 410 pruned nodes, max_depth=10\n",
      "[15:56:31] /workspace/src/tree/updater_prune.cc:74: tree pruning end, 1 roots, 948 extra nodes, 280 pruned nodes, max_depth=10\n",
      "[15:57:44] /workspace/src/tree/updater_prune.cc:74: tree pruning end, 1 roots, 1196 extra nodes, 354 pruned nodes, max_depth=10\n",
      "[15:58:58] /workspace/src/tree/updater_prune.cc:74: tree pruning end, 1 roots, 714 extra nodes, 226 pruned nodes, max_depth=10\n",
      "[16:00:14] /workspace/src/tree/updater_prune.cc:74: tree pruning end, 1 roots, 1176 extra nodes, 344 pruned nodes, max_depth=10\n",
      "[16:01:35] /workspace/src/tree/updater_prune.cc:74: tree pruning end, 1 roots, 1000 extra nodes, 414 pruned nodes, max_depth=10\n",
      "[16:02:47] /workspace/src/tree/updater_prune.cc:74: tree pruning end, 1 roots, 1184 extra nodes, 380 pruned nodes, max_depth=10\n",
      "[16:03:59] /workspace/src/tree/updater_prune.cc:74: tree pruning end, 1 roots, 896 extra nodes, 338 pruned nodes, max_depth=10\n",
      "[16:05:11] /workspace/src/tree/updater_prune.cc:74: tree pruning end, 1 roots, 1174 extra nodes, 312 pruned nodes, max_depth=10\n",
      "[16:06:22] /workspace/src/tree/updater_prune.cc:74: tree pruning end, 1 roots, 714 extra nodes, 238 pruned nodes, max_depth=10\n",
      "[16:07:29] /workspace/src/tree/updater_prune.cc:74: tree pruning end, 1 roots, 1236 extra nodes, 376 pruned nodes, max_depth=10\n",
      "[16:08:42] /workspace/src/tree/updater_prune.cc:74: tree pruning end, 1 roots, 1038 extra nodes, 460 pruned nodes, max_depth=10\n",
      "[16:09:49] /workspace/src/tree/updater_prune.cc:74: tree pruning end, 1 roots, 1146 extra nodes, 400 pruned nodes, max_depth=10\n",
      "[16:10:55] /workspace/src/tree/updater_prune.cc:74: tree pruning end, 1 roots, 896 extra nodes, 314 pruned nodes, max_depth=10\n",
      "[16:12:03] /workspace/src/tree/updater_prune.cc:74: tree pruning end, 1 roots, 1270 extra nodes, 386 pruned nodes, max_depth=10\n",
      "[16:13:08] /workspace/src/tree/updater_prune.cc:74: tree pruning end, 1 roots, 740 extra nodes, 220 pruned nodes, max_depth=10\n",
      "[16:14:14] /workspace/src/tree/updater_prune.cc:74: tree pruning end, 1 roots, 1278 extra nodes, 286 pruned nodes, max_depth=10\n",
      "[16:15:27] /workspace/src/tree/updater_prune.cc:74: tree pruning end, 1 roots, 1032 extra nodes, 418 pruned nodes, max_depth=10\n",
      "[16:16:36] /workspace/src/tree/updater_prune.cc:74: tree pruning end, 1 roots, 1222 extra nodes, 382 pruned nodes, max_depth=10\n",
      "[16:17:51] /workspace/src/tree/updater_prune.cc:74: tree pruning end, 1 roots, 896 extra nodes, 336 pruned nodes, max_depth=10\n",
      "[16:19:04] /workspace/src/tree/updater_prune.cc:74: tree pruning end, 1 roots, 1126 extra nodes, 320 pruned nodes, max_depth=10\n",
      "[16:20:14] /workspace/src/tree/updater_prune.cc:74: tree pruning end, 1 roots, 712 extra nodes, 214 pruned nodes, max_depth=10\n",
      "[16:21:30] /workspace/src/tree/updater_prune.cc:74: tree pruning end, 1 roots, 1162 extra nodes, 390 pruned nodes, max_depth=10\n",
      "[16:22:49] /workspace/src/tree/updater_prune.cc:74: tree pruning end, 1 roots, 986 extra nodes, 364 pruned nodes, max_depth=10\n",
      "[16:24:03] /workspace/src/tree/updater_prune.cc:74: tree pruning end, 1 roots, 1114 extra nodes, 360 pruned nodes, max_depth=10\n",
      "[16:25:15] /workspace/src/tree/updater_prune.cc:74: tree pruning end, 1 roots, 884 extra nodes, 292 pruned nodes, max_depth=10\n",
      "[16:26:28] /workspace/src/tree/updater_prune.cc:74: tree pruning end, 1 roots, 1174 extra nodes, 316 pruned nodes, max_depth=10\n",
      "[16:27:38] /workspace/src/tree/updater_prune.cc:74: tree pruning end, 1 roots, 718 extra nodes, 210 pruned nodes, max_depth=10\n",
      "[16:28:49] /workspace/src/tree/updater_prune.cc:74: tree pruning end, 1 roots, 1278 extra nodes, 322 pruned nodes, max_depth=10\n",
      "[16:30:04] /workspace/src/tree/updater_prune.cc:74: tree pruning end, 1 roots, 1002 extra nodes, 374 pruned nodes, max_depth=10\n",
      "[16:31:11] /workspace/src/tree/updater_prune.cc:74: tree pruning end, 1 roots, 1188 extra nodes, 410 pruned nodes, max_depth=10\n",
      "[16:32:24] /workspace/src/tree/updater_prune.cc:74: tree pruning end, 1 roots, 822 extra nodes, 248 pruned nodes, max_depth=10\n",
      "[16:33:36] /workspace/src/tree/updater_prune.cc:74: tree pruning end, 1 roots, 1166 extra nodes, 342 pruned nodes, max_depth=10\n",
      "[16:34:47] /workspace/src/tree/updater_prune.cc:74: tree pruning end, 1 roots, 714 extra nodes, 180 pruned nodes, max_depth=10\n",
      "[16:36:00] /workspace/src/tree/updater_prune.cc:74: tree pruning end, 1 roots, 1168 extra nodes, 380 pruned nodes, max_depth=10\n",
      "[16:37:18] /workspace/src/tree/updater_prune.cc:74: tree pruning end, 1 roots, 970 extra nodes, 390 pruned nodes, max_depth=10\n",
      "[16:38:31] /workspace/src/tree/updater_prune.cc:74: tree pruning end, 1 roots, 1182 extra nodes, 372 pruned nodes, max_depth=10\n",
      "[16:39:46] /workspace/src/tree/updater_prune.cc:74: tree pruning end, 1 roots, 896 extra nodes, 296 pruned nodes, max_depth=10\n",
      "[16:41:00] /workspace/src/tree/updater_prune.cc:74: tree pruning end, 1 roots, 1148 extra nodes, 378 pruned nodes, max_depth=10\n",
      "[16:42:12] /workspace/src/tree/updater_prune.cc:74: tree pruning end, 1 roots, 748 extra nodes, 184 pruned nodes, max_depth=10\n",
      "[16:43:27] /workspace/src/tree/updater_prune.cc:74: tree pruning end, 1 roots, 1210 extra nodes, 300 pruned nodes, max_depth=10\n",
      "[16:44:45] /workspace/src/tree/updater_prune.cc:74: tree pruning end, 1 roots, 870 extra nodes, 376 pruned nodes, max_depth=10\n",
      "[16:45:56] /workspace/src/tree/updater_prune.cc:74: tree pruning end, 1 roots, 1148 extra nodes, 428 pruned nodes, max_depth=10\n",
      "[16:47:11] /workspace/src/tree/updater_prune.cc:74: tree pruning end, 1 roots, 828 extra nodes, 372 pruned nodes, max_depth=10\n",
      "[16:48:29] /workspace/src/tree/updater_prune.cc:74: tree pruning end, 1 roots, 1156 extra nodes, 330 pruned nodes, max_depth=10\n"
     ]
    },
    {
     "name": "stdout",
     "output_type": "stream",
     "text": [
      "[16:49:39] /workspace/src/tree/updater_prune.cc:74: tree pruning end, 1 roots, 734 extra nodes, 158 pruned nodes, max_depth=10\n",
      "[16:50:51] /workspace/src/tree/updater_prune.cc:74: tree pruning end, 1 roots, 1184 extra nodes, 368 pruned nodes, max_depth=10\n",
      "[16:52:06] /workspace/src/tree/updater_prune.cc:74: tree pruning end, 1 roots, 1002 extra nodes, 406 pruned nodes, max_depth=10\n",
      "[16:53:21] /workspace/src/tree/updater_prune.cc:74: tree pruning end, 1 roots, 1118 extra nodes, 424 pruned nodes, max_depth=10\n",
      "[16:54:36] /workspace/src/tree/updater_prune.cc:74: tree pruning end, 1 roots, 852 extra nodes, 282 pruned nodes, max_depth=10\n",
      "[16:55:51] /workspace/src/tree/updater_prune.cc:74: tree pruning end, 1 roots, 1200 extra nodes, 306 pruned nodes, max_depth=10\n",
      "[16:57:04] /workspace/src/tree/updater_prune.cc:74: tree pruning end, 1 roots, 706 extra nodes, 208 pruned nodes, max_depth=10\n",
      "[16:58:15] /workspace/src/tree/updater_prune.cc:74: tree pruning end, 1 roots, 1224 extra nodes, 340 pruned nodes, max_depth=10\n",
      "[16:59:32] /workspace/src/tree/updater_prune.cc:74: tree pruning end, 1 roots, 974 extra nodes, 438 pruned nodes, max_depth=10\n",
      "[17:00:38] /workspace/src/tree/updater_prune.cc:74: tree pruning end, 1 roots, 1048 extra nodes, 372 pruned nodes, max_depth=10\n",
      "[17:01:44] /workspace/src/tree/updater_prune.cc:74: tree pruning end, 1 roots, 878 extra nodes, 302 pruned nodes, max_depth=10\n",
      "[17:02:51] /workspace/src/tree/updater_prune.cc:74: tree pruning end, 1 roots, 1248 extra nodes, 344 pruned nodes, max_depth=10\n",
      "[17:03:55] /workspace/src/tree/updater_prune.cc:74: tree pruning end, 1 roots, 666 extra nodes, 200 pruned nodes, max_depth=10\n",
      "[17:05:01] /workspace/src/tree/updater_prune.cc:74: tree pruning end, 1 roots, 1108 extra nodes, 356 pruned nodes, max_depth=10\n",
      "[17:06:16] /workspace/src/tree/updater_prune.cc:74: tree pruning end, 1 roots, 906 extra nodes, 388 pruned nodes, max_depth=10\n",
      "[17:07:41] /workspace/src/tree/updater_prune.cc:74: tree pruning end, 1 roots, 1072 extra nodes, 346 pruned nodes, max_depth=10\n",
      "[17:08:50] /workspace/src/tree/updater_prune.cc:74: tree pruning end, 1 roots, 874 extra nodes, 332 pruned nodes, max_depth=10\n",
      "[17:10:00] /workspace/src/tree/updater_prune.cc:74: tree pruning end, 1 roots, 1096 extra nodes, 308 pruned nodes, max_depth=10\n",
      "[17:11:08] /workspace/src/tree/updater_prune.cc:74: tree pruning end, 1 roots, 764 extra nodes, 210 pruned nodes, max_depth=10\n",
      "[17:12:17] /workspace/src/tree/updater_prune.cc:74: tree pruning end, 1 roots, 1170 extra nodes, 376 pruned nodes, max_depth=10\n",
      "[17:13:30] /workspace/src/tree/updater_prune.cc:74: tree pruning end, 1 roots, 1060 extra nodes, 424 pruned nodes, max_depth=10\n",
      "[17:14:40] /workspace/src/tree/updater_prune.cc:74: tree pruning end, 1 roots, 1078 extra nodes, 394 pruned nodes, max_depth=10\n",
      "[17:15:52] /workspace/src/tree/updater_prune.cc:74: tree pruning end, 1 roots, 886 extra nodes, 354 pruned nodes, max_depth=10\n",
      "[17:17:00] /workspace/src/tree/updater_prune.cc:74: tree pruning end, 1 roots, 1118 extra nodes, 410 pruned nodes, max_depth=10\n",
      "[17:18:08] /workspace/src/tree/updater_prune.cc:74: tree pruning end, 1 roots, 718 extra nodes, 192 pruned nodes, max_depth=10\n",
      "[17:19:18] /workspace/src/tree/updater_prune.cc:74: tree pruning end, 1 roots, 1192 extra nodes, 376 pruned nodes, max_depth=10\n",
      "[17:20:33] /workspace/src/tree/updater_prune.cc:74: tree pruning end, 1 roots, 916 extra nodes, 368 pruned nodes, max_depth=10\n",
      "[17:21:43] /workspace/src/tree/updater_prune.cc:74: tree pruning end, 1 roots, 1122 extra nodes, 412 pruned nodes, max_depth=10\n",
      "[17:22:55] /workspace/src/tree/updater_prune.cc:74: tree pruning end, 1 roots, 840 extra nodes, 338 pruned nodes, max_depth=10\n",
      "[17:24:05] /workspace/src/tree/updater_prune.cc:74: tree pruning end, 1 roots, 1228 extra nodes, 384 pruned nodes, max_depth=10\n",
      "[17:25:13] /workspace/src/tree/updater_prune.cc:74: tree pruning end, 1 roots, 708 extra nodes, 224 pruned nodes, max_depth=10\n",
      "[17:26:20] /workspace/src/tree/updater_prune.cc:74: tree pruning end, 1 roots, 1192 extra nodes, 390 pruned nodes, max_depth=10\n",
      "[17:27:32] /workspace/src/tree/updater_prune.cc:74: tree pruning end, 1 roots, 996 extra nodes, 424 pruned nodes, max_depth=10\n",
      "[17:28:40] /workspace/src/tree/updater_prune.cc:74: tree pruning end, 1 roots, 928 extra nodes, 402 pruned nodes, max_depth=10\n",
      "[17:29:50] /workspace/src/tree/updater_prune.cc:74: tree pruning end, 1 roots, 792 extra nodes, 318 pruned nodes, max_depth=10\n",
      "[17:30:57] /workspace/src/tree/updater_prune.cc:74: tree pruning end, 1 roots, 1108 extra nodes, 354 pruned nodes, max_depth=10\n",
      "[17:32:09] /workspace/src/tree/updater_prune.cc:74: tree pruning end, 1 roots, 736 extra nodes, 226 pruned nodes, max_depth=10\n",
      "[17:33:20] /workspace/src/tree/updater_prune.cc:74: tree pruning end, 1 roots, 1128 extra nodes, 334 pruned nodes, max_depth=10\n",
      "[17:34:38] /workspace/src/tree/updater_prune.cc:74: tree pruning end, 1 roots, 974 extra nodes, 444 pruned nodes, max_depth=10\n",
      "[17:35:50] /workspace/src/tree/updater_prune.cc:74: tree pruning end, 1 roots, 1048 extra nodes, 388 pruned nodes, max_depth=10\n",
      "[17:37:06] /workspace/src/tree/updater_prune.cc:74: tree pruning end, 1 roots, 914 extra nodes, 290 pruned nodes, max_depth=10\n",
      "[17:38:21] /workspace/src/tree/updater_prune.cc:74: tree pruning end, 1 roots, 1052 extra nodes, 366 pruned nodes, max_depth=10\n",
      "[17:39:30] /workspace/src/tree/updater_prune.cc:74: tree pruning end, 1 roots, 688 extra nodes, 202 pruned nodes, max_depth=10\n",
      "[17:40:40] /workspace/src/tree/updater_prune.cc:74: tree pruning end, 1 roots, 1200 extra nodes, 322 pruned nodes, max_depth=10\n",
      "[17:41:57] /workspace/src/tree/updater_prune.cc:74: tree pruning end, 1 roots, 882 extra nodes, 374 pruned nodes, max_depth=10\n",
      "[17:43:01] /workspace/src/tree/updater_prune.cc:74: tree pruning end, 1 roots, 944 extra nodes, 324 pruned nodes, max_depth=10\n",
      "[17:44:07] /workspace/src/tree/updater_prune.cc:74: tree pruning end, 1 roots, 876 extra nodes, 310 pruned nodes, max_depth=10\n",
      "[17:45:14] /workspace/src/tree/updater_prune.cc:74: tree pruning end, 1 roots, 1096 extra nodes, 342 pruned nodes, max_depth=10\n",
      "[17:46:18] /workspace/src/tree/updater_prune.cc:74: tree pruning end, 1 roots, 748 extra nodes, 230 pruned nodes, max_depth=10\n",
      "[17:47:23] /workspace/src/tree/updater_prune.cc:74: tree pruning end, 1 roots, 1160 extra nodes, 414 pruned nodes, max_depth=10\n",
      "[17:48:35] /workspace/src/tree/updater_prune.cc:74: tree pruning end, 1 roots, 962 extra nodes, 394 pruned nodes, max_depth=10\n",
      "[17:49:41] /workspace/src/tree/updater_prune.cc:74: tree pruning end, 1 roots, 1102 extra nodes, 400 pruned nodes, max_depth=10\n",
      "[17:50:47] /workspace/src/tree/updater_prune.cc:74: tree pruning end, 1 roots, 844 extra nodes, 254 pruned nodes, max_depth=10\n",
      "[17:51:53] /workspace/src/tree/updater_prune.cc:74: tree pruning end, 1 roots, 1080 extra nodes, 338 pruned nodes, max_depth=10\n",
      "[17:52:58] /workspace/src/tree/updater_prune.cc:74: tree pruning end, 1 roots, 684 extra nodes, 230 pruned nodes, max_depth=10\n",
      "[17:54:04] /workspace/src/tree/updater_prune.cc:74: tree pruning end, 1 roots, 1124 extra nodes, 342 pruned nodes, max_depth=10\n",
      "[17:55:15] /workspace/src/tree/updater_prune.cc:74: tree pruning end, 1 roots, 934 extra nodes, 406 pruned nodes, max_depth=10\n",
      "[17:56:20] /workspace/src/tree/updater_prune.cc:74: tree pruning end, 1 roots, 1036 extra nodes, 356 pruned nodes, max_depth=10\n",
      "[17:57:25] /workspace/src/tree/updater_prune.cc:74: tree pruning end, 1 roots, 800 extra nodes, 324 pruned nodes, max_depth=10\n",
      "[17:58:31] /workspace/src/tree/updater_prune.cc:74: tree pruning end, 1 roots, 1154 extra nodes, 332 pruned nodes, max_depth=10\n",
      "[17:59:36] /workspace/src/tree/updater_prune.cc:74: tree pruning end, 1 roots, 708 extra nodes, 208 pruned nodes, max_depth=10\n",
      "[18:00:42] /workspace/src/tree/updater_prune.cc:74: tree pruning end, 1 roots, 1154 extra nodes, 358 pruned nodes, max_depth=10\n",
      "[18:01:52] /workspace/src/tree/updater_prune.cc:74: tree pruning end, 1 roots, 846 extra nodes, 376 pruned nodes, max_depth=10\n",
      "[18:02:57] /workspace/src/tree/updater_prune.cc:74: tree pruning end, 1 roots, 1076 extra nodes, 404 pruned nodes, max_depth=10\n",
      "[18:04:03] /workspace/src/tree/updater_prune.cc:74: tree pruning end, 1 roots, 816 extra nodes, 344 pruned nodes, max_depth=10\n"
     ]
    },
    {
     "name": "stdout",
     "output_type": "stream",
     "text": [
      "[18:05:09] /workspace/src/tree/updater_prune.cc:74: tree pruning end, 1 roots, 1020 extra nodes, 356 pruned nodes, max_depth=10\n",
      "[18:06:14] /workspace/src/tree/updater_prune.cc:74: tree pruning end, 1 roots, 736 extra nodes, 222 pruned nodes, max_depth=10\n",
      "[18:07:19] /workspace/src/tree/updater_prune.cc:74: tree pruning end, 1 roots, 1118 extra nodes, 354 pruned nodes, max_depth=10\n",
      "[18:08:29] /workspace/src/tree/updater_prune.cc:74: tree pruning end, 1 roots, 996 extra nodes, 354 pruned nodes, max_depth=10\n",
      "[18:09:35] /workspace/src/tree/updater_prune.cc:74: tree pruning end, 1 roots, 992 extra nodes, 404 pruned nodes, max_depth=10\n",
      "[18:10:41] /workspace/src/tree/updater_prune.cc:74: tree pruning end, 1 roots, 804 extra nodes, 292 pruned nodes, max_depth=10\n",
      "[18:11:46] /workspace/src/tree/updater_prune.cc:74: tree pruning end, 1 roots, 1084 extra nodes, 330 pruned nodes, max_depth=10\n",
      "[18:12:51] /workspace/src/tree/updater_prune.cc:74: tree pruning end, 1 roots, 730 extra nodes, 222 pruned nodes, max_depth=10\n",
      "[18:13:56] /workspace/src/tree/updater_prune.cc:74: tree pruning end, 1 roots, 1112 extra nodes, 370 pruned nodes, max_depth=10\n",
      "[18:15:07] /workspace/src/tree/updater_prune.cc:74: tree pruning end, 1 roots, 932 extra nodes, 466 pruned nodes, max_depth=10\n",
      "[18:16:13] /workspace/src/tree/updater_prune.cc:74: tree pruning end, 1 roots, 1062 extra nodes, 358 pruned nodes, max_depth=10\n",
      "[18:17:19] /workspace/src/tree/updater_prune.cc:74: tree pruning end, 1 roots, 822 extra nodes, 310 pruned nodes, max_depth=10\n",
      "[18:18:24] /workspace/src/tree/updater_prune.cc:74: tree pruning end, 1 roots, 978 extra nodes, 374 pruned nodes, max_depth=10\n",
      "[18:19:29] /workspace/src/tree/updater_prune.cc:74: tree pruning end, 1 roots, 744 extra nodes, 242 pruned nodes, max_depth=10\n",
      "[18:20:35] /workspace/src/tree/updater_prune.cc:74: tree pruning end, 1 roots, 1152 extra nodes, 316 pruned nodes, max_depth=10\n",
      "[18:21:46] /workspace/src/tree/updater_prune.cc:74: tree pruning end, 1 roots, 870 extra nodes, 390 pruned nodes, max_depth=10\n",
      "[18:22:52] /workspace/src/tree/updater_prune.cc:74: tree pruning end, 1 roots, 1024 extra nodes, 420 pruned nodes, max_depth=10\n",
      "[18:23:57] /workspace/src/tree/updater_prune.cc:74: tree pruning end, 1 roots, 854 extra nodes, 288 pruned nodes, max_depth=10\n",
      "[18:25:04] /workspace/src/tree/updater_prune.cc:74: tree pruning end, 1 roots, 1056 extra nodes, 330 pruned nodes, max_depth=10\n",
      "[18:26:08] /workspace/src/tree/updater_prune.cc:74: tree pruning end, 1 roots, 754 extra nodes, 208 pruned nodes, max_depth=10\n",
      "[18:27:14] /workspace/src/tree/updater_prune.cc:74: tree pruning end, 1 roots, 1148 extra nodes, 432 pruned nodes, max_depth=10\n",
      "[18:28:25] /workspace/src/tree/updater_prune.cc:74: tree pruning end, 1 roots, 848 extra nodes, 412 pruned nodes, max_depth=10\n",
      "[18:29:30] /workspace/src/tree/updater_prune.cc:74: tree pruning end, 1 roots, 930 extra nodes, 448 pruned nodes, max_depth=10\n",
      "[18:30:37] /workspace/src/tree/updater_prune.cc:74: tree pruning end, 1 roots, 874 extra nodes, 368 pruned nodes, max_depth=10\n",
      "[18:31:44] /workspace/src/tree/updater_prune.cc:74: tree pruning end, 1 roots, 1044 extra nodes, 388 pruned nodes, max_depth=10\n",
      "[18:32:48] /workspace/src/tree/updater_prune.cc:74: tree pruning end, 1 roots, 766 extra nodes, 220 pruned nodes, max_depth=10\n",
      "[18:33:54] /workspace/src/tree/updater_prune.cc:74: tree pruning end, 1 roots, 1124 extra nodes, 308 pruned nodes, max_depth=10\n",
      "[18:35:04] /workspace/src/tree/updater_prune.cc:74: tree pruning end, 1 roots, 988 extra nodes, 390 pruned nodes, max_depth=10\n",
      "[18:36:10] /workspace/src/tree/updater_prune.cc:74: tree pruning end, 1 roots, 892 extra nodes, 328 pruned nodes, max_depth=10\n",
      "[18:37:16] /workspace/src/tree/updater_prune.cc:74: tree pruning end, 1 roots, 864 extra nodes, 378 pruned nodes, max_depth=10\n",
      "[18:38:22] /workspace/src/tree/updater_prune.cc:74: tree pruning end, 1 roots, 894 extra nodes, 336 pruned nodes, max_depth=10\n",
      "[18:39:26] /workspace/src/tree/updater_prune.cc:74: tree pruning end, 1 roots, 732 extra nodes, 230 pruned nodes, max_depth=10\n",
      "[18:40:31] /workspace/src/tree/updater_prune.cc:74: tree pruning end, 1 roots, 1136 extra nodes, 326 pruned nodes, max_depth=10\n",
      "[18:41:42] /workspace/src/tree/updater_prune.cc:74: tree pruning end, 1 roots, 876 extra nodes, 396 pruned nodes, max_depth=10\n",
      "[18:42:47] /workspace/src/tree/updater_prune.cc:74: tree pruning end, 1 roots, 1010 extra nodes, 392 pruned nodes, max_depth=10\n",
      "[18:43:52] /workspace/src/tree/updater_prune.cc:74: tree pruning end, 1 roots, 800 extra nodes, 338 pruned nodes, max_depth=10\n",
      "[18:44:58] /workspace/src/tree/updater_prune.cc:74: tree pruning end, 1 roots, 1000 extra nodes, 398 pruned nodes, max_depth=10\n",
      "[18:46:02] /workspace/src/tree/updater_prune.cc:74: tree pruning end, 1 roots, 726 extra nodes, 220 pruned nodes, max_depth=10\n",
      "[18:47:07] /workspace/src/tree/updater_prune.cc:74: tree pruning end, 1 roots, 1086 extra nodes, 340 pruned nodes, max_depth=10\n",
      "[18:48:18] /workspace/src/tree/updater_prune.cc:74: tree pruning end, 1 roots, 786 extra nodes, 272 pruned nodes, max_depth=10\n",
      "[18:49:23] /workspace/src/tree/updater_prune.cc:74: tree pruning end, 1 roots, 952 extra nodes, 478 pruned nodes, max_depth=10\n",
      "[18:50:29] /workspace/src/tree/updater_prune.cc:74: tree pruning end, 1 roots, 826 extra nodes, 362 pruned nodes, max_depth=10\n",
      "[18:51:36] /workspace/src/tree/updater_prune.cc:74: tree pruning end, 1 roots, 1180 extra nodes, 342 pruned nodes, max_depth=10\n",
      "[18:52:41] /workspace/src/tree/updater_prune.cc:74: tree pruning end, 1 roots, 756 extra nodes, 220 pruned nodes, max_depth=10\n",
      "[18:53:47] /workspace/src/tree/updater_prune.cc:74: tree pruning end, 1 roots, 1120 extra nodes, 304 pruned nodes, max_depth=10\n"
     ]
    }
   ],
   "source": [
    "model_xgboost = obj_model.train_xgboost()"
   ]
  },
  {
   "cell_type": "code",
   "execution_count": 31,
   "metadata": {},
   "outputs": [],
   "source": [
    "from sklearn.metrics import accuracy_score, precision_score, recall_score, roc_auc_score\n",
    "from sklearn.metrics import classification_report\n",
    "from sklearn.metrics import confusion_matrix\n",
    "import numpy as np\n",
    "import itertools"
   ]
  },
  {
   "cell_type": "code",
   "execution_count": 53,
   "metadata": {},
   "outputs": [],
   "source": [
    "preds = model_xgboost.predict(obj_model.dtest())"
   ]
  },
  {
   "cell_type": "code",
   "execution_count": 54,
   "metadata": {},
   "outputs": [
    {
     "name": "stdout",
     "output_type": "stream",
     "text": [
      "0.38017016616049987\n"
     ]
    },
    {
     "name": "stderr",
     "output_type": "stream",
     "text": [
      "/home/ml/anaconda3/lib/python3.7/site-packages/sklearn/metrics/classification.py:1135: UndefinedMetricWarning: Precision is ill-defined and being set to 0.0 in labels with no predicted samples.\n",
      "  'precision', 'predicted', average, warn_for)\n"
     ]
    }
   ],
   "source": [
    "print(precision_score(y_test, preds, average='macro'))"
   ]
  },
  {
   "cell_type": "code",
   "execution_count": 55,
   "metadata": {},
   "outputs": [
    {
     "name": "stdout",
     "output_type": "stream",
     "text": [
      "0.5101599081190918\n"
     ]
    }
   ],
   "source": [
    "print(accuracy_score(y_test, preds))"
   ]
  },
  {
   "cell_type": "code",
   "execution_count": 57,
   "metadata": {
    "scrolled": false
   },
   "outputs": [
    {
     "name": "stdout",
     "output_type": "stream",
     "text": [
      "Confusion matrix, without normalization\n",
      "[[    0  1551    43    37  1289  2509]\n",
      " [    0  8742    62   116  2565  4577]\n",
      " [    0   228   177    55   574  4394]\n",
      " [    0  1561    90   167  1351  6237]\n",
      " [    0   331    23    73  7407  2401]\n",
      " [    0  1038   108    80  1974 18154]]\n",
      "Normalized confusion matrix\n",
      "[[0.   0.29 0.01 0.01 0.24 0.46]\n",
      " [0.   0.54 0.   0.01 0.16 0.28]\n",
      " [0.   0.04 0.03 0.01 0.11 0.81]\n",
      " [0.   0.17 0.01 0.02 0.14 0.66]\n",
      " [0.   0.03 0.   0.01 0.72 0.23]\n",
      " [0.   0.05 0.01 0.   0.09 0.85]]\n"
     ]
    },
    {
     "data": {
      "image/png": "[encoded data removed]",
      "text/plain": [
       "<Figure size 432x288 with 2 Axes>"
      ]
     },
     "metadata": {
      "needs_background": "light"
     },
     "output_type": "display_data"
    },
    {
     "data": {
      "image/png": "[encoded data removed]",
      "text/plain": [
       "<Figure size 1080x1080 with 2 Axes>"
      ]
     },
     "metadata": {
      "needs_background": "light"
     },
     "output_type": "display_data"
    },
    {
     "data": {
      "text/plain": [
       "<Figure size 1080x1080 with 0 Axes>"
      ]
     },
     "metadata": {},
     "output_type": "display_data"
    }
   ],
   "source": [
    "# Compute confusion matrix\n",
    "cnf_matrix = confusion_matrix(y_test, preds) \n",
    "np.set_printoptions(precision=2)\n",
    "\n",
    "# Plot non-normalized confusion matrix\n",
    "plt.figsize = (10, 10)\n",
    "plot_confusion_matrix(cnf_matrix, classes=class_names,\n",
    "                      title='Confusion matrix, without normalization')\n",
    "\n",
    "# Plot normalized confusion matrix\n",
    "plt.figsize = (10, 10)\n",
    "plot_confusion_matrix(cnf_matrix, classes=class_names, normalize=True,\n",
    "                      title='Normalized confusion matrix')"
   ]
  },
  {
   "cell_type": "markdown",
   "metadata": {},
   "source": [
    "###  Save model"
   ]
  },
  {
   "cell_type": "code",
   "execution_count": 79,
   "metadata": {},
   "outputs": [],
   "source": [
    "filename = '/home/ml/Documents/crimes_chigaco/models/model_xgboost_2013_2015.sav'"
   ]
  },
  {
   "cell_type": "code",
   "execution_count": 80,
   "metadata": {},
   "outputs": [
    {
     "data": {
      "text/plain": [
       "['/home/ml/Documents/crimes_chigaco/models/model_xgboost_2013_2015.sav']"
      ]
     },
     "execution_count": 80,
     "metadata": {},
     "output_type": "execute_result"
    }
   ],
   "source": [
    "joblib.dump(model_xgboost,filename) "
   ]
  },
  {
   "cell_type": "code",
   "execution_count": 81,
   "metadata": {},
   "outputs": [],
   "source": [
    "loaded_model = joblib.load(filename)"
   ]
  },
  {
   "cell_type": "code",
   "execution_count": 61,
   "metadata": {
    "scrolled": false
   },
   "outputs": [],
   "source": [
    "pred_test = loaded_model.predict(obj_model.dtest())"
   ]
  },
  {
   "cell_type": "code",
   "execution_count": 63,
   "metadata": {},
   "outputs": [
    {
     "data": {
      "text/plain": [
       "67914"
      ]
     },
     "execution_count": 63,
     "metadata": {},
     "output_type": "execute_result"
    }
   ],
   "source": [
    "len(pred_test)"
   ]
  },
  {
   "cell_type": "code",
   "execution_count": 64,
   "metadata": {},
   "outputs": [
    {
     "data": {
      "text/plain": [
       "67914"
      ]
     },
     "execution_count": 64,
     "metadata": {},
     "output_type": "execute_result"
    }
   ],
   "source": [
    "len(y_test)"
   ]
  },
  {
   "cell_type": "code",
   "execution_count": null,
   "metadata": {},
   "outputs": [],
   "source": []
  },
  {
   "cell_type": "markdown",
   "metadata": {},
   "source": [
    "### Implémentation du SVM"
   ]
  },
  {
   "cell_type": "code",
   "execution_count": 59,
   "metadata": {},
   "outputs": [],
   "source": [
    "for_ml = obj_model.load_for_ml()"
   ]
  },
  {
   "cell_type": "code",
   "execution_count": 60,
   "metadata": {},
   "outputs": [],
   "source": [
    "X_train = for_ml[0].astype(float)"
   ]
  },
  {
   "cell_type": "code",
   "execution_count": 61,
   "metadata": {},
   "outputs": [],
   "source": [
    "y_train = for_ml[2].astype(float)"
   ]
  },
  {
   "cell_type": "code",
   "execution_count": 62,
   "metadata": {},
   "outputs": [
    {
     "data": {
      "text/plain": [
       "(158357, 68)"
      ]
     },
     "execution_count": 62,
     "metadata": {},
     "output_type": "execute_result"
    }
   ],
   "source": [
    "X_train.shape"
   ]
  },
  {
   "cell_type": "code",
   "execution_count": 63,
   "metadata": {},
   "outputs": [
    {
     "data": {
      "text/plain": [
       "(158357,)"
      ]
     },
     "execution_count": 63,
     "metadata": {},
     "output_type": "execute_result"
    }
   ],
   "source": [
    "y_train.shape"
   ]
  },
  {
   "cell_type": "code",
   "execution_count": null,
   "metadata": {},
   "outputs": [],
   "source": [
    "from sklearn.svm import SVC  \n",
    "svclassifier = SVC(kernel='linear')  \n",
    "svclassifier.fit(X_train.values, y_train.values)"
   ]
  },
  {
   "cell_type": "markdown",
   "metadata": {},
   "source": [
    "### Implementation de random forest"
   ]
  },
  {
   "cell_type": "code",
   "execution_count": 57,
   "metadata": {},
   "outputs": [],
   "source": [
    "import numpy as np\n",
    "from time import time\n",
    "from scipy.stats import randint as sp_randint\n",
    "from sklearn.model_selection import GridSearchCV\n",
    "from sklearn.model_selection import RandomizedSearchCV\n",
    "from sklearn.datasets import load_digits\n",
    "from sklearn.ensemble import RandomForestClassifier"
   ]
  },
  {
   "cell_type": "code",
   "execution_count": 62,
   "metadata": {},
   "outputs": [],
   "source": [
    "param_dist = {\"max_depth\": [3, None],\n",
    "              \"max_features\": sp_randint(1, 11),\n",
    "              \"min_samples_split\": sp_randint(2, 11),\n",
    "              \"bootstrap\": [True, False],\n",
    "              \"criterion\": [\"gini\", \"entropy\"]}"
   ]
  },
  {
   "cell_type": "code",
   "execution_count": 63,
   "metadata": {},
   "outputs": [],
   "source": [
    "clf = RandomForestClassifier(n_estimators=100, n_jobs=-1)"
   ]
  },
  {
   "cell_type": "code",
   "execution_count": 64,
   "metadata": {},
   "outputs": [],
   "source": [
    "n_iter_search = 5\n",
    "random_search = RandomizedSearchCV(clf, param_distributions=param_dist, n_iter=n_iter_search, cv=5)"
   ]
  },
  {
   "cell_type": "code",
   "execution_count": 65,
   "metadata": {},
   "outputs": [
    {
     "name": "stdout",
     "output_type": "stream",
     "text": [
      "CPU times: user 8min 56s, sys: 1.99 s, total: 8min 58s\n",
      "Wall time: 9min 19s\n"
     ]
    },
    {
     "data": {
      "text/plain": [
       "RandomizedSearchCV(cv=5, error_score='raise-deprecating',\n",
       "          estimator=RandomForestClassifier(bootstrap=True, class_weight=None, criterion='gini',\n",
       "            max_depth=None, max_features='auto', max_leaf_nodes=None,\n",
       "            min_impurity_decrease=0.0, min_impurity_split=None,\n",
       "            min_samples_leaf=1, min_samples_split=2,\n",
       "            min_weight_fraction_leaf=0.0, n_estimators=100, n_jobs=None,\n",
       "            oob_score=False, random_state=None, verbose=0,\n",
       "            warm_start=False),\n",
       "          fit_params=None, iid='warn', n_iter=5, n_jobs=None,\n",
       "          param_distributions={'max_depth': [3, None], 'max_features': <scipy.stats._distn_infrastructure.rv_frozen object at 0x7f1221305ba8>, 'min_samples_split': <scipy.stats._distn_infrastructure.rv_frozen object at 0x7f121c8c6668>, 'bootstrap': [True, False], 'criterion': ['gini', 'entropy']},\n",
       "          pre_dispatch='2*n_jobs', random_state=None, refit=True,\n",
       "          return_train_score='warn', scoring=None, verbose=0)"
      ]
     },
     "execution_count": 65,
     "metadata": {},
     "output_type": "execute_result"
    }
   ],
   "source": [
    "%%time\n",
    "random_search.fit(X_train, y_train)"
   ]
  },
  {
   "cell_type": "code",
   "execution_count": 66,
   "metadata": {},
   "outputs": [
    {
     "data": {
      "text/plain": [
       "<bound method BaseEstimator.get_params of RandomForestClassifier(bootstrap=True, class_weight=None, criterion='gini',\n",
       "            max_depth=None, max_features='auto', max_leaf_nodes=None,\n",
       "            min_impurity_decrease=0.0, min_impurity_split=None,\n",
       "            min_samples_leaf=1, min_samples_split=2,\n",
       "            min_weight_fraction_leaf=0.0, n_estimators=100, n_jobs=None,\n",
       "            oob_score=False, random_state=None, verbose=0,\n",
       "            warm_start=False)>"
      ]
     },
     "execution_count": 66,
     "metadata": {},
     "output_type": "execute_result"
    }
   ],
   "source": [
    "clf.get_params"
   ]
  },
  {
   "cell_type": "code",
   "execution_count": 67,
   "metadata": {},
   "outputs": [
    {
     "data": {
      "text/plain": [
       "{'bootstrap': True,\n",
       " 'criterion': 'entropy',\n",
       " 'max_depth': None,\n",
       " 'max_features': 8,\n",
       " 'min_samples_split': 2}"
      ]
     },
     "execution_count": 67,
     "metadata": {},
     "output_type": "execute_result"
    }
   ],
   "source": [
    "random_search.best_params_"
   ]
  },
  {
   "cell_type": "code",
   "execution_count": 68,
   "metadata": {},
   "outputs": [
    {
     "data": {
      "text/plain": [
       "RandomForestClassifier(bootstrap=True, class_weight=None, criterion='entropy',\n",
       "            max_depth=None, max_features=8, max_leaf_nodes=None,\n",
       "            min_impurity_decrease=0.0, min_impurity_split=None,\n",
       "            min_samples_leaf=1, min_samples_split=2,\n",
       "            min_weight_fraction_leaf=0.0, n_estimators=100, n_jobs=None,\n",
       "            oob_score=False, random_state=None, verbose=0,\n",
       "            warm_start=False)"
      ]
     },
     "execution_count": 68,
     "metadata": {},
     "output_type": "execute_result"
    }
   ],
   "source": [
    "random_search.best_estimator_"
   ]
  },
  {
   "cell_type": "code",
   "execution_count": 69,
   "metadata": {},
   "outputs": [],
   "source": [
    "rf_best = random_search.best_estimator_"
   ]
  },
  {
   "cell_type": "code",
   "execution_count": 70,
   "metadata": {},
   "outputs": [],
   "source": [
    "preds = rf_best.predict(x_test)"
   ]
  },
  {
   "cell_type": "code",
   "execution_count": 71,
   "metadata": {},
   "outputs": [
    {
     "name": "stdout",
     "output_type": "stream",
     "text": [
      "0.5124948429303943\n"
     ]
    }
   ],
   "source": [
    "print(accuracy_score(y_test, preds))"
   ]
  },
  {
   "cell_type": "code",
   "execution_count": 72,
   "metadata": {},
   "outputs": [
    {
     "name": "stdout",
     "output_type": "stream",
     "text": [
      "Confusion matrix, without normalization\n",
      "[[  120  1944   115   278   997  1994]\n",
      " [  169  9536   150   573  2040  3793]\n",
      " [   45   378   554   452   506  3381]\n",
      " [   90  1678   329  1130  1157  4848]\n",
      " [   88   816    95   321  6982  2036]\n",
      " [  118  1560   442  1017  1676 16460]]\n",
      "Normalized confusion matrix\n",
      "[[0.02 0.36 0.02 0.05 0.18 0.37]\n",
      " [0.01 0.59 0.01 0.04 0.13 0.23]\n",
      " [0.01 0.07 0.1  0.09 0.1  0.64]\n",
      " [0.01 0.18 0.04 0.12 0.13 0.53]\n",
      " [0.01 0.08 0.01 0.03 0.68 0.2 ]\n",
      " [0.01 0.07 0.02 0.05 0.08 0.77]]\n"
     ]
    },
    {
     "data": {
      "image/png": "[encoded data removed]",
      "text/plain": [
       "<Figure size 432x288 with 2 Axes>"
      ]
     },
     "metadata": {
      "needs_background": "light"
     },
     "output_type": "display_data"
    },
    {
     "data": {
      "image/png": "[encoded data removed]",
      "text/plain": [
       "<Figure size 1080x1080 with 2 Axes>"
      ]
     },
     "metadata": {
      "needs_background": "light"
     },
     "output_type": "display_data"
    },
    {
     "data": {
      "text/plain": [
       "<Figure size 1080x1080 with 0 Axes>"
      ]
     },
     "metadata": {},
     "output_type": "display_data"
    }
   ],
   "source": [
    "# Compute confusion matrix\n",
    "cnf_matrix = confusion_matrix(y_test, preds) \n",
    "np.set_printoptions(precision=2)\n",
    "\n",
    "# Plot non-normalized confusion matrix\n",
    "plt.figsize = (10, 10)\n",
    "plot_confusion_matrix(cnf_matrix, classes=class_names,\n",
    "                      title='Confusion matrix, without normalization')\n",
    "\n",
    "# Plot normalized confusion matrix\n",
    "plt.figsize = (10, 10)\n",
    "plot_confusion_matrix(cnf_matrix, classes=class_names, normalize=True,\n",
    "                      title='Normalized confusion matrix')"
   ]
  },
  {
   "cell_type": "code",
   "execution_count": null,
   "metadata": {},
   "outputs": [],
   "source": []
  },
  {
   "cell_type": "code",
   "execution_count": null,
   "metadata": {},
   "outputs": [],
   "source": []
  }
 ],
 "metadata": {
  "kernelspec": {
   "display_name": "Python 3",
   "language": "python",
   "name": "python3"
  },
  "language_info": {
   "codemirror_mode": {
    "name": "ipython",
    "version": 3
   },
   "file_extension": ".py",
   "mimetype": "text/x-python",
   "name": "python",
   "nbconvert_exporter": "python",
   "pygments_lexer": "ipython3",
   "version": "3.6.7"
  }
 },
 "nbformat": 4,
 "nbformat_minor": 2
}
